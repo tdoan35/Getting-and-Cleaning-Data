{
 "cells": [
  {
   "cell_type": "markdown",
   "metadata": {
    "deletable": true,
    "editable": true
   },
   "source": [
    "Week 1\n",
    "===\n",
    "This course covers the basic ideas behind getting data ready for analysis\n",
    "    - Finding and extracting raw data\n",
    "    - Tidy data principles and how to make data tiny\n",
    "    - Practical implementation through a range of R packages\n",
    "What this course depends on\n",
    "    - The Data Scientist's Toolkit\n",
    "    - R Programming\n",
    "    \n",
    "## The goal of this course\n",
    "<b>Raw data -> Processing script -> tidy data</b> -> data analysis -> data communication"
   ]
  },
  {
   "cell_type": "markdown",
   "metadata": {
    "deletable": true,
    "editable": true
   },
   "source": [
    "## Raw and Processed Data\n",
    "Definition of <b>data</b>\n",
    "\n",
    "\"Data are values of qualitative or quantitative variables, belonging to a set of items.\"\n",
    "\n",
    "Qualitative: Country of origin, sex, treatment \n",
    "Quantitative: Height, weight, blood pressure\n",
    "\n",
    "<b>Raw data</b>\n",
    "    - The original source of the data\n",
    "    - Often hard to use for data analyses\n",
    "    - Data analysis <i>includes</i> processing\n",
    "    - Raw data may only need to be processed once\n",
    "    \n",
    "<b>Processed data</b>\n",
    "    - Data that is ready for analysis\n",
    "    - Processing can include merging, subsetting, transforming, etc.\n",
    "    - There may be standards for processing\n",
    "    - All steps should be recorded"
   ]
  },
  {
   "cell_type": "markdown",
   "metadata": {
    "deletable": true,
    "editable": true
   },
   "source": [
    "## Components of Tidy Data\n",
    "### The four things you should have\n",
    "    1. The raw data\n",
    "    2. A tidy data set\n",
    "    3. A code book describing each variable and its values in the tidy data set.\n",
    "    4. An explicit and exact recipe that you used to go 1 -> 2,3\n",
    "    \n",
    "### The raw data\n",
    "    - The strange binary file your measurement machine spits out\n",
    "    - The unformatted Excel file with 10 worksheets the company you contracted with sent you\n",
    "    - The complicated JSON data you got from scraping the Twitter API\n",
    "    - The hand-entered numbers you collected looking through a microscope\n",
    "    \n",
    "<i>You know the raw data is in the right format if you </i>\n",
    "    1. Ran no software on the data\n",
    "    2. Did not manipulate any of the numbers in the data\n",
    "    3. you did not remove any data from the data set\n",
    "    4. you did not summarize the data in any way\n",
    "    \n",
    "### The tidy data\n",
    "    1. Each variable you measure should be in one column\n",
    "    2. Each different observation of that variable should be in a different row\n",
    "    3. There should be one table for each \"kind\" of variable\n",
    "    4. If you have multiple tables, they should include a column in the table that allows them to be linked\n",
    "    \n",
    "<i>Some other important tips</i>\n",
    "    - Include a row at the top of each file with variable names.\n",
    "    - Make variable names human readable AgeAtDiagnosis instead of AgeDx\n",
    "    - In general data should be saved in one file per table\n",
    "\n",
    "### The code book\n",
    "    1. Information about the variables (including units!) in the data set not contained in the tidy data\n",
    "    2. Information about the summary choices you made\n",
    "    3. Information about the experimental study design you used\n",
    "    \n",
    "<i>Some other important tips</i>\n",
    "    - A common format for this document is a Word/text file.\n",
    "    - There should be a section called \"Study design\" that has a thorough description of how you collected the data\n",
    "    - There must be a section called \"Code book\" that describes each variable and its units.\n",
    "    \n",
    "### The instruction list\n",
    "    - Ideally a computer script (R or Python)\n",
    "    - The input for the script is the raw data\n",
    "    - The output is the processed, tidy data\n",
    "    - There are no parameters to the script\n",
    "    \n",
    "In some cases it will not be possible to script every step. In that case you should provide instructions like:\n",
    "    1. Step 1 - take the raw file, run version 3.1.2 of summarize software with parameters a=1, b=2, c=3\n",
    "    2. Step 2 - run the software seperately for each sample\n",
    "    3. Step 3 - take column three of outputfile.out for each sample and that is the corresponding row in the output data set"
   ]
  },
  {
   "cell_type": "code",
   "execution_count": 1,
   "metadata": {
    "collapsed": false,
    "deletable": true,
    "editable": true
   },
   "outputs": [
    {
     "data": {
      "text/html": [
       "'/Users/thanhdoan/Desktop/Coursera/Getting and Cleaning Data'"
      ],
      "text/latex": [
       "'/Users/thanhdoan/Desktop/Coursera/Getting and Cleaning Data'"
      ],
      "text/markdown": [
       "'/Users/thanhdoan/Desktop/Coursera/Getting and Cleaning Data'"
      ],
      "text/plain": [
       "[1] \"/Users/thanhdoan/Desktop/Coursera/Getting and Cleaning Data\""
      ]
     },
     "metadata": {},
     "output_type": "display_data"
    }
   ],
   "source": [
    "getwd()"
   ]
  },
  {
   "cell_type": "markdown",
   "metadata": {
    "deletable": true,
    "editable": true
   },
   "source": [
    "## Downloading files\n",
    "### Get/set your working directory\n",
    "* A basic component of working with data is knowing your working directory\n",
    "* The two main commands are getwd() and setwd()\n",
    "* Be aware of relative versus absolute paths\n",
    "    - Relative - setwd(\"./data\"), setwd(\"../\")\n",
    "    - Absolute - setwd(\"/Users/Users/data/\")\n",
    "\n",
    "### Checking for and creating directories\n",
    "* file.exists(\"directoryName\") will check to see if the directory exists\n",
    "* dir.create(\"directoryName\") will create a directory if it doesn't exist\n",
    "\n",
    "### Getting data from the internet - download.file()\n",
    "* Downloads a file from the internet\n",
    "* Even if you could do this by hand, helps with reproducibility\n",
    "* Important parameters are <i>url, destfile, method</i>\n",
    "* Useful for downloading tab-delimited, csv, and other files\n",
    "\n",
    "Downloading a file from the web:"
   ]
  },
  {
   "cell_type": "code",
   "execution_count": 2,
   "metadata": {
    "collapsed": false,
    "deletable": true,
    "editable": true
   },
   "outputs": [
    {
     "data": {
      "text/html": [
       "<ol class=list-inline>\n",
       "\t<li>'cameras.csv'</li>\n",
       "\t<li>'cameras.xlsx'</li>\n",
       "</ol>\n"
      ],
      "text/latex": [
       "\\begin{enumerate*}\n",
       "\\item 'cameras.csv'\n",
       "\\item 'cameras.xlsx'\n",
       "\\end{enumerate*}\n"
      ],
      "text/markdown": [
       "1. 'cameras.csv'\n",
       "2. 'cameras.xlsx'\n",
       "\n",
       "\n"
      ],
      "text/plain": [
       "[1] \"cameras.csv\"  \"cameras.xlsx\""
      ]
     },
     "metadata": {},
     "output_type": "display_data"
    }
   ],
   "source": [
    "fileUrl <- \"http://data.baltimorecity.gov/api/views/dz54-2aru/rows.csv?accessType=DOWNLOAD\"\n",
    "download.file(fileUrl, destfile = \"./data/cameras.csv\", method = \"curl\")\n",
    "list.files(\"./data\")"
   ]
  },
  {
   "cell_type": "code",
   "execution_count": 3,
   "metadata": {
    "collapsed": false,
    "deletable": true,
    "editable": true
   },
   "outputs": [
    {
     "data": {
      "text/html": [
       "'Sat Mar 25 14:27:34 2017'"
      ],
      "text/latex": [
       "'Sat Mar 25 14:27:34 2017'"
      ],
      "text/markdown": [
       "'Sat Mar 25 14:27:34 2017'"
      ],
      "text/plain": [
       "[1] \"Sat Mar 25 14:27:34 2017\""
      ]
     },
     "metadata": {},
     "output_type": "display_data"
    }
   ],
   "source": [
    "dateDownloaded <- date()\n",
    "dateDownloaded"
   ]
  },
  {
   "cell_type": "markdown",
   "metadata": {
    "deletable": true,
    "editable": true
   },
   "source": [
    "### Some notes about download.file()\n",
    "* If the url starts with <i>http</i> you can use download.file()\n",
    "* If the url starts with <i>https</i> on Mac you may need to set method = \"curl\"\n",
    "* Be sure to record when you downloaded"
   ]
  },
  {
   "cell_type": "markdown",
   "metadata": {
    "deletable": true,
    "editable": true
   },
   "source": [
    "## Reading Local files\n",
    "### Loading flat files - read.table()\n",
    "* This is the main function for reading data into R\n",
    "* Flexible and robust be requires more parameters\n",
    "* Reads the data into RAM - big data can cause problems\n",
    "* Important parameters <i>file, header, sep, row.names, nrows</i>\n",
    "* Related: read.csv(), read.csv2()\n",
    "\n",
    "### Baltimore example"
   ]
  },
  {
   "cell_type": "code",
   "execution_count": 4,
   "metadata": {
    "collapsed": false,
    "deletable": true,
    "editable": true
   },
   "outputs": [
    {
     "ename": "ERROR",
     "evalue": "Error in scan(file = file, what = what, sep = sep, quote = quote, dec = dec, : line 1 did not have 13 elements\n",
     "output_type": "error",
     "traceback": [
      "Error in scan(file = file, what = what, sep = sep, quote = quote, dec = dec, : line 1 did not have 13 elements\nTraceback:\n",
      "1. read.table(\"./data/cameras.csv\")",
      "2. scan(file = file, what = what, sep = sep, quote = quote, dec = dec, \n .     nmax = nrows, skip = 0, na.strings = na.strings, quiet = TRUE, \n .     fill = fill, strip.white = strip.white, blank.lines.skip = blank.lines.skip, \n .     multi.line = FALSE, comment.char = comment.char, allowEscapes = allowEscapes, \n .     flush = flush, encoding = encoding, skipNul = skipNul)"
     ]
    }
   ],
   "source": [
    "cameraData <- read.table(\"./data/cameras.csv\")"
   ]
  },
  {
   "cell_type": "code",
   "execution_count": 5,
   "metadata": {
    "collapsed": false,
    "deletable": true,
    "editable": true
   },
   "outputs": [
    {
     "ename": "ERROR",
     "evalue": "Error in head(cameraData): object 'cameraData' not found\n",
     "output_type": "error",
     "traceback": [
      "Error in head(cameraData): object 'cameraData' not found\nTraceback:\n",
      "1. head(cameraData)"
     ]
    }
   ],
   "source": [
    "head(cameraData)"
   ]
  },
  {
   "cell_type": "markdown",
   "metadata": {
    "deletable": true,
    "editable": true
   },
   "source": [
    "Error is thrown because there are commas seperating; read.table searches for tabbed delimiters"
   ]
  },
  {
   "cell_type": "code",
   "execution_count": 6,
   "metadata": {
    "collapsed": false,
    "deletable": true,
    "editable": true
   },
   "outputs": [
    {
     "data": {
      "text/html": [
       "<table>\n",
       "<thead><tr><th scope=col>address</th><th scope=col>direction</th><th scope=col>street</th><th scope=col>crossStreet</th><th scope=col>intersection</th><th scope=col>Location.1</th></tr></thead>\n",
       "<tbody>\n",
       "\t<tr><td><span style=white-space:pre-wrap>S CATON AVE &amp; BENSON AVE      </span></td><td>N/B                                                                       </td><td><span style=white-space:pre-wrap>Caton Ave  </span>                       </td><td><span style=white-space:pre-wrap>Benson Ave  </span>                      </td><td><span style=white-space:pre-wrap>Caton Ave &amp; Benson Ave    </span>    </td><td>(39.2693779962, -76.6688185297)                                           </td></tr>\n",
       "\t<tr><td><span style=white-space:pre-wrap>S CATON AVE &amp; BENSON AVE      </span></td><td>S/B                                                                       </td><td><span style=white-space:pre-wrap>Caton Ave  </span>                       </td><td><span style=white-space:pre-wrap>Benson Ave  </span>                      </td><td><span style=white-space:pre-wrap>Caton Ave &amp; Benson Ave    </span>    </td><td>(39.2693157898, -76.6689698176)                                           </td></tr>\n",
       "\t<tr><td>WILKENS AVE &amp; PINE HEIGHTS AVE</td><td>E/B                               </td><td>Wilkens Ave                       </td><td>Pine Heights                      </td><td>Wilkens Ave &amp; Pine Heights    </td><td>(39.2720252302, -76.676960806)    </td></tr>\n",
       "\t<tr><td><span style=white-space:pre-wrap>THE ALAMEDA &amp; E 33RD ST       </span></td><td>S/B                                                                       </td><td>The Alameda                                                               </td><td><span style=white-space:pre-wrap>33rd St     </span>                      </td><td><span style=white-space:pre-wrap>The Alameda  &amp; 33rd St    </span>    </td><td>(39.3285013141, -76.5953545714)                                           </td></tr>\n",
       "\t<tr><td><span style=white-space:pre-wrap>E 33RD ST &amp; THE ALAMEDA       </span></td><td>E/B                                                                       </td><td><span style=white-space:pre-wrap>E 33rd     </span>                       </td><td>The Alameda                                                               </td><td><span style=white-space:pre-wrap>E 33rd  &amp; The Alameda     </span>    </td><td>(39.3283410623, -76.5953594625)                                           </td></tr>\n",
       "\t<tr><td><span style=white-space:pre-wrap>ERDMAN AVE &amp; N MACON ST       </span></td><td>E/B                                                                       </td><td><span style=white-space:pre-wrap>Erdman     </span>                       </td><td><span style=white-space:pre-wrap>Macon St    </span>                      </td><td><span style=white-space:pre-wrap>Erdman  &amp; Macon St        </span>    </td><td>(39.3068045671, -76.5593167803)                                           </td></tr>\n",
       "\t<tr><td><span style=white-space:pre-wrap>ERDMAN AVE &amp; N MACON ST       </span></td><td>W/B                                                                       </td><td><span style=white-space:pre-wrap>Erdman     </span>                       </td><td><span style=white-space:pre-wrap>Macon St    </span>                      </td><td><span style=white-space:pre-wrap>Erdman  &amp; Macon St        </span>    </td><td>(39.306966535, -76.5593122365)                                            </td></tr>\n",
       "\t<tr><td><span style=white-space:pre-wrap>N CHARLES ST &amp; E LAKE AVE     </span></td><td>S/B                                                                       </td><td><span style=white-space:pre-wrap>Charles    </span>                       </td><td><span style=white-space:pre-wrap>Lake Ave    </span>                      </td><td><span style=white-space:pre-wrap>Charles &amp; Lake Ave        </span>    </td><td>(39.3690535299, -76.625826716)                                            </td></tr>\n",
       "\t<tr><td><span style=white-space:pre-wrap>E MADISON ST &amp; N CAROLINE ST  </span></td><td>W/B                                                                       </td><td><span style=white-space:pre-wrap>Madison    </span>                       </td><td>Caroline St                                                               </td><td><span style=white-space:pre-wrap>Madison  &amp; Caroline St    </span>    </td><td>(39.2993257666, -76.5976760827)                                           </td></tr>\n",
       "\t<tr><td><span style=white-space:pre-wrap>ORLEANS ST &amp; N LINWOOD AVE    </span></td><td>E/B                                                                       </td><td><span style=white-space:pre-wrap>Orleans    </span>                       </td><td>Linwood Ave                                                               </td><td><span style=white-space:pre-wrap>Orleans   &amp; Linwood Ave   </span>    </td><td>(39.2958661981, -76.5764270078)                                           </td></tr>\n",
       "</tbody>\n",
       "</table>\n"
      ],
      "text/latex": [
       "\\begin{tabular}{r|llllll}\n",
       " address & direction & street & crossStreet & intersection & Location.1\\\\\n",
       "\\hline\n",
       "\t S CATON AVE \\& BENSON AVE       & N/B                              & Caton Ave                        & Benson Ave                       & Caton Ave \\& Benson Ave         & (39.2693779962, -76.6688185297) \\\\\n",
       "\t S CATON AVE \\& BENSON AVE       & S/B                              & Caton Ave                        & Benson Ave                       & Caton Ave \\& Benson Ave         & (39.2693157898, -76.6689698176) \\\\\n",
       "\t WILKENS AVE \\& PINE HEIGHTS AVE & E/B                              & Wilkens Ave                      & Pine Heights                     & Wilkens Ave \\& Pine Heights     & (39.2720252302, -76.676960806)  \\\\\n",
       "\t THE ALAMEDA \\& E 33RD ST        & S/B                              & The Alameda                      & 33rd St                          & The Alameda  \\& 33rd St         & (39.3285013141, -76.5953545714) \\\\\n",
       "\t E 33RD ST \\& THE ALAMEDA        & E/B                              & E 33rd                           & The Alameda                      & E 33rd  \\& The Alameda          & (39.3283410623, -76.5953594625) \\\\\n",
       "\t ERDMAN AVE \\& N MACON ST        & E/B                              & Erdman                           & Macon St                         & Erdman  \\& Macon St             & (39.3068045671, -76.5593167803) \\\\\n",
       "\t ERDMAN AVE \\& N MACON ST        & W/B                              & Erdman                           & Macon St                         & Erdman  \\& Macon St             & (39.306966535, -76.5593122365)  \\\\\n",
       "\t N CHARLES ST \\& E LAKE AVE      & S/B                              & Charles                          & Lake Ave                         & Charles \\& Lake Ave             & (39.3690535299, -76.625826716)  \\\\\n",
       "\t E MADISON ST \\& N CAROLINE ST   & W/B                              & Madison                          & Caroline St                      & Madison  \\& Caroline St         & (39.2993257666, -76.5976760827) \\\\\n",
       "\t ORLEANS ST \\& N LINWOOD AVE     & E/B                              & Orleans                          & Linwood Ave                      & Orleans   \\& Linwood Ave        & (39.2958661981, -76.5764270078) \\\\\n",
       "\\end{tabular}\n"
      ],
      "text/markdown": [
       "\n",
       "address | direction | street | crossStreet | intersection | Location.1 | \n",
       "|---|---|---|---|---|---|---|---|---|---|\n",
       "| S CATON AVE & BENSON AVE        | N/B                             | Caton Ave                       | Benson Ave                      | Caton Ave & Benson Ave          | (39.2693779962, -76.6688185297) | \n",
       "| S CATON AVE & BENSON AVE        | S/B                             | Caton Ave                       | Benson Ave                      | Caton Ave & Benson Ave          | (39.2693157898, -76.6689698176) | \n",
       "| WILKENS AVE & PINE HEIGHTS AVE  | E/B                             | Wilkens Ave                     | Pine Heights                    | Wilkens Ave & Pine Heights      | (39.2720252302, -76.676960806)  | \n",
       "| THE ALAMEDA & E 33RD ST         | S/B                             | The Alameda                     | 33rd St                         | The Alameda  & 33rd St          | (39.3285013141, -76.5953545714) | \n",
       "| E 33RD ST & THE ALAMEDA         | E/B                             | E 33rd                          | The Alameda                     | E 33rd  & The Alameda           | (39.3283410623, -76.5953594625) | \n",
       "| ERDMAN AVE & N MACON ST         | E/B                             | Erdman                          | Macon St                        | Erdman  & Macon St              | (39.3068045671, -76.5593167803) | \n",
       "| ERDMAN AVE & N MACON ST         | W/B                             | Erdman                          | Macon St                        | Erdman  & Macon St              | (39.306966535, -76.5593122365)  | \n",
       "| N CHARLES ST & E LAKE AVE       | S/B                             | Charles                         | Lake Ave                        | Charles & Lake Ave              | (39.3690535299, -76.625826716)  | \n",
       "| E MADISON ST & N CAROLINE ST    | W/B                             | Madison                         | Caroline St                     | Madison  & Caroline St          | (39.2993257666, -76.5976760827) | \n",
       "| ORLEANS ST & N LINWOOD AVE      | E/B                             | Orleans                         | Linwood Ave                     | Orleans   & Linwood Ave         | (39.2958661981, -76.5764270078) | \n",
       "\n",
       "\n"
      ],
      "text/plain": [
       "   address                        direction street      crossStreet \n",
       "1  S CATON AVE & BENSON AVE       N/B       Caton Ave   Benson Ave  \n",
       "2  S CATON AVE & BENSON AVE       S/B       Caton Ave   Benson Ave  \n",
       "3  WILKENS AVE & PINE HEIGHTS AVE E/B       Wilkens Ave Pine Heights\n",
       "4  THE ALAMEDA & E 33RD ST        S/B       The Alameda 33rd St     \n",
       "5  E 33RD ST & THE ALAMEDA        E/B       E 33rd      The Alameda \n",
       "6  ERDMAN AVE & N MACON ST        E/B       Erdman      Macon St    \n",
       "7  ERDMAN AVE & N MACON ST        W/B       Erdman      Macon St    \n",
       "8  N CHARLES ST & E LAKE AVE      S/B       Charles     Lake Ave    \n",
       "9  E MADISON ST & N CAROLINE ST   W/B       Madison     Caroline St \n",
       "10 ORLEANS ST & N LINWOOD AVE     E/B       Orleans     Linwood Ave \n",
       "   intersection               Location.1                     \n",
       "1  Caton Ave & Benson Ave     (39.2693779962, -76.6688185297)\n",
       "2  Caton Ave & Benson Ave     (39.2693157898, -76.6689698176)\n",
       "3  Wilkens Ave & Pine Heights (39.2720252302, -76.676960806) \n",
       "4  The Alameda  & 33rd St     (39.3285013141, -76.5953545714)\n",
       "5  E 33rd  & The Alameda      (39.3283410623, -76.5953594625)\n",
       "6  Erdman  & Macon St         (39.3068045671, -76.5593167803)\n",
       "7  Erdman  & Macon St         (39.306966535, -76.5593122365) \n",
       "8  Charles & Lake Ave         (39.3690535299, -76.625826716) \n",
       "9  Madison  & Caroline St     (39.2993257666, -76.5976760827)\n",
       "10 Orleans   & Linwood Ave    (39.2958661981, -76.5764270078)"
      ]
     },
     "metadata": {},
     "output_type": "display_data"
    }
   ],
   "source": [
    "cameraData <- read.table(\"./data/cameras.csv\", sep = \",\", header = TRUE)\n",
    "head(cameraData, n=10)\n",
    "\n",
    "#read.csv sets sep=\",\" and header=TRUE"
   ]
  },
  {
   "cell_type": "markdown",
   "metadata": {
    "deletable": true,
    "editable": true
   },
   "source": [
    "### Some more important parameters\n",
    "* quote - you can tell R whether there are any quoted values quote = \"\" means no quotes.\n",
    "* na.strings - set the character that represents a missing value.\n",
    "* nrows - how many rows to read of the file\n",
    "* skip - number of lines to skip before starting to read\n",
    "\n",
    "In my experience, the biggest trouble with reading flat files are quotation marks ' or \" placed in data values, setting quote=\"\" often resolves these."
   ]
  },
  {
   "cell_type": "markdown",
   "metadata": {
    "deletable": true,
    "editable": true
   },
   "source": [
    "## Reading Excel Files\n",
    "Excel files are still probably the most widely used format for sharing data\n",
    "\n",
    "Downloading the Excel version of the cameras dataset:"
   ]
  },
  {
   "cell_type": "code",
   "execution_count": 7,
   "metadata": {
    "collapsed": false,
    "deletable": true,
    "editable": true
   },
   "outputs": [
    {
     "data": {
      "text/html": [
       "'Sat Mar 25 14:27:54 2017'"
      ],
      "text/latex": [
       "'Sat Mar 25 14:27:54 2017'"
      ],
      "text/markdown": [
       "'Sat Mar 25 14:27:54 2017'"
      ],
      "text/plain": [
       "[1] \"Sat Mar 25 14:27:54 2017\""
      ]
     },
     "metadata": {},
     "output_type": "display_data"
    }
   ],
   "source": [
    "download.file(fileUrl, destfile=\"./data/cameras.xlsx\", method=\"curl\")\n",
    "dateDownloaded <- date()\n",
    "dateDownloaded"
   ]
  },
  {
   "cell_type": "code",
   "execution_count": 8,
   "metadata": {
    "collapsed": false,
    "deletable": true,
    "editable": true
   },
   "outputs": [
    {
     "name": "stderr",
     "output_type": "stream",
     "text": [
      "Loading required package: rJava\n",
      "Loading required package: xlsxjars\n"
     ]
    },
    {
     "ename": "ERROR",
     "evalue": "Error in .jcall(\"RJavaTools\", \"Ljava/lang/Object;\", \"invokeMethod\", cl, : java.lang.IllegalArgumentException: Your InputStream was neither an OLE2 stream, nor an OOXML stream\n",
     "output_type": "error",
     "traceback": [
      "Error in .jcall(\"RJavaTools\", \"Ljava/lang/Object;\", \"invokeMethod\", cl, : java.lang.IllegalArgumentException: Your InputStream was neither an OLE2 stream, nor an OOXML stream\nTraceback:\n",
      "1. read.xlsx(\"./data/cameras.xlsx\", sheetIndex = 1, header = TRUE)",
      "2. loadWorkbook(file)",
      "3. wbFactory$create(inputStream)",
      "4. .jrcall(x, name, ...)",
      "5. .jcall(\"RJavaTools\", \"Ljava/lang/Object;\", \"invokeMethod\", cl, \n .     .jcast(if (inherits(o, \"jobjRef\") || inherits(o, \"jarrayRef\")) o else cl, \n .         \"java/lang/Object\"), .jnew(\"java/lang/String\", method), \n .     j_p, j_pc, use.true.class = TRUE, evalString = simplify, \n .     evalArray = FALSE)",
      "6. .jcheck(silent = FALSE)"
     ]
    }
   ],
   "source": [
    "library(xlsx)\n",
    "cameraData <- read.xlsx(\"./data/cameras.xlsx\", sheetIndex = 1, header = TRUE)\n",
    "head(cameraData)"
   ]
  },
  {
   "cell_type": "markdown",
   "metadata": {
    "collapsed": true,
    "deletable": true,
    "editable": true
   },
   "source": [
    "### Reading specific rows and columns\n",
    "You can read specific rows and columns. In this example you only read columns 2 and 3, and rows 1 through 4."
   ]
  },
  {
   "cell_type": "code",
   "execution_count": null,
   "metadata": {
    "collapsed": true,
    "deletable": true,
    "editable": true
   },
   "outputs": [],
   "source": [
    "colIndex <- 2:3\n",
    "rowIndex <- 1:4\n",
    "cameraDataSubset <- read.xlsx(\"./data/cameras.xlsx\", sheetIndex=1, colIndex=colIndex, rowIndex=rowIndex)\n",
    "cameraDataSubset"
   ]
  },
  {
   "cell_type": "markdown",
   "metadata": {
    "deletable": true,
    "editable": true
   },
   "source": [
    "### Further notes\n",
    "* The write.xlsx function will write out an Excel file with similar arguments\n",
    "* read.xlsx2 is much faster than read.xlsx but for reading subsets of rows may be slightly unstable.\n",
    "* The XLConnect package has more options for writing and manipulating Excel files\n",
    "* The XLConnect vignette is a good place to start for that package\n",
    "* In general it is advised to store your data in either a database or in comma seperated files (.csv) or tab separated files (.tab/.txt) as they are easier to distribute."
   ]
  },
  {
   "cell_type": "markdown",
   "metadata": {
    "deletable": true,
    "editable": true
   },
   "source": [
    "## Reading XML\n",
    "### XML\n",
    "* Extensible markup language\n",
    "* Frequently used to store structured data\n",
    "* Particularly widely used in internet applications\n",
    "* Extracting XML is the basis for most web scraping\n",
    "* Components:\n",
    "    - Markup - labels that give the text structure\n",
    "    - Content - actual text of the document\n",
    "\n",
    "### Tags, elements and attributes\n",
    "* Tags correspond to general labels\n",
    "    - Start tags <section\n",
    "    - End tags </section\n",
    "    - Empty tags \n",
    "* Elements are specific examples of tags\n",
    "    - <Greeting Hello, world </Greeting\n",
    "* Attributes are components of the label\n",
    "    - <img src=\"me.jpg\" alt=\"student\"/\n",
    "    - <step number=\"3\" Connect A to B. </step\n",
    "\n",
    "http://www.w3schools.com/xml/simple.xml"
   ]
  },
  {
   "cell_type": "code",
   "execution_count": 9,
   "metadata": {
    "collapsed": false,
    "deletable": true,
    "editable": true
   },
   "outputs": [
    {
     "data": {
      "text/html": [
       "'breakfast_menu'"
      ],
      "text/latex": [
       "'breakfast\\_menu'"
      ],
      "text/markdown": [
       "'breakfast_menu'"
      ],
      "text/plain": [
       "[1] \"breakfast_menu\""
      ]
     },
     "metadata": {},
     "output_type": "display_data"
    }
   ],
   "source": [
    "library(XML)\n",
    "fileUrl <- \"./data/simple.xml\"\n",
    "doc <- xmlTreeParse(fileUrl, useInternal=TRUE)\n",
    "rootNode <- xmlRoot(doc)\n",
    "xmlName(rootNode)"
   ]
  },
  {
   "cell_type": "code",
   "execution_count": 10,
   "metadata": {
    "collapsed": false,
    "deletable": true,
    "editable": true
   },
   "outputs": [
    {
     "data": {
      "text/html": [
       "<dl class=dl-horizontal>\n",
       "\t<dt>food</dt>\n",
       "\t\t<dd>'food'</dd>\n",
       "\t<dt>food</dt>\n",
       "\t\t<dd>'food'</dd>\n",
       "\t<dt>food</dt>\n",
       "\t\t<dd>'food'</dd>\n",
       "\t<dt>food</dt>\n",
       "\t\t<dd>'food'</dd>\n",
       "\t<dt>food</dt>\n",
       "\t\t<dd>'food'</dd>\n",
       "</dl>\n"
      ],
      "text/latex": [
       "\\begin{description*}\n",
       "\\item[food] 'food'\n",
       "\\item[food] 'food'\n",
       "\\item[food] 'food'\n",
       "\\item[food] 'food'\n",
       "\\item[food] 'food'\n",
       "\\end{description*}\n"
      ],
      "text/markdown": [
       "food\n",
       ":   'food'food\n",
       ":   'food'food\n",
       ":   'food'food\n",
       ":   'food'food\n",
       ":   'food'\n",
       "\n"
      ],
      "text/plain": [
       "  food   food   food   food   food \n",
       "\"food\" \"food\" \"food\" \"food\" \"food\" "
      ]
     },
     "metadata": {},
     "output_type": "display_data"
    }
   ],
   "source": [
    "names(rootNode)"
   ]
  },
  {
   "cell_type": "markdown",
   "metadata": {
    "deletable": true,
    "editable": true
   },
   "source": [
    "### Directly access parts of the XML document"
   ]
  },
  {
   "cell_type": "code",
   "execution_count": 11,
   "metadata": {
    "collapsed": false,
    "deletable": true,
    "editable": true
   },
   "outputs": [
    {
     "data": {
      "text/plain": [
       "<food>\n",
       "  <name>Belgian Waffles</name>\n",
       "  <price>$5.95</price>\n",
       "  <description>Two of our famous Belgian Waffles with plenty of real maple syrup</description>\n",
       "  <calories>650</calories>\n",
       "</food> "
      ]
     },
     "metadata": {},
     "output_type": "display_data"
    }
   ],
   "source": [
    "rootNode[[1]]"
   ]
  },
  {
   "cell_type": "code",
   "execution_count": 12,
   "metadata": {
    "collapsed": false,
    "deletable": true,
    "editable": true
   },
   "outputs": [
    {
     "data": {
      "text/plain": [
       "<name>Belgian Waffles</name> "
      ]
     },
     "metadata": {},
     "output_type": "display_data"
    }
   ],
   "source": [
    "rootNode[[1]][[1]]"
   ]
  },
  {
   "cell_type": "markdown",
   "metadata": {
    "deletable": true,
    "editable": true
   },
   "source": [
    "### Programatically extract parts of the file"
   ]
  },
  {
   "cell_type": "code",
   "execution_count": 13,
   "metadata": {
    "collapsed": false,
    "deletable": true,
    "editable": true
   },
   "outputs": [
    {
     "data": {
      "text/html": [
       "<dl class=dl-horizontal>\n",
       "\t<dt>food</dt>\n",
       "\t\t<dd>'Belgian Waffles$5.95Two of our famous Belgian Waffles with plenty of real maple syrup650'</dd>\n",
       "\t<dt>food</dt>\n",
       "\t\t<dd>'Strawberry Belgian Waffles$7.95Light Belgian waffles covered with strawberries and whipped cream900'</dd>\n",
       "\t<dt>food</dt>\n",
       "\t\t<dd>'Berry-Berry Belgian Waffles$8.95Light Belgian waffles covered with an assortment of fresh berries and whipped cream900'</dd>\n",
       "\t<dt>food</dt>\n",
       "\t\t<dd>'French Toast$4.50Thick slices made from our homemade sourdough bread600'</dd>\n",
       "\t<dt>food</dt>\n",
       "\t\t<dd>'Homestyle Breakfast$6.95Two eggs, bacon or sausage, toast, and our ever-popular hash browns950'</dd>\n",
       "</dl>\n"
      ],
      "text/latex": [
       "\\begin{description*}\n",
       "\\item[food] 'Belgian Waffles\\$5.95Two of our famous Belgian Waffles with plenty of real maple syrup650'\n",
       "\\item[food] 'Strawberry Belgian Waffles\\$7.95Light Belgian waffles covered with strawberries and whipped cream900'\n",
       "\\item[food] 'Berry-Berry Belgian Waffles\\$8.95Light Belgian waffles covered with an assortment of fresh berries and whipped cream900'\n",
       "\\item[food] 'French Toast\\$4.50Thick slices made from our homemade sourdough bread600'\n",
       "\\item[food] 'Homestyle Breakfast\\$6.95Two eggs, bacon or sausage, toast, and our ever-popular hash browns950'\n",
       "\\end{description*}\n"
      ],
      "text/markdown": [
       "food\n",
       ":   'Belgian Waffles$5.95Two of our famous Belgian Waffles with plenty of real maple syrup650'food\n",
       ":   'Strawberry Belgian Waffles$7.95Light Belgian waffles covered with strawberries and whipped cream900'food\n",
       ":   'Berry-Berry Belgian Waffles$8.95Light Belgian waffles covered with an assortment of fresh berries and whipped cream900'food\n",
       ":   'French Toast$4.50Thick slices made from our homemade sourdough bread600'food\n",
       ":   'Homestyle Breakfast$6.95Two eggs, bacon or sausage, toast, and our ever-popular hash browns950'\n",
       "\n"
      ],
      "text/plain": [
       "                                                                                                                    food \n",
       "                              \"Belgian Waffles$5.95Two of our famous Belgian Waffles with plenty of real maple syrup650\" \n",
       "                                                                                                                    food \n",
       "                   \"Strawberry Belgian Waffles$7.95Light Belgian waffles covered with strawberries and whipped cream900\" \n",
       "                                                                                                                    food \n",
       "\"Berry-Berry Belgian Waffles$8.95Light Belgian waffles covered with an assortment of fresh berries and whipped cream900\" \n",
       "                                                                                                                    food \n",
       "                                               \"French Toast$4.50Thick slices made from our homemade sourdough bread600\" \n",
       "                                                                                                                    food \n",
       "                        \"Homestyle Breakfast$6.95Two eggs, bacon or sausage, toast, and our ever-popular hash browns950\" "
      ]
     },
     "metadata": {},
     "output_type": "display_data"
    }
   ],
   "source": [
    "xmlSApply(rootNode, xmlValue)"
   ]
  },
  {
   "cell_type": "markdown",
   "metadata": {
    "deletable": true,
    "editable": true
   },
   "source": [
    "### XPath\n",
    "* /node Top level node\n",
    "* //node Node at any level\n",
    "* node[@attr-name] Node with an attribute name\n",
    "* node[@attr-name='bob'] Node with attribute name attr-name='bob'\n",
    "\n",
    "http://www.stat.berkeley.edu/\n",
    "\n",
    "### Get the items on the menu and prices"
   ]
  },
  {
   "cell_type": "code",
   "execution_count": 14,
   "metadata": {
    "collapsed": false,
    "deletable": true,
    "editable": true
   },
   "outputs": [
    {
     "data": {
      "text/html": [
       "<ol class=list-inline>\n",
       "\t<li>'Belgian Waffles'</li>\n",
       "\t<li>'Strawberry Belgian Waffles'</li>\n",
       "\t<li>'Berry-Berry Belgian Waffles'</li>\n",
       "\t<li>'French Toast'</li>\n",
       "\t<li>'Homestyle Breakfast'</li>\n",
       "</ol>\n"
      ],
      "text/latex": [
       "\\begin{enumerate*}\n",
       "\\item 'Belgian Waffles'\n",
       "\\item 'Strawberry Belgian Waffles'\n",
       "\\item 'Berry-Berry Belgian Waffles'\n",
       "\\item 'French Toast'\n",
       "\\item 'Homestyle Breakfast'\n",
       "\\end{enumerate*}\n"
      ],
      "text/markdown": [
       "1. 'Belgian Waffles'\n",
       "2. 'Strawberry Belgian Waffles'\n",
       "3. 'Berry-Berry Belgian Waffles'\n",
       "4. 'French Toast'\n",
       "5. 'Homestyle Breakfast'\n",
       "\n",
       "\n"
      ],
      "text/plain": [
       "[1] \"Belgian Waffles\"             \"Strawberry Belgian Waffles\" \n",
       "[3] \"Berry-Berry Belgian Waffles\" \"French Toast\"               \n",
       "[5] \"Homestyle Breakfast\"        "
      ]
     },
     "metadata": {},
     "output_type": "display_data"
    }
   ],
   "source": [
    "xpathSApply(rootNode,\"//name\",xmlValue)"
   ]
  },
  {
   "cell_type": "code",
   "execution_count": 15,
   "metadata": {
    "collapsed": false,
    "deletable": true,
    "editable": true
   },
   "outputs": [
    {
     "data": {
      "text/html": [
       "<ol class=list-inline>\n",
       "\t<li>'$5.95'</li>\n",
       "\t<li>'$7.95'</li>\n",
       "\t<li>'$8.95'</li>\n",
       "\t<li>'$4.50'</li>\n",
       "\t<li>'$6.95'</li>\n",
       "</ol>\n"
      ],
      "text/latex": [
       "\\begin{enumerate*}\n",
       "\\item '\\$5.95'\n",
       "\\item '\\$7.95'\n",
       "\\item '\\$8.95'\n",
       "\\item '\\$4.50'\n",
       "\\item '\\$6.95'\n",
       "\\end{enumerate*}\n"
      ],
      "text/markdown": [
       "1. '$5.95'\n",
       "2. '$7.95'\n",
       "3. '$8.95'\n",
       "4. '$4.50'\n",
       "5. '$6.95'\n",
       "\n",
       "\n"
      ],
      "text/plain": [
       "[1] \"$5.95\" \"$7.95\" \"$8.95\" \"$4.50\" \"$6.95\""
      ]
     },
     "metadata": {},
     "output_type": "display_data"
    }
   ],
   "source": [
    "xpathSApply(rootNode,\"//price\",xmlValue)"
   ]
  },
  {
   "cell_type": "markdown",
   "metadata": {
    "deletable": true,
    "editable": true
   },
   "source": [
    "### Another example\n",
    "http://espn.go.com/nfl/team/_/name/bal/baltimore-ravens"
   ]
  },
  {
   "cell_type": "code",
   "execution_count": 18,
   "metadata": {
    "collapsed": false,
    "deletable": true,
    "editable": true
   },
   "outputs": [
    {
     "data": {
      "text/html": [
       "<ol>\n",
       "</ol>\n"
      ],
      "text/latex": [
       "\\begin{enumerate}\n",
       "\\end{enumerate}\n"
      ],
      "text/markdown": [
       "\n",
       "\n"
      ],
      "text/plain": [
       "list()"
      ]
     },
     "metadata": {},
     "output_type": "display_data"
    }
   ],
   "source": [
    "fileUrl <- \"http://espn.go.com/nfl/team/_/name/bal/baltimore-ravens\"\n",
    "doc <- htmlTreeParse(fileUrl, useInternal=TRUE)\n",
    "scores <- xpathSApply(doc,\"//li[@class='score']\",xmlValue)\n",
    "teams <- xpathSApply(doc,\"//li[@teams='team-name']\",xmlValue)\n",
    "scores"
   ]
  },
  {
   "cell_type": "code",
   "execution_count": 19,
   "metadata": {
    "collapsed": false,
    "deletable": true,
    "editable": true
   },
   "outputs": [
    {
     "data": {
      "text/html": [
       "<ol>\n",
       "</ol>\n"
      ],
      "text/latex": [
       "\\begin{enumerate}\n",
       "\\end{enumerate}\n"
      ],
      "text/markdown": [
       "\n",
       "\n"
      ],
      "text/plain": [
       "list()"
      ]
     },
     "metadata": {},
     "output_type": "display_data"
    }
   ],
   "source": [
    "teams"
   ]
  },
  {
   "cell_type": "markdown",
   "metadata": {
    "deletable": true,
    "editable": true
   },
   "source": [
    "## Reading JSON\n",
    "### JSON\n",
    "* Javascript Object Notation\n",
    "* Lightweight data storage\n",
    "* Common format for data from application programming interfaces (APIs)\n",
    "* Similar structure to XML but different syntax/format\n",
    "* Data stored as\n",
    "    - Numbers (double)\n",
    "    - Strings (double quoted)\n",
    "    - Boolean (true or false)\n",
    "    - Array (ordered [])\n",
    "    - Object (unordered{})\n",
    "\n",
    "https://en.wikipedia.org/wiki/JSON\n",
    "\n",
    "### Example JSON file\n",
    "https://api.github.com/users/jtleek/repos"
   ]
  },
  {
   "cell_type": "code",
   "execution_count": 20,
   "metadata": {
    "collapsed": false,
    "deletable": true,
    "editable": true
   },
   "outputs": [
    {
     "data": {
      "text/html": [
       "<ol class=list-inline>\n",
       "\t<li>'id'</li>\n",
       "\t<li>'name'</li>\n",
       "\t<li>'full_name'</li>\n",
       "\t<li>'owner'</li>\n",
       "\t<li>'private'</li>\n",
       "\t<li>'html_url'</li>\n",
       "\t<li>'description'</li>\n",
       "\t<li>'fork'</li>\n",
       "\t<li>'url'</li>\n",
       "\t<li>'forks_url'</li>\n",
       "\t<li>'keys_url'</li>\n",
       "\t<li>'collaborators_url'</li>\n",
       "\t<li>'teams_url'</li>\n",
       "\t<li>'hooks_url'</li>\n",
       "\t<li>'issue_events_url'</li>\n",
       "\t<li>'events_url'</li>\n",
       "\t<li>'assignees_url'</li>\n",
       "\t<li>'branches_url'</li>\n",
       "\t<li>'tags_url'</li>\n",
       "\t<li>'blobs_url'</li>\n",
       "\t<li>'git_tags_url'</li>\n",
       "\t<li>'git_refs_url'</li>\n",
       "\t<li>'trees_url'</li>\n",
       "\t<li>'statuses_url'</li>\n",
       "\t<li>'languages_url'</li>\n",
       "\t<li>'stargazers_url'</li>\n",
       "\t<li>'contributors_url'</li>\n",
       "\t<li>'subscribers_url'</li>\n",
       "\t<li>'subscription_url'</li>\n",
       "\t<li>'commits_url'</li>\n",
       "\t<li>'git_commits_url'</li>\n",
       "\t<li>'comments_url'</li>\n",
       "\t<li>'issue_comment_url'</li>\n",
       "\t<li>'contents_url'</li>\n",
       "\t<li>'compare_url'</li>\n",
       "\t<li>'merges_url'</li>\n",
       "\t<li>'archive_url'</li>\n",
       "\t<li>'downloads_url'</li>\n",
       "\t<li>'issues_url'</li>\n",
       "\t<li>'pulls_url'</li>\n",
       "\t<li>'milestones_url'</li>\n",
       "\t<li>'notifications_url'</li>\n",
       "\t<li>'labels_url'</li>\n",
       "\t<li>'releases_url'</li>\n",
       "\t<li>'deployments_url'</li>\n",
       "\t<li>'created_at'</li>\n",
       "\t<li>'updated_at'</li>\n",
       "\t<li>'pushed_at'</li>\n",
       "\t<li>'git_url'</li>\n",
       "\t<li>'ssh_url'</li>\n",
       "\t<li>'clone_url'</li>\n",
       "\t<li>'svn_url'</li>\n",
       "\t<li>'homepage'</li>\n",
       "\t<li>'size'</li>\n",
       "\t<li>'stargazers_count'</li>\n",
       "\t<li>'watchers_count'</li>\n",
       "\t<li>'language'</li>\n",
       "\t<li>'has_issues'</li>\n",
       "\t<li>'has_downloads'</li>\n",
       "\t<li>'has_wiki'</li>\n",
       "\t<li>'has_pages'</li>\n",
       "\t<li>'forks_count'</li>\n",
       "\t<li>'mirror_url'</li>\n",
       "\t<li>'open_issues_count'</li>\n",
       "\t<li>'forks'</li>\n",
       "\t<li>'open_issues'</li>\n",
       "\t<li>'watchers'</li>\n",
       "\t<li>'default_branch'</li>\n",
       "</ol>\n"
      ],
      "text/latex": [
       "\\begin{enumerate*}\n",
       "\\item 'id'\n",
       "\\item 'name'\n",
       "\\item 'full\\_name'\n",
       "\\item 'owner'\n",
       "\\item 'private'\n",
       "\\item 'html\\_url'\n",
       "\\item 'description'\n",
       "\\item 'fork'\n",
       "\\item 'url'\n",
       "\\item 'forks\\_url'\n",
       "\\item 'keys\\_url'\n",
       "\\item 'collaborators\\_url'\n",
       "\\item 'teams\\_url'\n",
       "\\item 'hooks\\_url'\n",
       "\\item 'issue\\_events\\_url'\n",
       "\\item 'events\\_url'\n",
       "\\item 'assignees\\_url'\n",
       "\\item 'branches\\_url'\n",
       "\\item 'tags\\_url'\n",
       "\\item 'blobs\\_url'\n",
       "\\item 'git\\_tags\\_url'\n",
       "\\item 'git\\_refs\\_url'\n",
       "\\item 'trees\\_url'\n",
       "\\item 'statuses\\_url'\n",
       "\\item 'languages\\_url'\n",
       "\\item 'stargazers\\_url'\n",
       "\\item 'contributors\\_url'\n",
       "\\item 'subscribers\\_url'\n",
       "\\item 'subscription\\_url'\n",
       "\\item 'commits\\_url'\n",
       "\\item 'git\\_commits\\_url'\n",
       "\\item 'comments\\_url'\n",
       "\\item 'issue\\_comment\\_url'\n",
       "\\item 'contents\\_url'\n",
       "\\item 'compare\\_url'\n",
       "\\item 'merges\\_url'\n",
       "\\item 'archive\\_url'\n",
       "\\item 'downloads\\_url'\n",
       "\\item 'issues\\_url'\n",
       "\\item 'pulls\\_url'\n",
       "\\item 'milestones\\_url'\n",
       "\\item 'notifications\\_url'\n",
       "\\item 'labels\\_url'\n",
       "\\item 'releases\\_url'\n",
       "\\item 'deployments\\_url'\n",
       "\\item 'created\\_at'\n",
       "\\item 'updated\\_at'\n",
       "\\item 'pushed\\_at'\n",
       "\\item 'git\\_url'\n",
       "\\item 'ssh\\_url'\n",
       "\\item 'clone\\_url'\n",
       "\\item 'svn\\_url'\n",
       "\\item 'homepage'\n",
       "\\item 'size'\n",
       "\\item 'stargazers\\_count'\n",
       "\\item 'watchers\\_count'\n",
       "\\item 'language'\n",
       "\\item 'has\\_issues'\n",
       "\\item 'has\\_downloads'\n",
       "\\item 'has\\_wiki'\n",
       "\\item 'has\\_pages'\n",
       "\\item 'forks\\_count'\n",
       "\\item 'mirror\\_url'\n",
       "\\item 'open\\_issues\\_count'\n",
       "\\item 'forks'\n",
       "\\item 'open\\_issues'\n",
       "\\item 'watchers'\n",
       "\\item 'default\\_branch'\n",
       "\\end{enumerate*}\n"
      ],
      "text/markdown": [
       "1. 'id'\n",
       "2. 'name'\n",
       "3. 'full_name'\n",
       "4. 'owner'\n",
       "5. 'private'\n",
       "6. 'html_url'\n",
       "7. 'description'\n",
       "8. 'fork'\n",
       "9. 'url'\n",
       "10. 'forks_url'\n",
       "11. 'keys_url'\n",
       "12. 'collaborators_url'\n",
       "13. 'teams_url'\n",
       "14. 'hooks_url'\n",
       "15. 'issue_events_url'\n",
       "16. 'events_url'\n",
       "17. 'assignees_url'\n",
       "18. 'branches_url'\n",
       "19. 'tags_url'\n",
       "20. 'blobs_url'\n",
       "21. 'git_tags_url'\n",
       "22. 'git_refs_url'\n",
       "23. 'trees_url'\n",
       "24. 'statuses_url'\n",
       "25. 'languages_url'\n",
       "26. 'stargazers_url'\n",
       "27. 'contributors_url'\n",
       "28. 'subscribers_url'\n",
       "29. 'subscription_url'\n",
       "30. 'commits_url'\n",
       "31. 'git_commits_url'\n",
       "32. 'comments_url'\n",
       "33. 'issue_comment_url'\n",
       "34. 'contents_url'\n",
       "35. 'compare_url'\n",
       "36. 'merges_url'\n",
       "37. 'archive_url'\n",
       "38. 'downloads_url'\n",
       "39. 'issues_url'\n",
       "40. 'pulls_url'\n",
       "41. 'milestones_url'\n",
       "42. 'notifications_url'\n",
       "43. 'labels_url'\n",
       "44. 'releases_url'\n",
       "45. 'deployments_url'\n",
       "46. 'created_at'\n",
       "47. 'updated_at'\n",
       "48. 'pushed_at'\n",
       "49. 'git_url'\n",
       "50. 'ssh_url'\n",
       "51. 'clone_url'\n",
       "52. 'svn_url'\n",
       "53. 'homepage'\n",
       "54. 'size'\n",
       "55. 'stargazers_count'\n",
       "56. 'watchers_count'\n",
       "57. 'language'\n",
       "58. 'has_issues'\n",
       "59. 'has_downloads'\n",
       "60. 'has_wiki'\n",
       "61. 'has_pages'\n",
       "62. 'forks_count'\n",
       "63. 'mirror_url'\n",
       "64. 'open_issues_count'\n",
       "65. 'forks'\n",
       "66. 'open_issues'\n",
       "67. 'watchers'\n",
       "68. 'default_branch'\n",
       "\n",
       "\n"
      ],
      "text/plain": [
       " [1] \"id\"                \"name\"              \"full_name\"        \n",
       " [4] \"owner\"             \"private\"           \"html_url\"         \n",
       " [7] \"description\"       \"fork\"              \"url\"              \n",
       "[10] \"forks_url\"         \"keys_url\"          \"collaborators_url\"\n",
       "[13] \"teams_url\"         \"hooks_url\"         \"issue_events_url\" \n",
       "[16] \"events_url\"        \"assignees_url\"     \"branches_url\"     \n",
       "[19] \"tags_url\"          \"blobs_url\"         \"git_tags_url\"     \n",
       "[22] \"git_refs_url\"      \"trees_url\"         \"statuses_url\"     \n",
       "[25] \"languages_url\"     \"stargazers_url\"    \"contributors_url\" \n",
       "[28] \"subscribers_url\"   \"subscription_url\"  \"commits_url\"      \n",
       "[31] \"git_commits_url\"   \"comments_url\"      \"issue_comment_url\"\n",
       "[34] \"contents_url\"      \"compare_url\"       \"merges_url\"       \n",
       "[37] \"archive_url\"       \"downloads_url\"     \"issues_url\"       \n",
       "[40] \"pulls_url\"         \"milestones_url\"    \"notifications_url\"\n",
       "[43] \"labels_url\"        \"releases_url\"      \"deployments_url\"  \n",
       "[46] \"created_at\"        \"updated_at\"        \"pushed_at\"        \n",
       "[49] \"git_url\"           \"ssh_url\"           \"clone_url\"        \n",
       "[52] \"svn_url\"           \"homepage\"          \"size\"             \n",
       "[55] \"stargazers_count\"  \"watchers_count\"    \"language\"         \n",
       "[58] \"has_issues\"        \"has_downloads\"     \"has_wiki\"         \n",
       "[61] \"has_pages\"         \"forks_count\"       \"mirror_url\"       \n",
       "[64] \"open_issues_count\" \"forks\"             \"open_issues\"      \n",
       "[67] \"watchers\"          \"default_branch\"   "
      ]
     },
     "metadata": {},
     "output_type": "display_data"
    }
   ],
   "source": [
    "library(jsonlite)\n",
    "jsonData <- fromJSON(\"https://api.github.com/users/jtleek/repos\")\n",
    "names(jsonData)"
   ]
  },
  {
   "cell_type": "code",
   "execution_count": 21,
   "metadata": {
    "collapsed": false,
    "deletable": true,
    "editable": true
   },
   "outputs": [
    {
     "data": {
      "text/html": [
       "<ol class=list-inline>\n",
       "\t<li>'login'</li>\n",
       "\t<li>'id'</li>\n",
       "\t<li>'avatar_url'</li>\n",
       "\t<li>'gravatar_id'</li>\n",
       "\t<li>'url'</li>\n",
       "\t<li>'html_url'</li>\n",
       "\t<li>'followers_url'</li>\n",
       "\t<li>'following_url'</li>\n",
       "\t<li>'gists_url'</li>\n",
       "\t<li>'starred_url'</li>\n",
       "\t<li>'subscriptions_url'</li>\n",
       "\t<li>'organizations_url'</li>\n",
       "\t<li>'repos_url'</li>\n",
       "\t<li>'events_url'</li>\n",
       "\t<li>'received_events_url'</li>\n",
       "\t<li>'type'</li>\n",
       "\t<li>'site_admin'</li>\n",
       "</ol>\n"
      ],
      "text/latex": [
       "\\begin{enumerate*}\n",
       "\\item 'login'\n",
       "\\item 'id'\n",
       "\\item 'avatar\\_url'\n",
       "\\item 'gravatar\\_id'\n",
       "\\item 'url'\n",
       "\\item 'html\\_url'\n",
       "\\item 'followers\\_url'\n",
       "\\item 'following\\_url'\n",
       "\\item 'gists\\_url'\n",
       "\\item 'starred\\_url'\n",
       "\\item 'subscriptions\\_url'\n",
       "\\item 'organizations\\_url'\n",
       "\\item 'repos\\_url'\n",
       "\\item 'events\\_url'\n",
       "\\item 'received\\_events\\_url'\n",
       "\\item 'type'\n",
       "\\item 'site\\_admin'\n",
       "\\end{enumerate*}\n"
      ],
      "text/markdown": [
       "1. 'login'\n",
       "2. 'id'\n",
       "3. 'avatar_url'\n",
       "4. 'gravatar_id'\n",
       "5. 'url'\n",
       "6. 'html_url'\n",
       "7. 'followers_url'\n",
       "8. 'following_url'\n",
       "9. 'gists_url'\n",
       "10. 'starred_url'\n",
       "11. 'subscriptions_url'\n",
       "12. 'organizations_url'\n",
       "13. 'repos_url'\n",
       "14. 'events_url'\n",
       "15. 'received_events_url'\n",
       "16. 'type'\n",
       "17. 'site_admin'\n",
       "\n",
       "\n"
      ],
      "text/plain": [
       " [1] \"login\"               \"id\"                  \"avatar_url\"         \n",
       " [4] \"gravatar_id\"         \"url\"                 \"html_url\"           \n",
       " [7] \"followers_url\"       \"following_url\"       \"gists_url\"          \n",
       "[10] \"starred_url\"         \"subscriptions_url\"   \"organizations_url\"  \n",
       "[13] \"repos_url\"           \"events_url\"          \"received_events_url\"\n",
       "[16] \"type\"                \"site_admin\"         "
      ]
     },
     "metadata": {},
     "output_type": "display_data"
    }
   ],
   "source": [
    "names(jsonData$owner)"
   ]
  },
  {
   "cell_type": "code",
   "execution_count": 22,
   "metadata": {
    "collapsed": false,
    "deletable": true,
    "editable": true
   },
   "outputs": [
    {
     "data": {
      "text/html": [
       "<ol class=list-inline>\n",
       "\t<li>'jtleek'</li>\n",
       "\t<li>'jtleek'</li>\n",
       "\t<li>'jtleek'</li>\n",
       "\t<li>'jtleek'</li>\n",
       "\t<li>'jtleek'</li>\n",
       "\t<li>'jtleek'</li>\n",
       "\t<li>'jtleek'</li>\n",
       "\t<li>'jtleek'</li>\n",
       "\t<li>'jtleek'</li>\n",
       "\t<li>'jtleek'</li>\n",
       "\t<li>'jtleek'</li>\n",
       "\t<li>'jtleek'</li>\n",
       "\t<li>'jtleek'</li>\n",
       "\t<li>'jtleek'</li>\n",
       "\t<li>'jtleek'</li>\n",
       "\t<li>'jtleek'</li>\n",
       "\t<li>'jtleek'</li>\n",
       "\t<li>'jtleek'</li>\n",
       "\t<li>'jtleek'</li>\n",
       "\t<li>'jtleek'</li>\n",
       "\t<li>'jtleek'</li>\n",
       "\t<li>'jtleek'</li>\n",
       "\t<li>'jtleek'</li>\n",
       "\t<li>'jtleek'</li>\n",
       "\t<li>'jtleek'</li>\n",
       "\t<li>'jtleek'</li>\n",
       "\t<li>'jtleek'</li>\n",
       "\t<li>'jtleek'</li>\n",
       "\t<li>'jtleek'</li>\n",
       "\t<li>'jtleek'</li>\n",
       "</ol>\n"
      ],
      "text/latex": [
       "\\begin{enumerate*}\n",
       "\\item 'jtleek'\n",
       "\\item 'jtleek'\n",
       "\\item 'jtleek'\n",
       "\\item 'jtleek'\n",
       "\\item 'jtleek'\n",
       "\\item 'jtleek'\n",
       "\\item 'jtleek'\n",
       "\\item 'jtleek'\n",
       "\\item 'jtleek'\n",
       "\\item 'jtleek'\n",
       "\\item 'jtleek'\n",
       "\\item 'jtleek'\n",
       "\\item 'jtleek'\n",
       "\\item 'jtleek'\n",
       "\\item 'jtleek'\n",
       "\\item 'jtleek'\n",
       "\\item 'jtleek'\n",
       "\\item 'jtleek'\n",
       "\\item 'jtleek'\n",
       "\\item 'jtleek'\n",
       "\\item 'jtleek'\n",
       "\\item 'jtleek'\n",
       "\\item 'jtleek'\n",
       "\\item 'jtleek'\n",
       "\\item 'jtleek'\n",
       "\\item 'jtleek'\n",
       "\\item 'jtleek'\n",
       "\\item 'jtleek'\n",
       "\\item 'jtleek'\n",
       "\\item 'jtleek'\n",
       "\\end{enumerate*}\n"
      ],
      "text/markdown": [
       "1. 'jtleek'\n",
       "2. 'jtleek'\n",
       "3. 'jtleek'\n",
       "4. 'jtleek'\n",
       "5. 'jtleek'\n",
       "6. 'jtleek'\n",
       "7. 'jtleek'\n",
       "8. 'jtleek'\n",
       "9. 'jtleek'\n",
       "10. 'jtleek'\n",
       "11. 'jtleek'\n",
       "12. 'jtleek'\n",
       "13. 'jtleek'\n",
       "14. 'jtleek'\n",
       "15. 'jtleek'\n",
       "16. 'jtleek'\n",
       "17. 'jtleek'\n",
       "18. 'jtleek'\n",
       "19. 'jtleek'\n",
       "20. 'jtleek'\n",
       "21. 'jtleek'\n",
       "22. 'jtleek'\n",
       "23. 'jtleek'\n",
       "24. 'jtleek'\n",
       "25. 'jtleek'\n",
       "26. 'jtleek'\n",
       "27. 'jtleek'\n",
       "28. 'jtleek'\n",
       "29. 'jtleek'\n",
       "30. 'jtleek'\n",
       "\n",
       "\n"
      ],
      "text/plain": [
       " [1] \"jtleek\" \"jtleek\" \"jtleek\" \"jtleek\" \"jtleek\" \"jtleek\" \"jtleek\" \"jtleek\"\n",
       " [9] \"jtleek\" \"jtleek\" \"jtleek\" \"jtleek\" \"jtleek\" \"jtleek\" \"jtleek\" \"jtleek\"\n",
       "[17] \"jtleek\" \"jtleek\" \"jtleek\" \"jtleek\" \"jtleek\" \"jtleek\" \"jtleek\" \"jtleek\"\n",
       "[25] \"jtleek\" \"jtleek\" \"jtleek\" \"jtleek\" \"jtleek\" \"jtleek\""
      ]
     },
     "metadata": {},
     "output_type": "display_data"
    }
   ],
   "source": [
    "jsonData$owner$login"
   ]
  },
  {
   "cell_type": "markdown",
   "metadata": {
    "deletable": true,
    "editable": true
   },
   "source": [
    "### Writing data frames to JSON"
   ]
  },
  {
   "cell_type": "code",
   "execution_count": 23,
   "metadata": {
    "collapsed": false,
    "deletable": true,
    "editable": true
   },
   "outputs": [
    {
     "name": "stdout",
     "output_type": "stream",
     "text": [
      "[\n",
      "  {\n",
      "    \"Sepal.Length\": 5.1,\n",
      "    \"Sepal.Width\": 3.5,\n",
      "    \"Petal.Length\": 1.4,\n",
      "    \"Petal.Width\": 0.2,\n",
      "    \"Species\": \"setosa\"\n",
      "  },\n",
      "  {\n",
      "    \"Sepal.Length\": 4.9,\n",
      "    \"Sepal.Width\": 3,\n",
      "    \"Petal.Length\": 1.4,\n",
      "    \"Petal.Width\": 0.2,\n",
      "    \"Species\": \"setosa\"\n",
      "  },\n",
      "  {\n",
      "    \"Sepal.Length\": 4.7,\n",
      "    \"Sepal.Width\": 3.2,\n",
      "    \"Petal.Length\": 1.3,\n",
      "    \"Petal.Width\": 0.2,\n",
      "    \"Species\": \"setosa\"\n",
      "  },\n",
      "  {\n",
      "    \"Sepal.Length\": 4.6,\n",
      "    \"Sepal.Width\": 3.1,\n",
      "    \"Petal.Length\": 1.5,\n",
      "    \"Petal.Width\": 0.2,\n",
      "    \"Species\": \"setosa\"\n",
      "  },\n",
      "  {\n",
      "    \"Sepal.Length\": 5,\n",
      "    \"Sepal.Width\": 3.6,\n",
      "    \"Petal.Length\": 1.4,\n",
      "    \"Petal.Width\": 0.2,\n",
      "    \"Species\": \"setosa\"\n",
      "  },\n",
      "  {\n",
      "    \"Sepal.Length\": 5.4,\n",
      "    \"Sepal.Width\": 3.9,\n",
      "    \"Petal.Length\": 1.7,\n",
      "    \"Petal.Width\": 0.4,\n",
      "    \"Species\": \"setosa\"\n",
      "  },\n",
      "  {\n",
      "    \"Sepal.Length\": 4.6,\n",
      "    \"Sepal.Width\": 3.4,\n",
      "    \"Petal.Length\": 1.4,\n",
      "    \"Petal.Width\": 0.3,\n",
      "    \"Species\": \"setosa\"\n",
      "  },\n",
      "  {\n",
      "    \"Sepal.Length\": 5,\n",
      "    \"Sepal.Width\": 3.4,\n",
      "    \"Petal.Length\": 1.5,\n",
      "    \"Petal.Width\": 0.2,\n",
      "    \"Species\": \"setosa\"\n",
      "  },\n",
      "  {\n",
      "    \"Sepal.Length\": 4.4,\n",
      "    \"Sepal.Width\": 2.9,\n",
      "    \"Petal.Length\": 1.4,\n",
      "    \"Petal.Width\": 0.2,\n",
      "    \"Species\": \"setosa\"\n",
      "  },\n",
      "  {\n",
      "    \"Sepal.Length\": 4.9,\n",
      "    \"Sepal.Width\": 3.1,\n",
      "    \"Petal.Length\": 1.5,\n",
      "    \"Petal.Width\": 0.1,\n",
      "    \"Species\": \"setosa\"\n",
      "  },\n",
      "  {\n",
      "    \"Sepal.Length\": 5.4,\n",
      "    \"Sepal.Width\": 3.7,\n",
      "    \"Petal.Length\": 1.5,\n",
      "    \"Petal.Width\": 0.2,\n",
      "    \"Species\": \"setosa\"\n",
      "  },\n",
      "  {\n",
      "    \"Sepal.Length\": 4.8,\n",
      "    \"Sepal.Width\": 3.4,\n",
      "    \"Petal.Length\": 1.6,\n",
      "    \"Petal.Width\": 0.2,\n",
      "    \"Species\": \"setosa\"\n",
      "  },\n",
      "  {\n",
      "    \"Sepal.Length\": 4.8,\n",
      "    \"Sepal.Width\": 3,\n",
      "    \"Petal.Length\": 1.4,\n",
      "    \"Petal.Width\": 0.1,\n",
      "    \"Species\": \"setosa\"\n",
      "  },\n",
      "  {\n",
      "    \"Sepal.Length\": 4.3,\n",
      "    \"Sepal.Width\": 3,\n",
      "    \"Petal.Length\": 1.1,\n",
      "    \"Petal.Width\": 0.1,\n",
      "    \"Species\": \"setosa\"\n",
      "  },\n",
      "  {\n",
      "    \"Sepal.Length\": 5.8,\n",
      "    \"Sepal.Width\": 4,\n",
      "    \"Petal.Length\": 1.2,\n",
      "    \"Petal.Width\": 0.2,\n",
      "    \"Species\": \"setosa\"\n",
      "  },\n",
      "  {\n",
      "    \"Sepal.Length\": 5.7,\n",
      "    \"Sepal.Width\": 4.4,\n",
      "    \"Petal.Length\": 1.5,\n",
      "    \"Petal.Width\": 0.4,\n",
      "    \"Species\": \"setosa\"\n",
      "  },\n",
      "  {\n",
      "    \"Sepal.Length\": 5.4,\n",
      "    \"Sepal.Width\": 3.9,\n",
      "    \"Petal.Length\": 1.3,\n",
      "    \"Petal.Width\": 0.4,\n",
      "    \"Species\": \"setosa\"\n",
      "  },\n",
      "  {\n",
      "    \"Sepal.Length\": 5.1,\n",
      "    \"Sepal.Width\": 3.5,\n",
      "    \"Petal.Length\": 1.4,\n",
      "    \"Petal.Width\": 0.3,\n",
      "    \"Species\": \"setosa\"\n",
      "  },\n",
      "  {\n",
      "    \"Sepal.Length\": 5.7,\n",
      "    \"Sepal.Width\": 3.8,\n",
      "    \"Petal.Length\": 1.7,\n",
      "    \"Petal.Width\": 0.3,\n",
      "    \"Species\": \"setosa\"\n",
      "  },\n",
      "  {\n",
      "    \"Sepal.Length\": 5.1,\n",
      "    \"Sepal.Width\": 3.8,\n",
      "    \"Petal.Length\": 1.5,\n",
      "    \"Petal.Width\": 0.3,\n",
      "    \"Species\": \"setosa\"\n",
      "  },\n",
      "  {\n",
      "    \"Sepal.Length\": 5.4,\n",
      "    \"Sepal.Width\": 3.4,\n",
      "    \"Petal.Length\": 1.7,\n",
      "    \"Petal.Width\": 0.2,\n",
      "    \"Species\": \"setosa\"\n",
      "  },\n",
      "  {\n",
      "    \"Sepal.Length\": 5.1,\n",
      "    \"Sepal.Width\": 3.7,\n",
      "    \"Petal.Length\": 1.5,\n",
      "    \"Petal.Width\": 0.4,\n",
      "    \"Species\": \"setosa\"\n",
      "  },\n",
      "  {\n",
      "    \"Sepal.Length\": 4.6,\n",
      "    \"Sepal.Width\": 3.6,\n",
      "    \"Petal.Length\": 1,\n",
      "    \"Petal.Width\": 0.2,\n",
      "    \"Species\": \"setosa\"\n",
      "  },\n",
      "  {\n",
      "    \"Sepal.Length\": 5.1,\n",
      "    \"Sepal.Width\": 3.3,\n",
      "    \"Petal.Length\": 1.7,\n",
      "    \"Petal.Width\": 0.5,\n",
      "    \"Species\": \"setosa\"\n",
      "  },\n",
      "  {\n",
      "    \"Sepal.Length\": 4.8,\n",
      "    \"Sepal.Width\": 3.4,\n",
      "    \"Petal.Length\": 1.9,\n",
      "    \"Petal.Width\": 0.2,\n",
      "    \"Species\": \"setosa\"\n",
      "  },\n",
      "  {\n",
      "    \"Sepal.Length\": 5,\n",
      "    \"Sepal.Width\": 3,\n",
      "    \"Petal.Length\": 1.6,\n",
      "    \"Petal.Width\": 0.2,\n",
      "    \"Species\": \"setosa\"\n",
      "  },\n",
      "  {\n",
      "    \"Sepal.Length\": 5,\n",
      "    \"Sepal.Width\": 3.4,\n",
      "    \"Petal.Length\": 1.6,\n",
      "    \"Petal.Width\": 0.4,\n",
      "    \"Species\": \"setosa\"\n",
      "  },\n",
      "  {\n",
      "    \"Sepal.Length\": 5.2,\n",
      "    \"Sepal.Width\": 3.5,\n",
      "    \"Petal.Length\": 1.5,\n",
      "    \"Petal.Width\": 0.2,\n",
      "    \"Species\": \"setosa\"\n",
      "  },\n",
      "  {\n",
      "    \"Sepal.Length\": 5.2,\n",
      "    \"Sepal.Width\": 3.4,\n",
      "    \"Petal.Length\": 1.4,\n",
      "    \"Petal.Width\": 0.2,\n",
      "    \"Species\": \"setosa\"\n",
      "  },\n",
      "  {\n",
      "    \"Sepal.Length\": 4.7,\n",
      "    \"Sepal.Width\": 3.2,\n",
      "    \"Petal.Length\": 1.6,\n",
      "    \"Petal.Width\": 0.2,\n",
      "    \"Species\": \"setosa\"\n",
      "  },\n",
      "  {\n",
      "    \"Sepal.Length\": 4.8,\n",
      "    \"Sepal.Width\": 3.1,\n",
      "    \"Petal.Length\": 1.6,\n",
      "    \"Petal.Width\": 0.2,\n",
      "    \"Species\": \"setosa\"\n",
      "  },\n",
      "  {\n",
      "    \"Sepal.Length\": 5.4,\n",
      "    \"Sepal.Width\": 3.4,\n",
      "    \"Petal.Length\": 1.5,\n",
      "    \"Petal.Width\": 0.4,\n",
      "    \"Species\": \"setosa\"\n",
      "  },\n",
      "  {\n",
      "    \"Sepal.Length\": 5.2,\n",
      "    \"Sepal.Width\": 4.1,\n",
      "    \"Petal.Length\": 1.5,\n",
      "    \"Petal.Width\": 0.1,\n",
      "    \"Species\": \"setosa\"\n",
      "  },\n",
      "  {\n",
      "    \"Sepal.Length\": 5.5,\n",
      "    \"Sepal.Width\": 4.2,\n",
      "    \"Petal.Length\": 1.4,\n",
      "    \"Petal.Width\": 0.2,\n",
      "    \"Species\": \"setosa\"\n",
      "  },\n",
      "  {\n",
      "    \"Sepal.Length\": 4.9,\n",
      "    \"Sepal.Width\": 3.1,\n",
      "    \"Petal.Length\": 1.5,\n",
      "    \"Petal.Width\": 0.2,\n",
      "    \"Species\": \"setosa\"\n",
      "  },\n",
      "  {\n",
      "    \"Sepal.Length\": 5,\n",
      "    \"Sepal.Width\": 3.2,\n",
      "    \"Petal.Length\": 1.2,\n",
      "    \"Petal.Width\": 0.2,\n",
      "    \"Species\": \"setosa\"\n",
      "  },\n",
      "  {\n",
      "    \"Sepal.Length\": 5.5,\n",
      "    \"Sepal.Width\": 3.5,\n",
      "    \"Petal.Length\": 1.3,\n",
      "    \"Petal.Width\": 0.2,\n",
      "    \"Species\": \"setosa\"\n",
      "  },\n",
      "  {\n",
      "    \"Sepal.Length\": 4.9,\n",
      "    \"Sepal.Width\": 3.6,\n",
      "    \"Petal.Length\": 1.4,\n",
      "    \"Petal.Width\": 0.1,\n",
      "    \"Species\": \"setosa\"\n",
      "  },\n",
      "  {\n",
      "    \"Sepal.Length\": 4.4,\n",
      "    \"Sepal.Width\": 3,\n",
      "    \"Petal.Length\": 1.3,\n",
      "    \"Petal.Width\": 0.2,\n",
      "    \"Species\": \"setosa\"\n",
      "  },\n",
      "  {\n",
      "    \"Sepal.Length\": 5.1,\n",
      "    \"Sepal.Width\": 3.4,\n",
      "    \"Petal.Length\": 1.5,\n",
      "    \"Petal.Width\": 0.2,\n",
      "    \"Species\": \"setosa\"\n",
      "  },\n",
      "  {\n",
      "    \"Sepal.Length\": 5,\n",
      "    \"Sepal.Width\": 3.5,\n",
      "    \"Petal.Length\": 1.3,\n",
      "    \"Petal.Width\": 0.3,\n",
      "    \"Species\": \"setosa\"\n",
      "  },\n",
      "  {\n",
      "    \"Sepal.Length\": 4.5,\n",
      "    \"Sepal.Width\": 2.3,\n",
      "    \"Petal.Length\": 1.3,\n",
      "    \"Petal.Width\": 0.3,\n",
      "    \"Species\": \"setosa\"\n",
      "  },\n",
      "  {\n",
      "    \"Sepal.Length\": 4.4,\n",
      "    \"Sepal.Width\": 3.2,\n",
      "    \"Petal.Length\": 1.3,\n",
      "    \"Petal.Width\": 0.2,\n",
      "    \"Species\": \"setosa\"\n",
      "  },\n",
      "  {\n",
      "    \"Sepal.Length\": 5,\n",
      "    \"Sepal.Width\": 3.5,\n",
      "    \"Petal.Length\": 1.6,\n",
      "    \"Petal.Width\": 0.6,\n",
      "    \"Species\": \"setosa\"\n",
      "  },\n",
      "  {\n",
      "    \"Sepal.Length\": 5.1,\n",
      "    \"Sepal.Width\": 3.8,\n",
      "    \"Petal.Length\": 1.9,\n",
      "    \"Petal.Width\": 0.4,\n",
      "    \"Species\": \"setosa\"\n",
      "  },\n",
      "  {\n",
      "    \"Sepal.Length\": 4.8,\n",
      "    \"Sepal.Width\": 3,\n",
      "    \"Petal.Length\": 1.4,\n",
      "    \"Petal.Width\": 0.3,\n",
      "    \"Species\": \"setosa\"\n",
      "  },\n",
      "  {\n",
      "    \"Sepal.Length\": 5.1,\n",
      "    \"Sepal.Width\": 3.8,\n",
      "    \"Petal.Length\": 1.6,\n",
      "    \"Petal.Width\": 0.2,\n",
      "    \"Species\": \"setosa\"\n",
      "  },\n",
      "  {\n",
      "    \"Sepal.Length\": 4.6,\n",
      "    \"Sepal.Width\": 3.2,\n",
      "    \"Petal.Length\": 1.4,\n",
      "    \"Petal.Width\": 0.2,\n",
      "    \"Species\": \"setosa\"\n",
      "  },\n",
      "  {\n",
      "    \"Sepal.Length\": 5.3,\n",
      "    \"Sepal.Width\": 3.7,\n",
      "    \"Petal.Length\": 1.5,\n",
      "    \"Petal.Width\": 0.2,\n",
      "    \"Species\": \"setosa\"\n",
      "  },\n",
      "  {\n",
      "    \"Sepal.Length\": 5,\n",
      "    \"Sepal.Width\": 3.3,\n",
      "    \"Petal.Length\": 1.4,\n",
      "    \"Petal.Width\": 0.2,\n",
      "    \"Species\": \"setosa\"\n",
      "  },\n",
      "  {\n",
      "    \"Sepal.Length\": 7,\n",
      "    \"Sepal.Width\": 3.2,\n",
      "    \"Petal.Length\": 4.7,\n",
      "    \"Petal.Width\": 1.4,\n",
      "    \"Species\": \"versicolor\"\n",
      "  },\n",
      "  {\n",
      "    \"Sepal.Length\": 6.4,\n",
      "    \"Sepal.Width\": 3.2,\n",
      "    \"Petal.Length\": 4.5,\n",
      "    \"Petal.Width\": 1.5,\n",
      "    \"Species\": \"versicolor\"\n",
      "  },\n",
      "  {\n",
      "    \"Sepal.Length\": 6.9,\n",
      "    \"Sepal.Width\": 3.1,\n",
      "    \"Petal.Length\": 4.9,\n",
      "    \"Petal.Width\": 1.5,\n",
      "    \"Species\": \"versicolor\"\n",
      "  },\n",
      "  {\n",
      "    \"Sepal.Length\": 5.5,\n",
      "    \"Sepal.Width\": 2.3,\n",
      "    \"Petal.Length\": 4,\n",
      "    \"Petal.Width\": 1.3,\n",
      "    \"Species\": \"versicolor\"\n",
      "  },\n",
      "  {\n",
      "    \"Sepal.Length\": 6.5,\n",
      "    \"Sepal.Width\": 2.8,\n",
      "    \"Petal.Length\": 4.6,\n",
      "    \"Petal.Width\": 1.5,\n",
      "    \"Species\": \"versicolor\"\n",
      "  },\n",
      "  {\n",
      "    \"Sepal.Length\": 5.7,\n",
      "    \"Sepal.Width\": 2.8,\n",
      "    \"Petal.Length\": 4.5,\n",
      "    \"Petal.Width\": 1.3,\n",
      "    \"Species\": \"versicolor\"\n",
      "  },\n",
      "  {\n",
      "    \"Sepal.Length\": 6.3,\n",
      "    \"Sepal.Width\": 3.3,\n",
      "    \"Petal.Length\": 4.7,\n",
      "    \"Petal.Width\": 1.6,\n",
      "    \"Species\": \"versicolor\"\n",
      "  },\n",
      "  {\n",
      "    \"Sepal.Length\": 4.9,\n",
      "    \"Sepal.Width\": 2.4,\n",
      "    \"Petal.Length\": 3.3,\n",
      "    \"Petal.Width\": 1,\n",
      "    \"Species\": \"versicolor\"\n",
      "  },\n",
      "  {\n",
      "    \"Sepal.Length\": 6.6,\n",
      "    \"Sepal.Width\": 2.9,\n",
      "    \"Petal.Length\": 4.6,\n",
      "    \"Petal.Width\": 1.3,\n",
      "    \"Species\": \"versicolor\"\n",
      "  },\n",
      "  {\n",
      "    \"Sepal.Length\": 5.2,\n",
      "    \"Sepal.Width\": 2.7,\n",
      "    \"Petal.Length\": 3.9,\n",
      "    \"Petal.Width\": 1.4,\n",
      "    \"Species\": \"versicolor\"\n",
      "  },\n",
      "  {\n",
      "    \"Sepal.Length\": 5,\n",
      "    \"Sepal.Width\": 2,\n",
      "    \"Petal.Length\": 3.5,\n",
      "    \"Petal.Width\": 1,\n",
      "    \"Species\": \"versicolor\"\n",
      "  },\n",
      "  {\n",
      "    \"Sepal.Length\": 5.9,\n",
      "    \"Sepal.Width\": 3,\n",
      "    \"Petal.Length\": 4.2,\n",
      "    \"Petal.Width\": 1.5,\n",
      "    \"Species\": \"versicolor\"\n",
      "  },\n",
      "  {\n",
      "    \"Sepal.Length\": 6,\n",
      "    \"Sepal.Width\": 2.2,\n",
      "    \"Petal.Length\": 4,\n",
      "    \"Petal.Width\": 1,\n",
      "    \"Species\": \"versicolor\"\n",
      "  },\n",
      "  {\n",
      "    \"Sepal.Length\": 6.1,\n",
      "    \"Sepal.Width\": 2.9,\n",
      "    \"Petal.Length\": 4.7,\n",
      "    \"Petal.Width\": 1.4,\n",
      "    \"Species\": \"versicolor\"\n",
      "  },\n",
      "  {\n",
      "    \"Sepal.Length\": 5.6,\n",
      "    \"Sepal.Width\": 2.9,\n",
      "    \"Petal.Length\": 3.6,\n",
      "    \"Petal.Width\": 1.3,\n",
      "    \"Species\": \"versicolor\"\n",
      "  },\n",
      "  {\n",
      "    \"Sepal.Length\": 6.7,\n",
      "    \"Sepal.Width\": 3.1,\n",
      "    \"Petal.Length\": 4.4,\n",
      "    \"Petal.Width\": 1.4,\n",
      "    \"Species\": \"versicolor\"\n",
      "  },\n",
      "  {\n",
      "    \"Sepal.Length\": 5.6,\n",
      "    \"Sepal.Width\": 3,\n",
      "    \"Petal.Length\": 4.5,\n",
      "    \"Petal.Width\": 1.5,\n",
      "    \"Species\": \"versicolor\"\n",
      "  },\n",
      "  {\n",
      "    \"Sepal.Length\": 5.8,\n",
      "    \"Sepal.Width\": 2.7,\n",
      "    \"Petal.Length\": 4.1,\n",
      "    \"Petal.Width\": 1,\n",
      "    \"Species\": \"versicolor\"\n",
      "  },\n",
      "  {\n",
      "    \"Sepal.Length\": 6.2,\n",
      "    \"Sepal.Width\": 2.2,\n",
      "    \"Petal.Length\": 4.5,\n",
      "    \"Petal.Width\": 1.5,\n",
      "    \"Species\": \"versicolor\"\n",
      "  },\n",
      "  {\n",
      "    \"Sepal.Length\": 5.6,\n",
      "    \"Sepal.Width\": 2.5,\n",
      "    \"Petal.Length\": 3.9,\n",
      "    \"Petal.Width\": 1.1,\n",
      "    \"Species\": \"versicolor\"\n",
      "  },\n",
      "  {\n",
      "    \"Sepal.Length\": 5.9,\n",
      "    \"Sepal.Width\": 3.2,\n",
      "    \"Petal.Length\": 4.8,\n",
      "    \"Petal.Width\": 1.8,\n",
      "    \"Species\": \"versicolor\"\n",
      "  },\n",
      "  {\n",
      "    \"Sepal.Length\": 6.1,\n",
      "    \"Sepal.Width\": 2.8,\n",
      "    \"Petal.Length\": 4,\n",
      "    \"Petal.Width\": 1.3,\n",
      "    \"Species\": \"versicolor\"\n",
      "  },\n",
      "  {\n",
      "    \"Sepal.Length\": 6.3,\n",
      "    \"Sepal.Width\": 2.5,\n",
      "    \"Petal.Length\": 4.9,\n",
      "    \"Petal.Width\": 1.5,\n",
      "    \"Species\": \"versicolor\"\n",
      "  },\n",
      "  {\n",
      "    \"Sepal.Length\": 6.1,\n",
      "    \"Sepal.Width\": 2.8,\n",
      "    \"Petal.Length\": 4.7,\n",
      "    \"Petal.Width\": 1.2,\n",
      "    \"Species\": \"versicolor\"\n",
      "  },\n",
      "  {\n",
      "    \"Sepal.Length\": 6.4,\n",
      "    \"Sepal.Width\": 2.9,\n",
      "    \"Petal.Length\": 4.3,\n",
      "    \"Petal.Width\": 1.3,\n",
      "    \"Species\": \"versicolor\"\n",
      "  },\n",
      "  {\n",
      "    \"Sepal.Length\": 6.6,\n",
      "    \"Sepal.Width\": 3,\n",
      "    \"Petal.Length\": 4.4,\n",
      "    \"Petal.Width\": 1.4,\n",
      "    \"Species\": \"versicolor\"\n",
      "  },\n",
      "  {\n",
      "    \"Sepal.Length\": 6.8,\n",
      "    \"Sepal.Width\": 2.8,\n",
      "    \"Petal.Length\": 4.8,\n",
      "    \"Petal.Width\": 1.4,\n",
      "    \"Species\": \"versicolor\"\n",
      "  },\n",
      "  {\n",
      "    \"Sepal.Length\": 6.7,\n",
      "    \"Sepal.Width\": 3,\n",
      "    \"Petal.Length\": 5,\n",
      "    \"Petal.Width\": 1.7,\n",
      "    \"Species\": \"versicolor\"\n",
      "  },\n",
      "  {\n",
      "    \"Sepal.Length\": 6,\n",
      "    \"Sepal.Width\": 2.9,\n",
      "    \"Petal.Length\": 4.5,\n",
      "    \"Petal.Width\": 1.5,\n",
      "    \"Species\": \"versicolor\"\n",
      "  },\n",
      "  {\n",
      "    \"Sepal.Length\": 5.7,\n",
      "    \"Sepal.Width\": 2.6,\n",
      "    \"Petal.Length\": 3.5,\n",
      "    \"Petal.Width\": 1,\n",
      "    \"Species\": \"versicolor\"\n",
      "  },\n",
      "  {\n",
      "    \"Sepal.Length\": 5.5,\n",
      "    \"Sepal.Width\": 2.4,\n",
      "    \"Petal.Length\": 3.8,\n",
      "    \"Petal.Width\": 1.1,\n",
      "    \"Species\": \"versicolor\"\n",
      "  },\n",
      "  {\n",
      "    \"Sepal.Length\": 5.5,\n",
      "    \"Sepal.Width\": 2.4,\n",
      "    \"Petal.Length\": 3.7,\n",
      "    \"Petal.Width\": 1,\n",
      "    \"Species\": \"versicolor\"\n",
      "  },\n",
      "  {\n",
      "    \"Sepal.Length\": 5.8,\n",
      "    \"Sepal.Width\": 2.7,\n",
      "    \"Petal.Length\": 3.9,\n",
      "    \"Petal.Width\": 1.2,\n",
      "    \"Species\": \"versicolor\"\n",
      "  },\n",
      "  {\n",
      "    \"Sepal.Length\": 6,\n",
      "    \"Sepal.Width\": 2.7,\n",
      "    \"Petal.Length\": 5.1,\n",
      "    \"Petal.Width\": 1.6,\n",
      "    \"Species\": \"versicolor\"\n",
      "  },\n",
      "  {\n",
      "    \"Sepal.Length\": 5.4,\n",
      "    \"Sepal.Width\": 3,\n",
      "    \"Petal.Length\": 4.5,\n",
      "    \"Petal.Width\": 1.5,\n",
      "    \"Species\": \"versicolor\"\n",
      "  },\n",
      "  {\n",
      "    \"Sepal.Length\": 6,\n",
      "    \"Sepal.Width\": 3.4,\n",
      "    \"Petal.Length\": 4.5,\n",
      "    \"Petal.Width\": 1.6,\n",
      "    \"Species\": \"versicolor\"\n",
      "  },\n",
      "  {\n",
      "    \"Sepal.Length\": 6.7,\n",
      "    \"Sepal.Width\": 3.1,\n",
      "    \"Petal.Length\": 4.7,\n",
      "    \"Petal.Width\": 1.5,\n",
      "    \"Species\": \"versicolor\"\n",
      "  },\n",
      "  {\n",
      "    \"Sepal.Length\": 6.3,\n",
      "    \"Sepal.Width\": 2.3,\n",
      "    \"Petal.Length\": 4.4,\n",
      "    \"Petal.Width\": 1.3,\n",
      "    \"Species\": \"versicolor\"\n",
      "  },\n",
      "  {\n",
      "    \"Sepal.Length\": 5.6,\n",
      "    \"Sepal.Width\": 3,\n",
      "    \"Petal.Length\": 4.1,\n",
      "    \"Petal.Width\": 1.3,\n",
      "    \"Species\": \"versicolor\"\n",
      "  },\n",
      "  {\n",
      "    \"Sepal.Length\": 5.5,\n",
      "    \"Sepal.Width\": 2.5,\n",
      "    \"Petal.Length\": 4,\n",
      "    \"Petal.Width\": 1.3,\n",
      "    \"Species\": \"versicolor\"\n",
      "  },\n",
      "  {\n",
      "    \"Sepal.Length\": 5.5,\n",
      "    \"Sepal.Width\": 2.6,\n",
      "    \"Petal.Length\": 4.4,\n",
      "    \"Petal.Width\": 1.2,\n",
      "    \"Species\": \"versicolor\"\n",
      "  },\n",
      "  {\n",
      "    \"Sepal.Length\": 6.1,\n",
      "    \"Sepal.Width\": 3,\n",
      "    \"Petal.Length\": 4.6,\n",
      "    \"Petal.Width\": 1.4,\n",
      "    \"Species\": \"versicolor\"\n",
      "  },\n",
      "  {\n",
      "    \"Sepal.Length\": 5.8,\n",
      "    \"Sepal.Width\": 2.6,\n",
      "    \"Petal.Length\": 4,\n",
      "    \"Petal.Width\": 1.2,\n",
      "    \"Species\": \"versicolor\"\n",
      "  },\n",
      "  {\n",
      "    \"Sepal.Length\": 5,\n",
      "    \"Sepal.Width\": 2.3,\n",
      "    \"Petal.Length\": 3.3,\n",
      "    \"Petal.Width\": 1,\n",
      "    \"Species\": \"versicolor\"\n",
      "  },\n",
      "  {\n",
      "    \"Sepal.Length\": 5.6,\n",
      "    \"Sepal.Width\": 2.7,\n",
      "    \"Petal.Length\": 4.2,\n",
      "    \"Petal.Width\": 1.3,\n",
      "    \"Species\": \"versicolor\"\n",
      "  },\n",
      "  {\n",
      "    \"Sepal.Length\": 5.7,\n",
      "    \"Sepal.Width\": 3,\n",
      "    \"Petal.Length\": 4.2,\n",
      "    \"Petal.Width\": 1.2,\n",
      "    \"Species\": \"versicolor\"\n",
      "  },\n",
      "  {\n",
      "    \"Sepal.Length\": 5.7,\n",
      "    \"Sepal.Width\": 2.9,\n",
      "    \"Petal.Length\": 4.2,\n",
      "    \"Petal.Width\": 1.3,\n",
      "    \"Species\": \"versicolor\"\n",
      "  },\n",
      "  {\n",
      "    \"Sepal.Length\": 6.2,\n",
      "    \"Sepal.Width\": 2.9,\n",
      "    \"Petal.Length\": 4.3,\n",
      "    \"Petal.Width\": 1.3,\n",
      "    \"Species\": \"versicolor\"\n",
      "  },\n",
      "  {\n",
      "    \"Sepal.Length\": 5.1,\n",
      "    \"Sepal.Width\": 2.5,\n",
      "    \"Petal.Length\": 3,\n",
      "    \"Petal.Width\": 1.1,\n",
      "    \"Species\": \"versicolor\"\n",
      "  },\n",
      "  {\n",
      "    \"Sepal.Length\": 5.7,\n",
      "    \"Sepal.Width\": 2.8,\n",
      "    \"Petal.Length\": 4.1,\n",
      "    \"Petal.Width\": 1.3,\n",
      "    \"Species\": \"versicolor\"\n",
      "  },\n",
      "  {\n",
      "    \"Sepal.Length\": 6.3,\n",
      "    \"Sepal.Width\": 3.3,\n",
      "    \"Petal.Length\": 6,\n",
      "    \"Petal.Width\": 2.5,\n",
      "    \"Species\": \"virginica\"\n",
      "  },\n",
      "  {\n",
      "    \"Sepal.Length\": 5.8,\n",
      "    \"Sepal.Width\": 2.7,\n",
      "    \"Petal.Length\": 5.1,\n",
      "    \"Petal.Width\": 1.9,\n",
      "    \"Species\": \"virginica\"\n",
      "  },\n",
      "  {\n",
      "    \"Sepal.Length\": 7.1,\n",
      "    \"Sepal.Width\": 3,\n",
      "    \"Petal.Length\": 5.9,\n",
      "    \"Petal.Width\": 2.1,\n",
      "    \"Species\": \"virginica\"\n",
      "  },\n",
      "  {\n",
      "    \"Sepal.Length\": 6.3,\n",
      "    \"Sepal.Width\": 2.9,\n",
      "    \"Petal.Length\": 5.6,\n",
      "    \"Petal.Width\": 1.8,\n",
      "    \"Species\": \"virginica\"\n",
      "  },\n",
      "  {\n",
      "    \"Sepal.Length\": 6.5,\n",
      "    \"Sepal.Width\": 3,\n",
      "    \"Petal.Length\": 5.8,\n",
      "    \"Petal.Width\": 2.2,\n",
      "    \"Species\": \"virginica\"\n",
      "  },\n",
      "  {\n",
      "    \"Sepal.Length\": 7.6,\n",
      "    \"Sepal.Width\": 3,\n",
      "    \"Petal.Length\": 6.6,\n",
      "    \"Petal.Width\": 2.1,\n",
      "    \"Species\": \"virginica\"\n",
      "  },\n",
      "  {\n",
      "    \"Sepal.Length\": 4.9,\n",
      "    \"Sepal.Width\": 2.5,\n",
      "    \"Petal.Length\": 4.5,\n",
      "    \"Petal.Width\": 1.7,\n",
      "    \"Species\": \"virginica\"\n",
      "  },\n",
      "  {\n",
      "    \"Sepal.Length\": 7.3,\n",
      "    \"Sepal.Width\": 2.9,\n",
      "    \"Petal.Length\": 6.3,\n",
      "    \"Petal.Width\": 1.8,\n",
      "    \"Species\": \"virginica\"\n",
      "  },\n",
      "  {\n",
      "    \"Sepal.Length\": 6.7,\n",
      "    \"Sepal.Width\": 2.5,\n",
      "    \"Petal.Length\": 5.8,\n",
      "    \"Petal.Width\": 1.8,\n",
      "    \"Species\": \"virginica\"\n",
      "  },\n",
      "  {\n",
      "    \"Sepal.Length\": 7.2,\n",
      "    \"Sepal.Width\": 3.6,\n",
      "    \"Petal.Length\": 6.1,\n",
      "    \"Petal.Width\": 2.5,\n",
      "    \"Species\": \"virginica\"\n",
      "  },\n",
      "  {\n",
      "    \"Sepal.Length\": 6.5,\n",
      "    \"Sepal.Width\": 3.2,\n",
      "    \"Petal.Length\": 5.1,\n",
      "    \"Petal.Width\": 2,\n",
      "    \"Species\": \"virginica\"\n",
      "  },\n",
      "  {\n",
      "    \"Sepal.Length\": 6.4,\n",
      "    \"Sepal.Width\": 2.7,\n",
      "    \"Petal.Length\": 5.3,\n",
      "    \"Petal.Width\": 1.9,\n",
      "    \"Species\": \"virginica\"\n",
      "  },\n",
      "  {\n",
      "    \"Sepal.Length\": 6.8,\n",
      "    \"Sepal.Width\": 3,\n",
      "    \"Petal.Length\": 5.5,\n",
      "    \"Petal.Width\": 2.1,\n",
      "    \"Species\": \"virginica\"\n",
      "  },\n",
      "  {\n",
      "    \"Sepal.Length\": 5.7,\n",
      "    \"Sepal.Width\": 2.5,\n",
      "    \"Petal.Length\": 5,\n",
      "    \"Petal.Width\": 2,\n",
      "    \"Species\": \"virginica\"\n",
      "  },\n",
      "  {\n",
      "    \"Sepal.Length\": 5.8,\n",
      "    \"Sepal.Width\": 2.8,\n",
      "    \"Petal.Length\": 5.1,\n",
      "    \"Petal.Width\": 2.4,\n",
      "    \"Species\": \"virginica\"\n",
      "  },\n",
      "  {\n",
      "    \"Sepal.Length\": 6.4,\n",
      "    \"Sepal.Width\": 3.2,\n",
      "    \"Petal.Length\": 5.3,\n",
      "    \"Petal.Width\": 2.3,\n",
      "    \"Species\": \"virginica\"\n",
      "  },\n",
      "  {\n",
      "    \"Sepal.Length\": 6.5,\n",
      "    \"Sepal.Width\": 3,\n",
      "    \"Petal.Length\": 5.5,\n",
      "    \"Petal.Width\": 1.8,\n",
      "    \"Species\": \"virginica\"\n",
      "  },\n",
      "  {\n",
      "    \"Sepal.Length\": 7.7,\n",
      "    \"Sepal.Width\": 3.8,\n",
      "    \"Petal.Length\": 6.7,\n",
      "    \"Petal.Width\": 2.2,\n",
      "    \"Species\": \"virginica\"\n",
      "  },\n",
      "  {\n",
      "    \"Sepal.Length\": 7.7,\n",
      "    \"Sepal.Width\": 2.6,\n",
      "    \"Petal.Length\": 6.9,\n",
      "    \"Petal.Width\": 2.3,\n",
      "    \"Species\": \"virginica\"\n",
      "  },\n",
      "  {\n",
      "    \"Sepal.Length\": 6,\n",
      "    \"Sepal.Width\": 2.2,\n",
      "    \"Petal.Length\": 5,\n",
      "    \"Petal.Width\": 1.5,\n",
      "    \"Species\": \"virginica\"\n",
      "  },\n",
      "  {\n",
      "    \"Sepal.Length\": 6.9,\n",
      "    \"Sepal.Width\": 3.2,\n",
      "    \"Petal.Length\": 5.7,\n",
      "    \"Petal.Width\": 2.3,\n",
      "    \"Species\": \"virginica\"\n",
      "  },\n",
      "  {\n",
      "    \"Sepal.Length\": 5.6,\n",
      "    \"Sepal.Width\": 2.8,\n",
      "    \"Petal.Length\": 4.9,\n",
      "    \"Petal.Width\": 2,\n",
      "    \"Species\": \"virginica\"\n",
      "  },\n",
      "  {\n",
      "    \"Sepal.Length\": 7.7,\n",
      "    \"Sepal.Width\": 2.8,\n",
      "    \"Petal.Length\": 6.7,\n",
      "    \"Petal.Width\": 2,\n",
      "    \"Species\": \"virginica\"\n",
      "  },\n",
      "  {\n",
      "    \"Sepal.Length\": 6.3,\n",
      "    \"Sepal.Width\": 2.7,\n",
      "    \"Petal.Length\": 4.9,\n",
      "    \"Petal.Width\": 1.8,\n",
      "    \"Species\": \"virginica\"\n",
      "  },\n",
      "  {\n",
      "    \"Sepal.Length\": 6.7,\n",
      "    \"Sepal.Width\": 3.3,\n",
      "    \"Petal.Length\": 5.7,\n",
      "    \"Petal.Width\": 2.1,\n",
      "    \"Species\": \"virginica\"\n",
      "  },\n",
      "  {\n",
      "    \"Sepal.Length\": 7.2,\n",
      "    \"Sepal.Width\": 3.2,\n",
      "    \"Petal.Length\": 6,\n",
      "    \"Petal.Width\": 1.8,\n",
      "    \"Species\": \"virginica\"\n",
      "  },\n",
      "  {\n",
      "    \"Sepal.Length\": 6.2,\n",
      "    \"Sepal.Width\": 2.8,\n",
      "    \"Petal.Length\": 4.8,\n",
      "    \"Petal.Width\": 1.8,\n",
      "    \"Species\": \"virginica\"\n",
      "  },\n",
      "  {\n",
      "    \"Sepal.Length\": 6.1,\n",
      "    \"Sepal.Width\": 3,\n",
      "    \"Petal.Length\": 4.9,\n",
      "    \"Petal.Width\": 1.8,\n",
      "    \"Species\": \"virginica\"\n",
      "  },\n",
      "  {\n",
      "    \"Sepal.Length\": 6.4,\n",
      "    \"Sepal.Width\": 2.8,\n",
      "    \"Petal.Length\": 5.6,\n",
      "    \"Petal.Width\": 2.1,\n",
      "    \"Species\": \"virginica\"\n",
      "  },\n",
      "  {\n",
      "    \"Sepal.Length\": 7.2,\n",
      "    \"Sepal.Width\": 3,\n",
      "    \"Petal.Length\": 5.8,\n",
      "    \"Petal.Width\": 1.6,\n",
      "    \"Species\": \"virginica\"\n",
      "  },\n",
      "  {\n",
      "    \"Sepal.Length\": 7.4,\n",
      "    \"Sepal.Width\": 2.8,\n",
      "    \"Petal.Length\": 6.1,\n",
      "    \"Petal.Width\": 1.9,\n",
      "    \"Species\": \"virginica\"\n",
      "  },\n",
      "  {\n",
      "    \"Sepal.Length\": 7.9,\n",
      "    \"Sepal.Width\": 3.8,\n",
      "    \"Petal.Length\": 6.4,\n",
      "    \"Petal.Width\": 2,\n",
      "    \"Species\": \"virginica\"\n",
      "  },\n",
      "  {\n",
      "    \"Sepal.Length\": 6.4,\n",
      "    \"Sepal.Width\": 2.8,\n",
      "    \"Petal.Length\": 5.6,\n",
      "    \"Petal.Width\": 2.2,\n",
      "    \"Species\": \"virginica\"\n",
      "  },\n",
      "  {\n",
      "    \"Sepal.Length\": 6.3,\n",
      "    \"Sepal.Width\": 2.8,\n",
      "    \"Petal.Length\": 5.1,\n",
      "    \"Petal.Width\": 1.5,\n",
      "    \"Species\": \"virginica\"\n",
      "  },\n",
      "  {\n",
      "    \"Sepal.Length\": 6.1,\n",
      "    \"Sepal.Width\": 2.6,\n",
      "    \"Petal.Length\": 5.6,\n",
      "    \"Petal.Width\": 1.4,\n",
      "    \"Species\": \"virginica\"\n",
      "  },\n",
      "  {\n",
      "    \"Sepal.Length\": 7.7,\n",
      "    \"Sepal.Width\": 3,\n",
      "    \"Petal.Length\": 6.1,\n",
      "    \"Petal.Width\": 2.3,\n",
      "    \"Species\": \"virginica\"\n",
      "  },\n",
      "  {\n",
      "    \"Sepal.Length\": 6.3,\n",
      "    \"Sepal.Width\": 3.4,\n",
      "    \"Petal.Length\": 5.6,\n",
      "    \"Petal.Width\": 2.4,\n",
      "    \"Species\": \"virginica\"\n",
      "  },\n",
      "  {\n",
      "    \"Sepal.Length\": 6.4,\n",
      "    \"Sepal.Width\": 3.1,\n",
      "    \"Petal.Length\": 5.5,\n",
      "    \"Petal.Width\": 1.8,\n",
      "    \"Species\": \"virginica\"\n",
      "  },\n",
      "  {\n",
      "    \"Sepal.Length\": 6,\n",
      "    \"Sepal.Width\": 3,\n",
      "    \"Petal.Length\": 4.8,\n",
      "    \"Petal.Width\": 1.8,\n",
      "    \"Species\": \"virginica\"\n",
      "  },\n",
      "  {\n",
      "    \"Sepal.Length\": 6.9,\n",
      "    \"Sepal.Width\": 3.1,\n",
      "    \"Petal.Length\": 5.4,\n",
      "    \"Petal.Width\": 2.1,\n",
      "    \"Species\": \"virginica\"\n",
      "  },\n",
      "  {\n",
      "    \"Sepal.Length\": 6.7,\n",
      "    \"Sepal.Width\": 3.1,\n",
      "    \"Petal.Length\": 5.6,\n",
      "    \"Petal.Width\": 2.4,\n",
      "    \"Species\": \"virginica\"\n",
      "  },\n",
      "  {\n",
      "    \"Sepal.Length\": 6.9,\n",
      "    \"Sepal.Width\": 3.1,\n",
      "    \"Petal.Length\": 5.1,\n",
      "    \"Petal.Width\": 2.3,\n",
      "    \"Species\": \"virginica\"\n",
      "  },\n",
      "  {\n",
      "    \"Sepal.Length\": 5.8,\n",
      "    \"Sepal.Width\": 2.7,\n",
      "    \"Petal.Length\": 5.1,\n",
      "    \"Petal.Width\": 1.9,\n",
      "    \"Species\": \"virginica\"\n",
      "  },\n",
      "  {\n",
      "    \"Sepal.Length\": 6.8,\n",
      "    \"Sepal.Width\": 3.2,\n",
      "    \"Petal.Length\": 5.9,\n",
      "    \"Petal.Width\": 2.3,\n",
      "    \"Species\": \"virginica\"\n",
      "  },\n",
      "  {\n",
      "    \"Sepal.Length\": 6.7,\n",
      "    \"Sepal.Width\": 3.3,\n",
      "    \"Petal.Length\": 5.7,\n",
      "    \"Petal.Width\": 2.5,\n",
      "    \"Species\": \"virginica\"\n",
      "  },\n",
      "  {\n",
      "    \"Sepal.Length\": 6.7,\n",
      "    \"Sepal.Width\": 3,\n",
      "    \"Petal.Length\": 5.2,\n",
      "    \"Petal.Width\": 2.3,\n",
      "    \"Species\": \"virginica\"\n",
      "  },\n",
      "  {\n",
      "    \"Sepal.Length\": 6.3,\n",
      "    \"Sepal.Width\": 2.5,\n",
      "    \"Petal.Length\": 5,\n",
      "    \"Petal.Width\": 1.9,\n",
      "    \"Species\": \"virginica\"\n",
      "  },\n",
      "  {\n",
      "    \"Sepal.Length\": 6.5,\n",
      "    \"Sepal.Width\": 3,\n",
      "    \"Petal.Length\": 5.2,\n",
      "    \"Petal.Width\": 2,\n",
      "    \"Species\": \"virginica\"\n",
      "  },\n",
      "  {\n",
      "    \"Sepal.Length\": 6.2,\n",
      "    \"Sepal.Width\": 3.4,\n",
      "    \"Petal.Length\": 5.4,\n",
      "    \"Petal.Width\": 2.3,\n",
      "    \"Species\": \"virginica\"\n",
      "  },\n",
      "  {\n",
      "    \"Sepal.Length\": 5.9,\n",
      "    \"Sepal.Width\": 3,\n",
      "    \"Petal.Length\": 5.1,\n",
      "    \"Petal.Width\": 1.8,\n",
      "    \"Species\": \"virginica\"\n",
      "  }\n",
      "]"
     ]
    }
   ],
   "source": [
    "myjson <- toJSON(iris, pretty=TRUE)\n",
    "cat(myjson)"
   ]
  },
  {
   "cell_type": "markdown",
   "metadata": {
    "deletable": true,
    "editable": true
   },
   "source": [
    "### Convert back to JSON"
   ]
  },
  {
   "cell_type": "code",
   "execution_count": 24,
   "metadata": {
    "collapsed": false,
    "deletable": true,
    "editable": true
   },
   "outputs": [
    {
     "data": {
      "text/html": [
       "<table>\n",
       "<thead><tr><th scope=col>Sepal.Length</th><th scope=col>Sepal.Width</th><th scope=col>Petal.Length</th><th scope=col>Petal.Width</th><th scope=col>Species</th></tr></thead>\n",
       "<tbody>\n",
       "\t<tr><td>5.1   </td><td>3.5   </td><td>1.4   </td><td>0.2   </td><td>setosa</td></tr>\n",
       "\t<tr><td>4.9   </td><td>3.0   </td><td>1.4   </td><td>0.2   </td><td>setosa</td></tr>\n",
       "\t<tr><td>4.7   </td><td>3.2   </td><td>1.3   </td><td>0.2   </td><td>setosa</td></tr>\n",
       "\t<tr><td>4.6   </td><td>3.1   </td><td>1.5   </td><td>0.2   </td><td>setosa</td></tr>\n",
       "\t<tr><td>5.0   </td><td>3.6   </td><td>1.4   </td><td>0.2   </td><td>setosa</td></tr>\n",
       "\t<tr><td>5.4   </td><td>3.9   </td><td>1.7   </td><td>0.4   </td><td>setosa</td></tr>\n",
       "</tbody>\n",
       "</table>\n"
      ],
      "text/latex": [
       "\\begin{tabular}{r|lllll}\n",
       " Sepal.Length & Sepal.Width & Petal.Length & Petal.Width & Species\\\\\n",
       "\\hline\n",
       "\t 5.1    & 3.5    & 1.4    & 0.2    & setosa\\\\\n",
       "\t 4.9    & 3.0    & 1.4    & 0.2    & setosa\\\\\n",
       "\t 4.7    & 3.2    & 1.3    & 0.2    & setosa\\\\\n",
       "\t 4.6    & 3.1    & 1.5    & 0.2    & setosa\\\\\n",
       "\t 5.0    & 3.6    & 1.4    & 0.2    & setosa\\\\\n",
       "\t 5.4    & 3.9    & 1.7    & 0.4    & setosa\\\\\n",
       "\\end{tabular}\n"
      ],
      "text/markdown": [
       "\n",
       "Sepal.Length | Sepal.Width | Petal.Length | Petal.Width | Species | \n",
       "|---|---|---|---|---|---|\n",
       "| 5.1    | 3.5    | 1.4    | 0.2    | setosa | \n",
       "| 4.9    | 3.0    | 1.4    | 0.2    | setosa | \n",
       "| 4.7    | 3.2    | 1.3    | 0.2    | setosa | \n",
       "| 4.6    | 3.1    | 1.5    | 0.2    | setosa | \n",
       "| 5.0    | 3.6    | 1.4    | 0.2    | setosa | \n",
       "| 5.4    | 3.9    | 1.7    | 0.4    | setosa | \n",
       "\n",
       "\n"
      ],
      "text/plain": [
       "  Sepal.Length Sepal.Width Petal.Length Petal.Width Species\n",
       "1 5.1          3.5         1.4          0.2         setosa \n",
       "2 4.9          3.0         1.4          0.2         setosa \n",
       "3 4.7          3.2         1.3          0.2         setosa \n",
       "4 4.6          3.1         1.5          0.2         setosa \n",
       "5 5.0          3.6         1.4          0.2         setosa \n",
       "6 5.4          3.9         1.7          0.4         setosa "
      ]
     },
     "metadata": {},
     "output_type": "display_data"
    }
   ],
   "source": [
    "iris2 <- fromJSON(myjson)\n",
    "head(iris2)"
   ]
  },
  {
   "cell_type": "markdown",
   "metadata": {
    "deletable": true,
    "editable": true
   },
   "source": [
    "### Further resources\n",
    "* http://www.json.org/"
   ]
  },
  {
   "cell_type": "markdown",
   "metadata": {
    "deletable": true,
    "editable": true
   },
   "source": [
    "## Using data.table\n",
    "\n",
    "### data.table\n",
    "* Inherets from data.frame\n",
    "    - All functions that accept data.frame work on data.table\n",
    "* Written in C so it is much faster\n",
    "* Much, much faster at subsetting, group, and updating\n",
    "\n",
    "### Create data tables just like data frames"
   ]
  },
  {
   "cell_type": "code",
   "execution_count": 28,
   "metadata": {
    "collapsed": false,
    "deletable": true,
    "editable": true
   },
   "outputs": [
    {
     "data": {
      "text/html": [
       "<table>\n",
       "<thead><tr><th scope=col>x</th><th scope=col>y</th><th scope=col>z</th></tr></thead>\n",
       "<tbody>\n",
       "\t<tr><td> 0.3096739</td><td>a         </td><td>1.3007757 </td></tr>\n",
       "\t<tr><td>-1.5439204</td><td>a         </td><td>0.9210169 </td></tr>\n",
       "\t<tr><td>-0.2349689</td><td>a         </td><td>2.0753142 </td></tr>\n",
       "</tbody>\n",
       "</table>\n"
      ],
      "text/latex": [
       "\\begin{tabular}{r|lll}\n",
       " x & y & z\\\\\n",
       "\\hline\n",
       "\t  0.3096739 & a          & 1.3007757 \\\\\n",
       "\t -1.5439204 & a          & 0.9210169 \\\\\n",
       "\t -0.2349689 & a          & 2.0753142 \\\\\n",
       "\\end{tabular}\n"
      ],
      "text/markdown": [
       "\n",
       "x | y | z | \n",
       "|---|---|---|\n",
       "|  0.3096739 | a          | 1.3007757  | \n",
       "| -1.5439204 | a          | 0.9210169  | \n",
       "| -0.2349689 | a          | 2.0753142  | \n",
       "\n",
       "\n"
      ],
      "text/plain": [
       "  x          y z        \n",
       "1  0.3096739 a 1.3007757\n",
       "2 -1.5439204 a 0.9210169\n",
       "3 -0.2349689 a 2.0753142"
      ]
     },
     "metadata": {},
     "output_type": "display_data"
    }
   ],
   "source": [
    "library(data.table)\n",
    "DF = data.frame(x=rnorm(9),y=rep(c(\"a\",\"b\",\"c\"),each=3),z=rnorm(9))\n",
    "head(DF,3)"
   ]
  },
  {
   "cell_type": "code",
   "execution_count": 29,
   "metadata": {
    "collapsed": false,
    "deletable": true,
    "editable": true
   },
   "outputs": [
    {
     "data": {
      "text/html": [
       "<table>\n",
       "<thead><tr><th scope=col>x</th><th scope=col>y</th><th scope=col>z</th></tr></thead>\n",
       "<tbody>\n",
       "\t<tr><td>-0.12513889</td><td>a          </td><td>-1.6064954 </td></tr>\n",
       "\t<tr><td>-1.16185355</td><td>a          </td><td> 0.7312962 </td></tr>\n",
       "\t<tr><td>-0.08420981</td><td>a          </td><td> 0.2532261 </td></tr>\n",
       "</tbody>\n",
       "</table>\n"
      ],
      "text/latex": [
       "\\begin{tabular}{r|lll}\n",
       " x & y & z\\\\\n",
       "\\hline\n",
       "\t -0.12513889 & a           & -1.6064954 \\\\\n",
       "\t -1.16185355 & a           &  0.7312962 \\\\\n",
       "\t -0.08420981 & a           &  0.2532261 \\\\\n",
       "\\end{tabular}\n"
      ],
      "text/markdown": [
       "\n",
       "x | y | z | \n",
       "|---|---|---|\n",
       "| -0.12513889 | a           | -1.6064954  | \n",
       "| -1.16185355 | a           |  0.7312962  | \n",
       "| -0.08420981 | a           |  0.2532261  | \n",
       "\n",
       "\n"
      ],
      "text/plain": [
       "  x           y z         \n",
       "1 -0.12513889 a -1.6064954\n",
       "2 -1.16185355 a  0.7312962\n",
       "3 -0.08420981 a  0.2532261"
      ]
     },
     "metadata": {},
     "output_type": "display_data"
    }
   ],
   "source": [
    "DT = data.table(x=rnorm(9),y=rep(c(\"a\",\"b\",\"c\"),each=3),z=rnorm(9))\n",
    "head(DT,3)"
   ]
  },
  {
   "cell_type": "markdown",
   "metadata": {
    "deletable": true,
    "editable": true
   },
   "source": [
    "### See all the data tables in memory"
   ]
  },
  {
   "cell_type": "code",
   "execution_count": 30,
   "metadata": {
    "collapsed": false,
    "deletable": true,
    "editable": true
   },
   "outputs": [
    {
     "name": "stdout",
     "output_type": "stream",
     "text": [
      "     NAME NROW NCOL MB COLS  KEY\n",
      "[1,] DT      9    3  1 x,y,z    \n",
      "Total: 1MB\n"
     ]
    }
   ],
   "source": [
    "tables()"
   ]
  },
  {
   "cell_type": "markdown",
   "metadata": {
    "deletable": true,
    "editable": true
   },
   "source": [
    "### Subsetting rows"
   ]
  },
  {
   "cell_type": "code",
   "execution_count": 31,
   "metadata": {
    "collapsed": false,
    "deletable": true,
    "editable": true
   },
   "outputs": [
    {
     "data": {
      "text/html": [
       "<table>\n",
       "<thead><tr><th scope=col>x</th><th scope=col>y</th><th scope=col>z</th></tr></thead>\n",
       "<tbody>\n",
       "\t<tr><td>-1.161854</td><td>a        </td><td>0.7312962</td></tr>\n",
       "</tbody>\n",
       "</table>\n"
      ],
      "text/latex": [
       "\\begin{tabular}{r|lll}\n",
       " x & y & z\\\\\n",
       "\\hline\n",
       "\t -1.161854 & a         & 0.7312962\\\\\n",
       "\\end{tabular}\n"
      ],
      "text/markdown": [
       "\n",
       "x | y | z | \n",
       "|---|\n",
       "| -1.161854 | a         | 0.7312962 | \n",
       "\n",
       "\n"
      ],
      "text/plain": [
       "  x         y z        \n",
       "1 -1.161854 a 0.7312962"
      ]
     },
     "metadata": {},
     "output_type": "display_data"
    }
   ],
   "source": [
    "DT[2,]"
   ]
  },
  {
   "cell_type": "code",
   "execution_count": 34,
   "metadata": {
    "collapsed": false,
    "deletable": true,
    "editable": true
   },
   "outputs": [
    {
     "data": {
      "text/html": [
       "<table>\n",
       "<thead><tr><th scope=col>x</th><th scope=col>y</th><th scope=col>z</th></tr></thead>\n",
       "<tbody>\n",
       "\t<tr><td>-0.12513889</td><td>a          </td><td>-1.6064954 </td></tr>\n",
       "\t<tr><td>-1.16185355</td><td>a          </td><td> 0.7312962 </td></tr>\n",
       "\t<tr><td>-0.08420981</td><td>a          </td><td> 0.2532261 </td></tr>\n",
       "</tbody>\n",
       "</table>\n"
      ],
      "text/latex": [
       "\\begin{tabular}{r|lll}\n",
       " x & y & z\\\\\n",
       "\\hline\n",
       "\t -0.12513889 & a           & -1.6064954 \\\\\n",
       "\t -1.16185355 & a           &  0.7312962 \\\\\n",
       "\t -0.08420981 & a           &  0.2532261 \\\\\n",
       "\\end{tabular}\n"
      ],
      "text/markdown": [
       "\n",
       "x | y | z | \n",
       "|---|---|---|\n",
       "| -0.12513889 | a           | -1.6064954  | \n",
       "| -1.16185355 | a           |  0.7312962  | \n",
       "| -0.08420981 | a           |  0.2532261  | \n",
       "\n",
       "\n"
      ],
      "text/plain": [
       "  x           y z         \n",
       "1 -0.12513889 a -1.6064954\n",
       "2 -1.16185355 a  0.7312962\n",
       "3 -0.08420981 a  0.2532261"
      ]
     },
     "metadata": {},
     "output_type": "display_data"
    }
   ],
   "source": [
    "DT[DT$y==\"a\",]"
   ]
  },
  {
   "cell_type": "code",
   "execution_count": 35,
   "metadata": {
    "collapsed": false,
    "deletable": true,
    "editable": true
   },
   "outputs": [
    {
     "data": {
      "text/html": [
       "<table>\n",
       "<thead><tr><th scope=col>x</th><th scope=col>y</th><th scope=col>z</th></tr></thead>\n",
       "<tbody>\n",
       "\t<tr><td>-1.16185355</td><td>a          </td><td>0.7312962  </td></tr>\n",
       "\t<tr><td>-0.08420981</td><td>a          </td><td>0.2532261  </td></tr>\n",
       "</tbody>\n",
       "</table>\n"
      ],
      "text/latex": [
       "\\begin{tabular}{r|lll}\n",
       " x & y & z\\\\\n",
       "\\hline\n",
       "\t -1.16185355 & a           & 0.7312962  \\\\\n",
       "\t -0.08420981 & a           & 0.2532261  \\\\\n",
       "\\end{tabular}\n"
      ],
      "text/markdown": [
       "\n",
       "x | y | z | \n",
       "|---|---|\n",
       "| -1.16185355 | a           | 0.7312962   | \n",
       "| -0.08420981 | a           | 0.2532261   | \n",
       "\n",
       "\n"
      ],
      "text/plain": [
       "  x           y z        \n",
       "1 -1.16185355 a 0.7312962\n",
       "2 -0.08420981 a 0.2532261"
      ]
     },
     "metadata": {},
     "output_type": "display_data"
    }
   ],
   "source": [
    "DT[c(2,3)]"
   ]
  },
  {
   "cell_type": "markdown",
   "metadata": {
    "deletable": true,
    "editable": true
   },
   "source": [
    "### Subsetting columns!?"
   ]
  },
  {
   "cell_type": "code",
   "execution_count": 36,
   "metadata": {
    "collapsed": false,
    "deletable": true,
    "editable": true
   },
   "outputs": [
    {
     "data": {
      "text/html": [
       "<table>\n",
       "<thead><tr><th scope=col>y</th><th scope=col>z</th></tr></thead>\n",
       "<tbody>\n",
       "\t<tr><td>a         </td><td>-1.6064954</td></tr>\n",
       "\t<tr><td>a         </td><td> 0.7312962</td></tr>\n",
       "\t<tr><td>a         </td><td> 0.2532261</td></tr>\n",
       "\t<tr><td>b         </td><td>-0.6856561</td></tr>\n",
       "\t<tr><td>b         </td><td>-1.7739271</td></tr>\n",
       "\t<tr><td>b         </td><td>-0.5892033</td></tr>\n",
       "\t<tr><td>c         </td><td> 1.3613298</td></tr>\n",
       "\t<tr><td>c         </td><td> 0.5009019</td></tr>\n",
       "\t<tr><td>c         </td><td>-0.8500094</td></tr>\n",
       "</tbody>\n",
       "</table>\n"
      ],
      "text/latex": [
       "\\begin{tabular}{r|ll}\n",
       " y & z\\\\\n",
       "\\hline\n",
       "\t a          & -1.6064954\\\\\n",
       "\t a          &  0.7312962\\\\\n",
       "\t a          &  0.2532261\\\\\n",
       "\t b          & -0.6856561\\\\\n",
       "\t b          & -1.7739271\\\\\n",
       "\t b          & -0.5892033\\\\\n",
       "\t c          &  1.3613298\\\\\n",
       "\t c          &  0.5009019\\\\\n",
       "\t c          & -0.8500094\\\\\n",
       "\\end{tabular}\n"
      ],
      "text/markdown": [
       "\n",
       "y | z | \n",
       "|---|---|---|---|---|---|---|---|---|\n",
       "| a          | -1.6064954 | \n",
       "| a          |  0.7312962 | \n",
       "| a          |  0.2532261 | \n",
       "| b          | -0.6856561 | \n",
       "| b          | -1.7739271 | \n",
       "| b          | -0.5892033 | \n",
       "| c          |  1.3613298 | \n",
       "| c          |  0.5009019 | \n",
       "| c          | -0.8500094 | \n",
       "\n",
       "\n"
      ],
      "text/plain": [
       "  y z         \n",
       "1 a -1.6064954\n",
       "2 a  0.7312962\n",
       "3 a  0.2532261\n",
       "4 b -0.6856561\n",
       "5 b -1.7739271\n",
       "6 b -0.5892033\n",
       "7 c  1.3613298\n",
       "8 c  0.5009019\n",
       "9 c -0.8500094"
      ]
     },
     "metadata": {},
     "output_type": "display_data"
    }
   ],
   "source": [
    "DT[,c(2,3)]"
   ]
  },
  {
   "cell_type": "markdown",
   "metadata": {
    "deletable": true,
    "editable": true
   },
   "source": [
    "### Column subsetting in data.table\n",
    "* The subsetting function is modified for data.table\n",
    "* The argument you pass after the comma is called an \"expression\"\n",
    "* In R an expression is a collection of statements enclosed in curley brackets"
   ]
  },
  {
   "cell_type": "code",
   "execution_count": 37,
   "metadata": {
    "collapsed": false,
    "deletable": true,
    "editable": true
   },
   "outputs": [
    {
     "name": "stdout",
     "output_type": "stream",
     "text": [
      "[1] 10\n"
     ]
    }
   ],
   "source": [
    "{\n",
    "    x = 1\n",
    "    y = 2\n",
    "}\n",
    "k = {print(10); 5}"
   ]
  },
  {
   "cell_type": "code",
   "execution_count": 38,
   "metadata": {
    "collapsed": false,
    "deletable": true,
    "editable": true
   },
   "outputs": [
    {
     "name": "stdout",
     "output_type": "stream",
     "text": [
      "[1] 5\n"
     ]
    }
   ],
   "source": [
    "print(k)"
   ]
  },
  {
   "cell_type": "markdown",
   "metadata": {
    "deletable": true,
    "editable": true
   },
   "source": [
    "### Calculating values for variables with expressions"
   ]
  },
  {
   "cell_type": "code",
   "execution_count": 39,
   "metadata": {
    "collapsed": false,
    "deletable": true,
    "editable": true
   },
   "outputs": [
    {
     "data": {
      "text/html": [
       "<table>\n",
       "<thead><tr><th scope=col>V1</th><th scope=col>V2</th></tr></thead>\n",
       "<tbody>\n",
       "\t<tr><td>0.01593698</td><td>-2.658537 </td></tr>\n",
       "</tbody>\n",
       "</table>\n"
      ],
      "text/latex": [
       "\\begin{tabular}{r|ll}\n",
       " V1 & V2\\\\\n",
       "\\hline\n",
       "\t 0.01593698 & -2.658537 \\\\\n",
       "\\end{tabular}\n"
      ],
      "text/markdown": [
       "\n",
       "V1 | V2 | \n",
       "|---|\n",
       "| 0.01593698 | -2.658537  | \n",
       "\n",
       "\n"
      ],
      "text/plain": [
       "  V1         V2       \n",
       "1 0.01593698 -2.658537"
      ]
     },
     "metadata": {},
     "output_type": "display_data"
    }
   ],
   "source": [
    "DT[,list(mean(x),sum(z))]"
   ]
  },
  {
   "cell_type": "code",
   "execution_count": 40,
   "metadata": {
    "collapsed": false,
    "deletable": true,
    "editable": true
   },
   "outputs": [
    {
     "data": {
      "text/plain": [
       "y\n",
       "a b c \n",
       "3 3 3 "
      ]
     },
     "metadata": {},
     "output_type": "display_data"
    }
   ],
   "source": [
    "DT[,table(y)]"
   ]
  },
  {
   "cell_type": "markdown",
   "metadata": {
    "deletable": true,
    "editable": true
   },
   "source": [
    "### Adding new columns"
   ]
  },
  {
   "cell_type": "code",
   "execution_count": 41,
   "metadata": {
    "collapsed": false,
    "deletable": true,
    "editable": true
   },
   "outputs": [
    {
     "data": {
      "text/html": [
       "<table>\n",
       "<thead><tr><th scope=col>x</th><th scope=col>y</th><th scope=col>z</th><th scope=col>w</th></tr></thead>\n",
       "<tbody>\n",
       "\t<tr><td>-0.12513889</td><td>a          </td><td>-1.6064954 </td><td>2.58082743 </td></tr>\n",
       "\t<tr><td>-1.16185355</td><td>a          </td><td> 0.7312962 </td><td>0.53479411 </td></tr>\n",
       "\t<tr><td>-0.08420981</td><td>a          </td><td> 0.2532261 </td><td>0.06412345 </td></tr>\n",
       "\t<tr><td> 0.72498088</td><td>b          </td><td>-0.6856561 </td><td>0.47012434 </td></tr>\n",
       "\t<tr><td>-0.31751590</td><td>b          </td><td>-1.7739271 </td><td>3.14681730 </td></tr>\n",
       "\t<tr><td> 0.63671102</td><td>b          </td><td>-0.5892033 </td><td>0.34716052 </td></tr>\n",
       "\t<tr><td>-0.60397626</td><td>c          </td><td> 1.3613298 </td><td>1.85321895 </td></tr>\n",
       "\t<tr><td> 0.93432497</td><td>c          </td><td> 0.5009019 </td><td>0.25090274 </td></tr>\n",
       "\t<tr><td> 0.14011033</td><td>c          </td><td>-0.8500094 </td><td>0.72251594 </td></tr>\n",
       "</tbody>\n",
       "</table>\n"
      ],
      "text/latex": [
       "\\begin{tabular}{r|llll}\n",
       " x & y & z & w\\\\\n",
       "\\hline\n",
       "\t -0.12513889 & a           & -1.6064954  & 2.58082743 \\\\\n",
       "\t -1.16185355 & a           &  0.7312962  & 0.53479411 \\\\\n",
       "\t -0.08420981 & a           &  0.2532261  & 0.06412345 \\\\\n",
       "\t  0.72498088 & b           & -0.6856561  & 0.47012434 \\\\\n",
       "\t -0.31751590 & b           & -1.7739271  & 3.14681730 \\\\\n",
       "\t  0.63671102 & b           & -0.5892033  & 0.34716052 \\\\\n",
       "\t -0.60397626 & c           &  1.3613298  & 1.85321895 \\\\\n",
       "\t  0.93432497 & c           &  0.5009019  & 0.25090274 \\\\\n",
       "\t  0.14011033 & c           & -0.8500094  & 0.72251594 \\\\\n",
       "\\end{tabular}\n"
      ],
      "text/markdown": [
       "\n",
       "x | y | z | w | \n",
       "|---|---|---|---|---|---|---|---|---|\n",
       "| -0.12513889 | a           | -1.6064954  | 2.58082743  | \n",
       "| -1.16185355 | a           |  0.7312962  | 0.53479411  | \n",
       "| -0.08420981 | a           |  0.2532261  | 0.06412345  | \n",
       "|  0.72498088 | b           | -0.6856561  | 0.47012434  | \n",
       "| -0.31751590 | b           | -1.7739271  | 3.14681730  | \n",
       "|  0.63671102 | b           | -0.5892033  | 0.34716052  | \n",
       "| -0.60397626 | c           |  1.3613298  | 1.85321895  | \n",
       "|  0.93432497 | c           |  0.5009019  | 0.25090274  | \n",
       "|  0.14011033 | c           | -0.8500094  | 0.72251594  | \n",
       "\n",
       "\n"
      ],
      "text/plain": [
       "  x           y z          w         \n",
       "1 -0.12513889 a -1.6064954 2.58082743\n",
       "2 -1.16185355 a  0.7312962 0.53479411\n",
       "3 -0.08420981 a  0.2532261 0.06412345\n",
       "4  0.72498088 b -0.6856561 0.47012434\n",
       "5 -0.31751590 b -1.7739271 3.14681730\n",
       "6  0.63671102 b -0.5892033 0.34716052\n",
       "7 -0.60397626 c  1.3613298 1.85321895\n",
       "8  0.93432497 c  0.5009019 0.25090274\n",
       "9  0.14011033 c -0.8500094 0.72251594"
      ]
     },
     "metadata": {},
     "output_type": "display_data"
    }
   ],
   "source": [
    "DT[,w:=z^2]"
   ]
  },
  {
   "cell_type": "code",
   "execution_count": 42,
   "metadata": {
    "collapsed": false,
    "deletable": true,
    "editable": true
   },
   "outputs": [
    {
     "name": "stderr",
     "output_type": "stream",
     "text": [
      "Warning message in `[.data.table`(DT, , `:=`(y, 2)):\n",
      "“Coerced 'double' RHS to 'character' to match the column's type; may have truncated precision. Either change the target column to 'double' first (by creating a new 'double' vector length 9 (nrows of entire table) and assign that; i.e. 'replace' column), or coerce RHS to 'character' (e.g. 1L, NA_[real|integer]_, as.*, etc) to make your intent clear and for speed. Or, set the column type correctly up front when you create the table and stick to it, please.”"
     ]
    },
    {
     "data": {
      "text/html": [
       "<table>\n",
       "<thead><tr><th scope=col>x</th><th scope=col>y</th><th scope=col>z</th><th scope=col>w</th></tr></thead>\n",
       "<tbody>\n",
       "\t<tr><td>-0.12513889</td><td>2          </td><td>-1.6064954 </td><td>2.58082743 </td></tr>\n",
       "\t<tr><td>-1.16185355</td><td>2          </td><td> 0.7312962 </td><td>0.53479411 </td></tr>\n",
       "\t<tr><td>-0.08420981</td><td>2          </td><td> 0.2532261 </td><td>0.06412345 </td></tr>\n",
       "\t<tr><td> 0.72498088</td><td>2          </td><td>-0.6856561 </td><td>0.47012434 </td></tr>\n",
       "\t<tr><td>-0.31751590</td><td>2          </td><td>-1.7739271 </td><td>3.14681730 </td></tr>\n",
       "\t<tr><td> 0.63671102</td><td>2          </td><td>-0.5892033 </td><td>0.34716052 </td></tr>\n",
       "\t<tr><td>-0.60397626</td><td>2          </td><td> 1.3613298 </td><td>1.85321895 </td></tr>\n",
       "\t<tr><td> 0.93432497</td><td>2          </td><td> 0.5009019 </td><td>0.25090274 </td></tr>\n",
       "\t<tr><td> 0.14011033</td><td>2          </td><td>-0.8500094 </td><td>0.72251594 </td></tr>\n",
       "</tbody>\n",
       "</table>\n"
      ],
      "text/latex": [
       "\\begin{tabular}{r|llll}\n",
       " x & y & z & w\\\\\n",
       "\\hline\n",
       "\t -0.12513889 & 2           & -1.6064954  & 2.58082743 \\\\\n",
       "\t -1.16185355 & 2           &  0.7312962  & 0.53479411 \\\\\n",
       "\t -0.08420981 & 2           &  0.2532261  & 0.06412345 \\\\\n",
       "\t  0.72498088 & 2           & -0.6856561  & 0.47012434 \\\\\n",
       "\t -0.31751590 & 2           & -1.7739271  & 3.14681730 \\\\\n",
       "\t  0.63671102 & 2           & -0.5892033  & 0.34716052 \\\\\n",
       "\t -0.60397626 & 2           &  1.3613298  & 1.85321895 \\\\\n",
       "\t  0.93432497 & 2           &  0.5009019  & 0.25090274 \\\\\n",
       "\t  0.14011033 & 2           & -0.8500094  & 0.72251594 \\\\\n",
       "\\end{tabular}\n"
      ],
      "text/markdown": [
       "\n",
       "x | y | z | w | \n",
       "|---|---|---|---|---|---|---|---|---|\n",
       "| -0.12513889 | 2           | -1.6064954  | 2.58082743  | \n",
       "| -1.16185355 | 2           |  0.7312962  | 0.53479411  | \n",
       "| -0.08420981 | 2           |  0.2532261  | 0.06412345  | \n",
       "|  0.72498088 | 2           | -0.6856561  | 0.47012434  | \n",
       "| -0.31751590 | 2           | -1.7739271  | 3.14681730  | \n",
       "|  0.63671102 | 2           | -0.5892033  | 0.34716052  | \n",
       "| -0.60397626 | 2           |  1.3613298  | 1.85321895  | \n",
       "|  0.93432497 | 2           |  0.5009019  | 0.25090274  | \n",
       "|  0.14011033 | 2           | -0.8500094  | 0.72251594  | \n",
       "\n",
       "\n"
      ],
      "text/plain": [
       "  x           y z          w         \n",
       "1 -0.12513889 2 -1.6064954 2.58082743\n",
       "2 -1.16185355 2  0.7312962 0.53479411\n",
       "3 -0.08420981 2  0.2532261 0.06412345\n",
       "4  0.72498088 2 -0.6856561 0.47012434\n",
       "5 -0.31751590 2 -1.7739271 3.14681730\n",
       "6  0.63671102 2 -0.5892033 0.34716052\n",
       "7 -0.60397626 2  1.3613298 1.85321895\n",
       "8  0.93432497 2  0.5009019 0.25090274\n",
       "9  0.14011033 2 -0.8500094 0.72251594"
      ]
     },
     "metadata": {},
     "output_type": "display_data"
    }
   ],
   "source": [
    "DT2 <- DT\n",
    "DT[, y:=2]"
   ]
  },
  {
   "cell_type": "markdown",
   "metadata": {
    "deletable": true,
    "editable": true
   },
   "source": [
    "### Careful!"
   ]
  },
  {
   "cell_type": "code",
   "execution_count": 43,
   "metadata": {
    "collapsed": false,
    "deletable": true,
    "editable": true
   },
   "outputs": [
    {
     "data": {
      "text/html": [
       "<table>\n",
       "<thead><tr><th scope=col>x</th><th scope=col>y</th><th scope=col>z</th><th scope=col>w</th></tr></thead>\n",
       "<tbody>\n",
       "\t<tr><td>-0.12513889</td><td>2          </td><td>-1.6064954 </td><td>2.58082743 </td></tr>\n",
       "\t<tr><td>-1.16185355</td><td>2          </td><td> 0.7312962 </td><td>0.53479411 </td></tr>\n",
       "\t<tr><td>-0.08420981</td><td>2          </td><td> 0.2532261 </td><td>0.06412345 </td></tr>\n",
       "</tbody>\n",
       "</table>\n"
      ],
      "text/latex": [
       "\\begin{tabular}{r|llll}\n",
       " x & y & z & w\\\\\n",
       "\\hline\n",
       "\t -0.12513889 & 2           & -1.6064954  & 2.58082743 \\\\\n",
       "\t -1.16185355 & 2           &  0.7312962  & 0.53479411 \\\\\n",
       "\t -0.08420981 & 2           &  0.2532261  & 0.06412345 \\\\\n",
       "\\end{tabular}\n"
      ],
      "text/markdown": [
       "\n",
       "x | y | z | w | \n",
       "|---|---|---|\n",
       "| -0.12513889 | 2           | -1.6064954  | 2.58082743  | \n",
       "| -1.16185355 | 2           |  0.7312962  | 0.53479411  | \n",
       "| -0.08420981 | 2           |  0.2532261  | 0.06412345  | \n",
       "\n",
       "\n"
      ],
      "text/plain": [
       "  x           y z          w         \n",
       "1 -0.12513889 2 -1.6064954 2.58082743\n",
       "2 -1.16185355 2  0.7312962 0.53479411\n",
       "3 -0.08420981 2  0.2532261 0.06412345"
      ]
     },
     "metadata": {},
     "output_type": "display_data"
    }
   ],
   "source": [
    "head(DT, n=3)"
   ]
  },
  {
   "cell_type": "code",
   "execution_count": 44,
   "metadata": {
    "collapsed": false,
    "deletable": true,
    "editable": true
   },
   "outputs": [
    {
     "data": {
      "text/html": [
       "<table>\n",
       "<thead><tr><th scope=col>x</th><th scope=col>y</th><th scope=col>z</th><th scope=col>w</th></tr></thead>\n",
       "<tbody>\n",
       "\t<tr><td>-0.12513889</td><td>2          </td><td>-1.6064954 </td><td>2.58082743 </td></tr>\n",
       "\t<tr><td>-1.16185355</td><td>2          </td><td> 0.7312962 </td><td>0.53479411 </td></tr>\n",
       "\t<tr><td>-0.08420981</td><td>2          </td><td> 0.2532261 </td><td>0.06412345 </td></tr>\n",
       "</tbody>\n",
       "</table>\n"
      ],
      "text/latex": [
       "\\begin{tabular}{r|llll}\n",
       " x & y & z & w\\\\\n",
       "\\hline\n",
       "\t -0.12513889 & 2           & -1.6064954  & 2.58082743 \\\\\n",
       "\t -1.16185355 & 2           &  0.7312962  & 0.53479411 \\\\\n",
       "\t -0.08420981 & 2           &  0.2532261  & 0.06412345 \\\\\n",
       "\\end{tabular}\n"
      ],
      "text/markdown": [
       "\n",
       "x | y | z | w | \n",
       "|---|---|---|\n",
       "| -0.12513889 | 2           | -1.6064954  | 2.58082743  | \n",
       "| -1.16185355 | 2           |  0.7312962  | 0.53479411  | \n",
       "| -0.08420981 | 2           |  0.2532261  | 0.06412345  | \n",
       "\n",
       "\n"
      ],
      "text/plain": [
       "  x           y z          w         \n",
       "1 -0.12513889 2 -1.6064954 2.58082743\n",
       "2 -1.16185355 2  0.7312962 0.53479411\n",
       "3 -0.08420981 2  0.2532261 0.06412345"
      ]
     },
     "metadata": {},
     "output_type": "display_data"
    }
   ],
   "source": [
    "head(DT2, n=3)"
   ]
  },
  {
   "cell_type": "markdown",
   "metadata": {
    "deletable": true,
    "editable": true
   },
   "source": [
    "### Multiple operations"
   ]
  },
  {
   "cell_type": "code",
   "execution_count": 45,
   "metadata": {
    "collapsed": false,
    "deletable": true,
    "editable": true
   },
   "outputs": [
    {
     "data": {
      "text/html": [
       "<table>\n",
       "<thead><tr><th scope=col>x</th><th scope=col>y</th><th scope=col>z</th><th scope=col>w</th><th scope=col>m</th></tr></thead>\n",
       "<tbody>\n",
       "\t<tr><td>-0.12513889</td><td>2          </td><td>-1.6064954 </td><td>2.58082743 </td><td>2.247843   </td></tr>\n",
       "\t<tr><td>-1.16185355</td><td>2          </td><td> 0.7312962 </td><td>0.53479411 </td><td>1.420236   </td></tr>\n",
       "\t<tr><td>-0.08420981</td><td>2          </td><td> 0.2532261 </td><td>0.06412345 </td><td>2.272495   </td></tr>\n",
       "\t<tr><td> 0.72498088</td><td>2          </td><td>-0.6856561 </td><td>0.47012434 </td><td>2.689291   </td></tr>\n",
       "\t<tr><td>-0.31751590</td><td>2          </td><td>-1.7739271 </td><td>3.14681730 </td><td>2.125971   </td></tr>\n",
       "\t<tr><td> 0.63671102</td><td>2          </td><td>-0.5892033 </td><td>0.34716052 </td><td>2.649253   </td></tr>\n",
       "\t<tr><td>-0.60397626</td><td>2          </td><td> 1.3613298 </td><td>1.85321895 </td><td>1.922977   </td></tr>\n",
       "\t<tr><td> 0.93432497</td><td>2          </td><td> 0.5009019 </td><td>0.25090274 </td><td>2.780027   </td></tr>\n",
       "\t<tr><td> 0.14011033</td><td>2          </td><td>-0.8500094 </td><td>0.72251594 </td><td>2.400598   </td></tr>\n",
       "</tbody>\n",
       "</table>\n"
      ],
      "text/latex": [
       "\\begin{tabular}{r|lllll}\n",
       " x & y & z & w & m\\\\\n",
       "\\hline\n",
       "\t -0.12513889 & 2           & -1.6064954  & 2.58082743  & 2.247843   \\\\\n",
       "\t -1.16185355 & 2           &  0.7312962  & 0.53479411  & 1.420236   \\\\\n",
       "\t -0.08420981 & 2           &  0.2532261  & 0.06412345  & 2.272495   \\\\\n",
       "\t  0.72498088 & 2           & -0.6856561  & 0.47012434  & 2.689291   \\\\\n",
       "\t -0.31751590 & 2           & -1.7739271  & 3.14681730  & 2.125971   \\\\\n",
       "\t  0.63671102 & 2           & -0.5892033  & 0.34716052  & 2.649253   \\\\\n",
       "\t -0.60397626 & 2           &  1.3613298  & 1.85321895  & 1.922977   \\\\\n",
       "\t  0.93432497 & 2           &  0.5009019  & 0.25090274  & 2.780027   \\\\\n",
       "\t  0.14011033 & 2           & -0.8500094  & 0.72251594  & 2.400598   \\\\\n",
       "\\end{tabular}\n"
      ],
      "text/markdown": [
       "\n",
       "x | y | z | w | m | \n",
       "|---|---|---|---|---|---|---|---|---|\n",
       "| -0.12513889 | 2           | -1.6064954  | 2.58082743  | 2.247843    | \n",
       "| -1.16185355 | 2           |  0.7312962  | 0.53479411  | 1.420236    | \n",
       "| -0.08420981 | 2           |  0.2532261  | 0.06412345  | 2.272495    | \n",
       "|  0.72498088 | 2           | -0.6856561  | 0.47012434  | 2.689291    | \n",
       "| -0.31751590 | 2           | -1.7739271  | 3.14681730  | 2.125971    | \n",
       "|  0.63671102 | 2           | -0.5892033  | 0.34716052  | 2.649253    | \n",
       "| -0.60397626 | 2           |  1.3613298  | 1.85321895  | 1.922977    | \n",
       "|  0.93432497 | 2           |  0.5009019  | 0.25090274  | 2.780027    | \n",
       "|  0.14011033 | 2           | -0.8500094  | 0.72251594  | 2.400598    | \n",
       "\n",
       "\n"
      ],
      "text/plain": [
       "  x           y z          w          m       \n",
       "1 -0.12513889 2 -1.6064954 2.58082743 2.247843\n",
       "2 -1.16185355 2  0.7312962 0.53479411 1.420236\n",
       "3 -0.08420981 2  0.2532261 0.06412345 2.272495\n",
       "4  0.72498088 2 -0.6856561 0.47012434 2.689291\n",
       "5 -0.31751590 2 -1.7739271 3.14681730 2.125971\n",
       "6  0.63671102 2 -0.5892033 0.34716052 2.649253\n",
       "7 -0.60397626 2  1.3613298 1.85321895 1.922977\n",
       "8  0.93432497 2  0.5009019 0.25090274 2.780027\n",
       "9  0.14011033 2 -0.8500094 0.72251594 2.400598"
      ]
     },
     "metadata": {},
     "output_type": "display_data"
    }
   ],
   "source": [
    "DT[,m:={tmp <- (x+x); log2(tmp+5)}]"
   ]
  },
  {
   "cell_type": "markdown",
   "metadata": {
    "deletable": true,
    "editable": true
   },
   "source": [
    "### plyr like operations"
   ]
  },
  {
   "cell_type": "code",
   "execution_count": 46,
   "metadata": {
    "collapsed": false,
    "deletable": true,
    "editable": true
   },
   "outputs": [
    {
     "data": {
      "text/html": [
       "<table>\n",
       "<thead><tr><th scope=col>x</th><th scope=col>y</th><th scope=col>z</th><th scope=col>w</th><th scope=col>m</th><th scope=col>a</th></tr></thead>\n",
       "<tbody>\n",
       "\t<tr><td>-0.12513889</td><td>2          </td><td>-1.6064954 </td><td>2.58082743 </td><td>2.247843   </td><td>FALSE      </td></tr>\n",
       "\t<tr><td>-1.16185355</td><td>2          </td><td> 0.7312962 </td><td>0.53479411 </td><td>1.420236   </td><td>FALSE      </td></tr>\n",
       "\t<tr><td>-0.08420981</td><td>2          </td><td> 0.2532261 </td><td>0.06412345 </td><td>2.272495   </td><td>FALSE      </td></tr>\n",
       "\t<tr><td> 0.72498088</td><td>2          </td><td>-0.6856561 </td><td>0.47012434 </td><td>2.689291   </td><td> TRUE      </td></tr>\n",
       "\t<tr><td>-0.31751590</td><td>2          </td><td>-1.7739271 </td><td>3.14681730 </td><td>2.125971   </td><td>FALSE      </td></tr>\n",
       "\t<tr><td> 0.63671102</td><td>2          </td><td>-0.5892033 </td><td>0.34716052 </td><td>2.649253   </td><td> TRUE      </td></tr>\n",
       "\t<tr><td>-0.60397626</td><td>2          </td><td> 1.3613298 </td><td>1.85321895 </td><td>1.922977   </td><td>FALSE      </td></tr>\n",
       "\t<tr><td> 0.93432497</td><td>2          </td><td> 0.5009019 </td><td>0.25090274 </td><td>2.780027   </td><td> TRUE      </td></tr>\n",
       "\t<tr><td> 0.14011033</td><td>2          </td><td>-0.8500094 </td><td>0.72251594 </td><td>2.400598   </td><td> TRUE      </td></tr>\n",
       "</tbody>\n",
       "</table>\n"
      ],
      "text/latex": [
       "\\begin{tabular}{r|llllll}\n",
       " x & y & z & w & m & a\\\\\n",
       "\\hline\n",
       "\t -0.12513889 & 2           & -1.6064954  & 2.58082743  & 2.247843    & FALSE      \\\\\n",
       "\t -1.16185355 & 2           &  0.7312962  & 0.53479411  & 1.420236    & FALSE      \\\\\n",
       "\t -0.08420981 & 2           &  0.2532261  & 0.06412345  & 2.272495    & FALSE      \\\\\n",
       "\t  0.72498088 & 2           & -0.6856561  & 0.47012434  & 2.689291    &  TRUE      \\\\\n",
       "\t -0.31751590 & 2           & -1.7739271  & 3.14681730  & 2.125971    & FALSE      \\\\\n",
       "\t  0.63671102 & 2           & -0.5892033  & 0.34716052  & 2.649253    &  TRUE      \\\\\n",
       "\t -0.60397626 & 2           &  1.3613298  & 1.85321895  & 1.922977    & FALSE      \\\\\n",
       "\t  0.93432497 & 2           &  0.5009019  & 0.25090274  & 2.780027    &  TRUE      \\\\\n",
       "\t  0.14011033 & 2           & -0.8500094  & 0.72251594  & 2.400598    &  TRUE      \\\\\n",
       "\\end{tabular}\n"
      ],
      "text/markdown": [
       "\n",
       "x | y | z | w | m | a | \n",
       "|---|---|---|---|---|---|---|---|---|\n",
       "| -0.12513889 | 2           | -1.6064954  | 2.58082743  | 2.247843    | FALSE       | \n",
       "| -1.16185355 | 2           |  0.7312962  | 0.53479411  | 1.420236    | FALSE       | \n",
       "| -0.08420981 | 2           |  0.2532261  | 0.06412345  | 2.272495    | FALSE       | \n",
       "|  0.72498088 | 2           | -0.6856561  | 0.47012434  | 2.689291    |  TRUE       | \n",
       "| -0.31751590 | 2           | -1.7739271  | 3.14681730  | 2.125971    | FALSE       | \n",
       "|  0.63671102 | 2           | -0.5892033  | 0.34716052  | 2.649253    |  TRUE       | \n",
       "| -0.60397626 | 2           |  1.3613298  | 1.85321895  | 1.922977    | FALSE       | \n",
       "|  0.93432497 | 2           |  0.5009019  | 0.25090274  | 2.780027    |  TRUE       | \n",
       "|  0.14011033 | 2           | -0.8500094  | 0.72251594  | 2.400598    |  TRUE       | \n",
       "\n",
       "\n"
      ],
      "text/plain": [
       "  x           y z          w          m        a    \n",
       "1 -0.12513889 2 -1.6064954 2.58082743 2.247843 FALSE\n",
       "2 -1.16185355 2  0.7312962 0.53479411 1.420236 FALSE\n",
       "3 -0.08420981 2  0.2532261 0.06412345 2.272495 FALSE\n",
       "4  0.72498088 2 -0.6856561 0.47012434 2.689291  TRUE\n",
       "5 -0.31751590 2 -1.7739271 3.14681730 2.125971 FALSE\n",
       "6  0.63671102 2 -0.5892033 0.34716052 2.649253  TRUE\n",
       "7 -0.60397626 2  1.3613298 1.85321895 1.922977 FALSE\n",
       "8  0.93432497 2  0.5009019 0.25090274 2.780027  TRUE\n",
       "9  0.14011033 2 -0.8500094 0.72251594 2.400598  TRUE"
      ]
     },
     "metadata": {},
     "output_type": "display_data"
    }
   ],
   "source": [
    "DT[,a:=x>0]"
   ]
  },
  {
   "cell_type": "code",
   "execution_count": 47,
   "metadata": {
    "collapsed": false,
    "deletable": true,
    "editable": true
   },
   "outputs": [
    {
     "data": {
      "text/html": [
       "<table>\n",
       "<thead><tr><th scope=col>x</th><th scope=col>y</th><th scope=col>z</th><th scope=col>w</th><th scope=col>m</th><th scope=col>a</th><th scope=col>b</th></tr></thead>\n",
       "<tbody>\n",
       "\t<tr><td>-0.12513889</td><td>2          </td><td>-1.6064954 </td><td>2.58082743 </td><td>2.247843   </td><td>FALSE      </td><td>1.177417   </td></tr>\n",
       "\t<tr><td>-1.16185355</td><td>2          </td><td> 0.7312962 </td><td>0.53479411 </td><td>1.420236   </td><td>FALSE      </td><td>1.177417   </td></tr>\n",
       "\t<tr><td>-0.08420981</td><td>2          </td><td> 0.2532261 </td><td>0.06412345 </td><td>2.272495   </td><td>FALSE      </td><td>1.177417   </td></tr>\n",
       "\t<tr><td> 0.72498088</td><td>2          </td><td>-0.6856561 </td><td>0.47012434 </td><td>2.689291   </td><td> TRUE      </td><td>1.056708   </td></tr>\n",
       "\t<tr><td>-0.31751590</td><td>2          </td><td>-1.7739271 </td><td>3.14681730 </td><td>2.125971   </td><td>FALSE      </td><td>1.177417   </td></tr>\n",
       "\t<tr><td> 0.63671102</td><td>2          </td><td>-0.5892033 </td><td>0.34716052 </td><td>2.649253   </td><td> TRUE      </td><td>1.056708   </td></tr>\n",
       "\t<tr><td>-0.60397626</td><td>2          </td><td> 1.3613298 </td><td>1.85321895 </td><td>1.922977   </td><td>FALSE      </td><td>1.177417   </td></tr>\n",
       "\t<tr><td> 0.93432497</td><td>2          </td><td> 0.5009019 </td><td>0.25090274 </td><td>2.780027   </td><td> TRUE      </td><td>1.056708   </td></tr>\n",
       "\t<tr><td> 0.14011033</td><td>2          </td><td>-0.8500094 </td><td>0.72251594 </td><td>2.400598   </td><td> TRUE      </td><td>1.056708   </td></tr>\n",
       "</tbody>\n",
       "</table>\n"
      ],
      "text/latex": [
       "\\begin{tabular}{r|lllllll}\n",
       " x & y & z & w & m & a & b\\\\\n",
       "\\hline\n",
       "\t -0.12513889 & 2           & -1.6064954  & 2.58082743  & 2.247843    & FALSE       & 1.177417   \\\\\n",
       "\t -1.16185355 & 2           &  0.7312962  & 0.53479411  & 1.420236    & FALSE       & 1.177417   \\\\\n",
       "\t -0.08420981 & 2           &  0.2532261  & 0.06412345  & 2.272495    & FALSE       & 1.177417   \\\\\n",
       "\t  0.72498088 & 2           & -0.6856561  & 0.47012434  & 2.689291    &  TRUE       & 1.056708   \\\\\n",
       "\t -0.31751590 & 2           & -1.7739271  & 3.14681730  & 2.125971    & FALSE       & 1.177417   \\\\\n",
       "\t  0.63671102 & 2           & -0.5892033  & 0.34716052  & 2.649253    &  TRUE       & 1.056708   \\\\\n",
       "\t -0.60397626 & 2           &  1.3613298  & 1.85321895  & 1.922977    & FALSE       & 1.177417   \\\\\n",
       "\t  0.93432497 & 2           &  0.5009019  & 0.25090274  & 2.780027    &  TRUE       & 1.056708   \\\\\n",
       "\t  0.14011033 & 2           & -0.8500094  & 0.72251594  & 2.400598    &  TRUE       & 1.056708   \\\\\n",
       "\\end{tabular}\n"
      ],
      "text/markdown": [
       "\n",
       "x | y | z | w | m | a | b | \n",
       "|---|---|---|---|---|---|---|---|---|\n",
       "| -0.12513889 | 2           | -1.6064954  | 2.58082743  | 2.247843    | FALSE       | 1.177417    | \n",
       "| -1.16185355 | 2           |  0.7312962  | 0.53479411  | 1.420236    | FALSE       | 1.177417    | \n",
       "| -0.08420981 | 2           |  0.2532261  | 0.06412345  | 2.272495    | FALSE       | 1.177417    | \n",
       "|  0.72498088 | 2           | -0.6856561  | 0.47012434  | 2.689291    |  TRUE       | 1.056708    | \n",
       "| -0.31751590 | 2           | -1.7739271  | 3.14681730  | 2.125971    | FALSE       | 1.177417    | \n",
       "|  0.63671102 | 2           | -0.5892033  | 0.34716052  | 2.649253    |  TRUE       | 1.056708    | \n",
       "| -0.60397626 | 2           |  1.3613298  | 1.85321895  | 1.922977    | FALSE       | 1.177417    | \n",
       "|  0.93432497 | 2           |  0.5009019  | 0.25090274  | 2.780027    |  TRUE       | 1.056708    | \n",
       "|  0.14011033 | 2           | -0.8500094  | 0.72251594  | 2.400598    |  TRUE       | 1.056708    | \n",
       "\n",
       "\n"
      ],
      "text/plain": [
       "  x           y z          w          m        a     b       \n",
       "1 -0.12513889 2 -1.6064954 2.58082743 2.247843 FALSE 1.177417\n",
       "2 -1.16185355 2  0.7312962 0.53479411 1.420236 FALSE 1.177417\n",
       "3 -0.08420981 2  0.2532261 0.06412345 2.272495 FALSE 1.177417\n",
       "4  0.72498088 2 -0.6856561 0.47012434 2.689291  TRUE 1.056708\n",
       "5 -0.31751590 2 -1.7739271 3.14681730 2.125971 FALSE 1.177417\n",
       "6  0.63671102 2 -0.5892033 0.34716052 2.649253  TRUE 1.056708\n",
       "7 -0.60397626 2  1.3613298 1.85321895 1.922977 FALSE 1.177417\n",
       "8  0.93432497 2  0.5009019 0.25090274 2.780027  TRUE 1.056708\n",
       "9  0.14011033 2 -0.8500094 0.72251594 2.400598  TRUE 1.056708"
      ]
     },
     "metadata": {},
     "output_type": "display_data"
    }
   ],
   "source": [
    "DT[,b:=mean(x+w),by=a]"
   ]
  },
  {
   "cell_type": "markdown",
   "metadata": {
    "deletable": true,
    "editable": true
   },
   "source": [
    "### Special variables\n",
    ".N an integer, length 1, containing the number of times a group appears"
   ]
  },
  {
   "cell_type": "code",
   "execution_count": 48,
   "metadata": {
    "collapsed": false,
    "deletable": true,
    "editable": true
   },
   "outputs": [
    {
     "data": {
      "text/html": [
       "<table>\n",
       "<thead><tr><th scope=col>x</th><th scope=col>N</th></tr></thead>\n",
       "<tbody>\n",
       "\t<tr><td>a</td><td>1</td></tr>\n",
       "\t<tr><td>b</td><td>1</td></tr>\n",
       "\t<tr><td>c</td><td>1</td></tr>\n",
       "</tbody>\n",
       "</table>\n"
      ],
      "text/latex": [
       "\\begin{tabular}{r|ll}\n",
       " x & N\\\\\n",
       "\\hline\n",
       "\t a & 1\\\\\n",
       "\t b & 1\\\\\n",
       "\t c & 1\\\\\n",
       "\\end{tabular}\n"
      ],
      "text/markdown": [
       "\n",
       "x | N | \n",
       "|---|---|---|\n",
       "| a | 1 | \n",
       "| b | 1 | \n",
       "| c | 1 | \n",
       "\n",
       "\n"
      ],
      "text/plain": [
       "  x N\n",
       "1 a 1\n",
       "2 b 1\n",
       "3 c 1"
      ]
     },
     "metadata": {},
     "output_type": "display_data"
    }
   ],
   "source": [
    "set.seed(123);\n",
    "DT <- data.table(x=sample(letters[1:3]), 1E5, TRUE)\n",
    "DT[, .N, by=x]"
   ]
  },
  {
   "cell_type": "markdown",
   "metadata": {
    "deletable": true,
    "editable": true
   },
   "source": [
    "### Keys"
   ]
  },
  {
   "cell_type": "code",
   "execution_count": 49,
   "metadata": {
    "collapsed": false,
    "deletable": true,
    "editable": true
   },
   "outputs": [
    {
     "data": {
      "text/html": [
       "<table>\n",
       "<thead><tr><th scope=col>x</th><th scope=col>y</th></tr></thead>\n",
       "<tbody>\n",
       "\t<tr><td>a          </td><td> 1.19020663</td></tr>\n",
       "\t<tr><td>a          </td><td>-1.68955566</td></tr>\n",
       "\t<tr><td>a          </td><td> 1.23949589</td></tr>\n",
       "\t<tr><td>a          </td><td>-0.10896597</td></tr>\n",
       "\t<tr><td>a          </td><td>-0.11724196</td></tr>\n",
       "\t<tr><td>a          </td><td> 0.18308261</td></tr>\n",
       "\t<tr><td>a          </td><td> 1.28055488</td></tr>\n",
       "\t<tr><td>a          </td><td>-1.72727063</td></tr>\n",
       "\t<tr><td>a          </td><td> 1.69018435</td></tr>\n",
       "\t<tr><td>a          </td><td> 0.50381245</td></tr>\n",
       "\t<tr><td>a          </td><td> 2.52833655</td></tr>\n",
       "\t<tr><td>a          </td><td> 0.54909674</td></tr>\n",
       "\t<tr><td>a          </td><td> 0.23821292</td></tr>\n",
       "\t<tr><td>a          </td><td>-1.04889314</td></tr>\n",
       "\t<tr><td>a          </td><td> 1.29476325</td></tr>\n",
       "\t<tr><td>a          </td><td> 0.82553984</td></tr>\n",
       "\t<tr><td>a          </td><td>-0.05568601</td></tr>\n",
       "\t<tr><td>a          </td><td>-0.78438222</td></tr>\n",
       "\t<tr><td>a          </td><td>-0.73350322</td></tr>\n",
       "\t<tr><td>a          </td><td>-0.21586539</td></tr>\n",
       "\t<tr><td>a          </td><td>-0.33491276</td></tr>\n",
       "\t<tr><td>a          </td><td>-1.08569914</td></tr>\n",
       "\t<tr><td>a          </td><td>-0.08542326</td></tr>\n",
       "\t<tr><td>a          </td><td> 1.07061054</td></tr>\n",
       "\t<tr><td>a          </td><td>-0.14539355</td></tr>\n",
       "\t<tr><td>a          </td><td>-1.16554485</td></tr>\n",
       "\t<tr><td>a          </td><td>-0.81851572</td></tr>\n",
       "\t<tr><td>a          </td><td> 0.68493608</td></tr>\n",
       "\t<tr><td>a          </td><td>-0.32005642</td></tr>\n",
       "\t<tr><td>a          </td><td>-1.31152241</td></tr>\n",
       "\t<tr><td>⋮</td><td>⋮</td></tr>\n",
       "\t<tr><td>a           </td><td>-0.900791751</td></tr>\n",
       "\t<tr><td>a           </td><td>-0.735026156</td></tr>\n",
       "\t<tr><td>a           </td><td>-1.427685784</td></tr>\n",
       "\t<tr><td>a           </td><td> 0.619283535</td></tr>\n",
       "\t<tr><td>a           </td><td>-0.006198262</td></tr>\n",
       "\t<tr><td>a           </td><td>-0.685706846</td></tr>\n",
       "\t<tr><td>a           </td><td>-0.279333528</td></tr>\n",
       "\t<tr><td>a           </td><td>-0.782730275</td></tr>\n",
       "\t<tr><td>a           </td><td>-0.778997240</td></tr>\n",
       "\t<tr><td>a           </td><td>-0.374800093</td></tr>\n",
       "\t<tr><td>a           </td><td>-0.319393809</td></tr>\n",
       "\t<tr><td>a           </td><td> 0.084543768</td></tr>\n",
       "\t<tr><td>a           </td><td>-0.768473603</td></tr>\n",
       "\t<tr><td>a           </td><td>-0.625910913</td></tr>\n",
       "\t<tr><td>a           </td><td>-0.900870855</td></tr>\n",
       "\t<tr><td>a           </td><td> 0.663728670</td></tr>\n",
       "\t<tr><td>a           </td><td> 0.300279118</td></tr>\n",
       "\t<tr><td>a           </td><td> 0.074856824</td></tr>\n",
       "\t<tr><td>a           </td><td> 0.206372695</td></tr>\n",
       "\t<tr><td>a           </td><td>-0.488922835</td></tr>\n",
       "\t<tr><td>a           </td><td>-0.627951658</td></tr>\n",
       "\t<tr><td>a           </td><td>-0.046916726</td></tr>\n",
       "\t<tr><td>a           </td><td> 0.162618115</td></tr>\n",
       "\t<tr><td>a           </td><td> 1.292305915</td></tr>\n",
       "\t<tr><td>a           </td><td>-0.463556502</td></tr>\n",
       "\t<tr><td>a           </td><td> 0.305463227</td></tr>\n",
       "\t<tr><td>a           </td><td>-0.083988713</td></tr>\n",
       "\t<tr><td>a           </td><td> 0.410363449</td></tr>\n",
       "\t<tr><td>a           </td><td> 0.183678241</td></tr>\n",
       "\t<tr><td>a           </td><td> 1.778741618</td></tr>\n",
       "</tbody>\n",
       "</table>\n"
      ],
      "text/latex": [
       "\\begin{tabular}{r|ll}\n",
       " x & y\\\\\n",
       "\\hline\n",
       "\t a           &  1.19020663\\\\\n",
       "\t a           & -1.68955566\\\\\n",
       "\t a           &  1.23949589\\\\\n",
       "\t a           & -0.10896597\\\\\n",
       "\t a           & -0.11724196\\\\\n",
       "\t a           &  0.18308261\\\\\n",
       "\t a           &  1.28055488\\\\\n",
       "\t a           & -1.72727063\\\\\n",
       "\t a           &  1.69018435\\\\\n",
       "\t a           &  0.50381245\\\\\n",
       "\t a           &  2.52833655\\\\\n",
       "\t a           &  0.54909674\\\\\n",
       "\t a           &  0.23821292\\\\\n",
       "\t a           & -1.04889314\\\\\n",
       "\t a           &  1.29476325\\\\\n",
       "\t a           &  0.82553984\\\\\n",
       "\t a           & -0.05568601\\\\\n",
       "\t a           & -0.78438222\\\\\n",
       "\t a           & -0.73350322\\\\\n",
       "\t a           & -0.21586539\\\\\n",
       "\t a           & -0.33491276\\\\\n",
       "\t a           & -1.08569914\\\\\n",
       "\t a           & -0.08542326\\\\\n",
       "\t a           &  1.07061054\\\\\n",
       "\t a           & -0.14539355\\\\\n",
       "\t a           & -1.16554485\\\\\n",
       "\t a           & -0.81851572\\\\\n",
       "\t a           &  0.68493608\\\\\n",
       "\t a           & -0.32005642\\\\\n",
       "\t a           & -1.31152241\\\\\n",
       "\t ⋮ & ⋮\\\\\n",
       "\t a            & -0.900791751\\\\\n",
       "\t a            & -0.735026156\\\\\n",
       "\t a            & -1.427685784\\\\\n",
       "\t a            &  0.619283535\\\\\n",
       "\t a            & -0.006198262\\\\\n",
       "\t a            & -0.685706846\\\\\n",
       "\t a            & -0.279333528\\\\\n",
       "\t a            & -0.782730275\\\\\n",
       "\t a            & -0.778997240\\\\\n",
       "\t a            & -0.374800093\\\\\n",
       "\t a            & -0.319393809\\\\\n",
       "\t a            &  0.084543768\\\\\n",
       "\t a            & -0.768473603\\\\\n",
       "\t a            & -0.625910913\\\\\n",
       "\t a            & -0.900870855\\\\\n",
       "\t a            &  0.663728670\\\\\n",
       "\t a            &  0.300279118\\\\\n",
       "\t a            &  0.074856824\\\\\n",
       "\t a            &  0.206372695\\\\\n",
       "\t a            & -0.488922835\\\\\n",
       "\t a            & -0.627951658\\\\\n",
       "\t a            & -0.046916726\\\\\n",
       "\t a            &  0.162618115\\\\\n",
       "\t a            &  1.292305915\\\\\n",
       "\t a            & -0.463556502\\\\\n",
       "\t a            &  0.305463227\\\\\n",
       "\t a            & -0.083988713\\\\\n",
       "\t a            &  0.410363449\\\\\n",
       "\t a            &  0.183678241\\\\\n",
       "\t a            &  1.778741618\\\\\n",
       "\\end{tabular}\n"
      ],
      "text/markdown": [
       "\n",
       "x | y | \n",
       "|---|---|---|---|---|---|---|---|---|---|---|---|---|---|---|---|---|---|---|---|---|---|---|---|---|---|---|---|---|---|---|---|---|---|---|---|---|---|---|---|---|---|---|---|---|---|---|---|---|---|---|---|---|---|---|---|---|---|---|---|---|\n",
       "| a           |  1.19020663 | \n",
       "| a           | -1.68955566 | \n",
       "| a           |  1.23949589 | \n",
       "| a           | -0.10896597 | \n",
       "| a           | -0.11724196 | \n",
       "| a           |  0.18308261 | \n",
       "| a           |  1.28055488 | \n",
       "| a           | -1.72727063 | \n",
       "| a           |  1.69018435 | \n",
       "| a           |  0.50381245 | \n",
       "| a           |  2.52833655 | \n",
       "| a           |  0.54909674 | \n",
       "| a           |  0.23821292 | \n",
       "| a           | -1.04889314 | \n",
       "| a           |  1.29476325 | \n",
       "| a           |  0.82553984 | \n",
       "| a           | -0.05568601 | \n",
       "| a           | -0.78438222 | \n",
       "| a           | -0.73350322 | \n",
       "| a           | -0.21586539 | \n",
       "| a           | -0.33491276 | \n",
       "| a           | -1.08569914 | \n",
       "| a           | -0.08542326 | \n",
       "| a           |  1.07061054 | \n",
       "| a           | -0.14539355 | \n",
       "| a           | -1.16554485 | \n",
       "| a           | -0.81851572 | \n",
       "| a           |  0.68493608 | \n",
       "| a           | -0.32005642 | \n",
       "| a           | -1.31152241 | \n",
       "| ⋮ | ⋮ | \n",
       "| a            | -0.900791751 | \n",
       "| a            | -0.735026156 | \n",
       "| a            | -1.427685784 | \n",
       "| a            |  0.619283535 | \n",
       "| a            | -0.006198262 | \n",
       "| a            | -0.685706846 | \n",
       "| a            | -0.279333528 | \n",
       "| a            | -0.782730275 | \n",
       "| a            | -0.778997240 | \n",
       "| a            | -0.374800093 | \n",
       "| a            | -0.319393809 | \n",
       "| a            |  0.084543768 | \n",
       "| a            | -0.768473603 | \n",
       "| a            | -0.625910913 | \n",
       "| a            | -0.900870855 | \n",
       "| a            |  0.663728670 | \n",
       "| a            |  0.300279118 | \n",
       "| a            |  0.074856824 | \n",
       "| a            |  0.206372695 | \n",
       "| a            | -0.488922835 | \n",
       "| a            | -0.627951658 | \n",
       "| a            | -0.046916726 | \n",
       "| a            |  0.162618115 | \n",
       "| a            |  1.292305915 | \n",
       "| a            | -0.463556502 | \n",
       "| a            |  0.305463227 | \n",
       "| a            | -0.083988713 | \n",
       "| a            |  0.410363449 | \n",
       "| a            |  0.183678241 | \n",
       "| a            |  1.778741618 | \n",
       "\n",
       "\n"
      ],
      "text/plain": [
       "    x y           \n",
       "1   a  1.19020663 \n",
       "2   a -1.68955566 \n",
       "3   a  1.23949589 \n",
       "4   a -0.10896597 \n",
       "5   a -0.11724196 \n",
       "6   a  0.18308261 \n",
       "7   a  1.28055488 \n",
       "8   a -1.72727063 \n",
       "9   a  1.69018435 \n",
       "10  a  0.50381245 \n",
       "11  a  2.52833655 \n",
       "12  a  0.54909674 \n",
       "13  a  0.23821292 \n",
       "14  a -1.04889314 \n",
       "15  a  1.29476325 \n",
       "16  a  0.82553984 \n",
       "17  a -0.05568601 \n",
       "18  a -0.78438222 \n",
       "19  a -0.73350322 \n",
       "20  a -0.21586539 \n",
       "21  a -0.33491276 \n",
       "22  a -1.08569914 \n",
       "23  a -0.08542326 \n",
       "24  a  1.07061054 \n",
       "25  a -0.14539355 \n",
       "26  a -1.16554485 \n",
       "27  a -0.81851572 \n",
       "28  a  0.68493608 \n",
       "29  a -0.32005642 \n",
       "30  a -1.31152241 \n",
       "⋮   ⋮ ⋮           \n",
       "71  a -0.900791751\n",
       "72  a -0.735026156\n",
       "73  a -1.427685784\n",
       "74  a  0.619283535\n",
       "75  a -0.006198262\n",
       "76  a -0.685706846\n",
       "77  a -0.279333528\n",
       "78  a -0.782730275\n",
       "79  a -0.778997240\n",
       "80  a -0.374800093\n",
       "81  a -0.319393809\n",
       "82  a  0.084543768\n",
       "83  a -0.768473603\n",
       "84  a -0.625910913\n",
       "85  a -0.900870855\n",
       "86  a  0.663728670\n",
       "87  a  0.300279118\n",
       "88  a  0.074856824\n",
       "89  a  0.206372695\n",
       "90  a -0.488922835\n",
       "91  a -0.627951658\n",
       "92  a -0.046916726\n",
       "93  a  0.162618115\n",
       "94  a  1.292305915\n",
       "95  a -0.463556502\n",
       "96  a  0.305463227\n",
       "97  a -0.083988713\n",
       "98  a  0.410363449\n",
       "99  a  0.183678241\n",
       "100 a  1.778741618"
      ]
     },
     "metadata": {},
     "output_type": "display_data"
    }
   ],
   "source": [
    "DT <- data.table(x=rep(c(\"a\",\"b\",\"c\"),each=100), y=rnorm(300))\n",
    "setkey(DT, x)\n",
    "DT['a']"
   ]
  },
  {
   "cell_type": "markdown",
   "metadata": {
    "deletable": true,
    "editable": true
   },
   "source": [
    "### Joins\n",
    "* You can also keys to facilitate joins between data tables"
   ]
  },
  {
   "cell_type": "code",
   "execution_count": 50,
   "metadata": {
    "collapsed": false,
    "deletable": true,
    "editable": true
   },
   "outputs": [
    {
     "data": {
      "text/html": [
       "<table>\n",
       "<thead><tr><th scope=col>x</th><th scope=col>y</th><th scope=col>z</th></tr></thead>\n",
       "<tbody>\n",
       "\t<tr><td>a</td><td>1</td><td>5</td></tr>\n",
       "\t<tr><td>a</td><td>2</td><td>5</td></tr>\n",
       "\t<tr><td>b</td><td>3</td><td>6</td></tr>\n",
       "</tbody>\n",
       "</table>\n"
      ],
      "text/latex": [
       "\\begin{tabular}{r|lll}\n",
       " x & y & z\\\\\n",
       "\\hline\n",
       "\t a & 1 & 5\\\\\n",
       "\t a & 2 & 5\\\\\n",
       "\t b & 3 & 6\\\\\n",
       "\\end{tabular}\n"
      ],
      "text/markdown": [
       "\n",
       "x | y | z | \n",
       "|---|---|---|\n",
       "| a | 1 | 5 | \n",
       "| a | 2 | 5 | \n",
       "| b | 3 | 6 | \n",
       "\n",
       "\n"
      ],
      "text/plain": [
       "  x y z\n",
       "1 a 1 5\n",
       "2 a 2 5\n",
       "3 b 3 6"
      ]
     },
     "metadata": {},
     "output_type": "display_data"
    }
   ],
   "source": [
    "DT1 <- data.table(x=c('a','a','b','dt1'), y=1:4)\n",
    "DT2 <- data.table(x=c('a','b','dt2'), z=5:7)\n",
    "setkey(DT1,x); setkey(DT2, x)\n",
    "merge(DT1, DT2)"
   ]
  },
  {
   "cell_type": "markdown",
   "metadata": {
    "deletable": true,
    "editable": true
   },
   "source": [
    "### Fast reading\n",
    "Advantagous to use data.tables to read things fast from disk"
   ]
  },
  {
   "cell_type": "code",
   "execution_count": 51,
   "metadata": {
    "collapsed": false,
    "deletable": true,
    "editable": true
   },
   "outputs": [
    {
     "data": {
      "text/plain": [
       "   user  system elapsed \n",
       "  0.442   0.028   0.491 "
      ]
     },
     "metadata": {},
     "output_type": "display_data"
    }
   ],
   "source": [
    "big_df <- data.frame(x=rnorm(1E6), y=rnorm(1E6))\n",
    "file <- tempfile()\n",
    "write.table(big_df, file=file, row.names=FALSE, col.names=TRUE, sep=\"\\t\", quote=FALSE)\n",
    "system.time(fread(file))"
   ]
  },
  {
   "cell_type": "code",
   "execution_count": 52,
   "metadata": {
    "collapsed": false,
    "deletable": true,
    "editable": true
   },
   "outputs": [
    {
     "data": {
      "text/plain": [
       "   user  system elapsed \n",
       "  9.404   0.274  10.028 "
      ]
     },
     "metadata": {},
     "output_type": "display_data"
    }
   ],
   "source": [
    "system.time(read.table(file, header=TRUE, sep=\"\\t\"))"
   ]
  },
  {
   "cell_type": "markdown",
   "metadata": {
    "deletable": true,
    "editable": true
   },
   "source": [
    "### Summary and further reading\n",
    "* The latest development version contains new functions like melt and dcast for data.tables\n",
    "* Here is a list of differences between data.table and data.frame"
   ]
  }
 ],
 "metadata": {
  "kernelspec": {
   "display_name": "R",
   "language": "R",
   "name": "ir"
  },
  "language_info": {
   "codemirror_mode": "r",
   "file_extension": ".r",
   "mimetype": "text/x-r-source",
   "name": "R",
   "pygments_lexer": "r",
   "version": "3.3.2"
  }
 },
 "nbformat": 4,
 "nbformat_minor": 2
}
