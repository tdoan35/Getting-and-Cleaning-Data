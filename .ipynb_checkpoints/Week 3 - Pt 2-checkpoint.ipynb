{
 "cells": [
  {
   "cell_type": "markdown",
   "metadata": {},
   "source": [
    "Week 3 - Part 2\n",
    "===\n",
    "\n",
    "## Managing Data Frames with dplyr - Introduction\n",
    "\n",
    "### dplyr \n",
    "\n",
    "The data frame is a key data structure in statistics and in R\n",
    "* There is one observation per row\n",
    "* Each column represents a variable or measure or characteristic\n",
    "* Primary implementation that you will use is the default R implementation\n",
    "* Other implementations, particularly relational databases\n",
    "* Developed by Hadley Wickham of RStudio\n",
    "* An optimized and distilled verbs\n",
    "\n",
    "### dplyr Verbs\n",
    "* select: return a subset of the columns of a data frame\n",
    "* filter: extract a subset of rows from a data frame based on logical exp\n",
    "* arrange:\n",
    "* rename:\n",
    "* mutate:\n",
    "* summarise/summarize:\n",
    "\n",
    "### dplyr Properties\n",
    "* The first argument is a data frame.\n",
    "* The subsequent arguments describe what to do with it, and you can refer to columns in the data frame directly without using the $ operator\n",
    "* Results in a new data frame"
   ]
  },
  {
   "cell_type": "markdown",
   "metadata": {},
   "source": [
    "## Managing Data Frames with dplyr - Basic Tools"
   ]
  },
  {
   "cell_type": "code",
   "execution_count": 1,
   "metadata": {
    "collapsed": false
   },
   "outputs": [
    {
     "name": "stderr",
     "output_type": "stream",
     "text": [
      "\n",
      "Attaching package: ‘dplyr’\n",
      "\n",
      "The following objects are masked from ‘package:stats’:\n",
      "\n",
      "    filter, lag\n",
      "\n",
      "The following objects are masked from ‘package:base’:\n",
      "\n",
      "    intersect, setdiff, setequal, union\n",
      "\n"
     ]
    }
   ],
   "source": [
    "library(dplyr)"
   ]
  },
  {
   "cell_type": "markdown",
   "metadata": {},
   "source": [
    "## Merging Data\n",
    "\n",
    "### Peer review experiment data"
   ]
  },
  {
   "cell_type": "code",
   "execution_count": null,
   "metadata": {
    "collapsed": true
   },
   "outputs": [],
   "source": [
    "fileUrl1 = \"https://dl.dropboxusercontent.com/u/7710864/data/reviews-apr29.csv\"\n",
    "fileUrl2 = \"https://dl.dropboxusercontent.com/u/7710864/data/solutions-apr29.csv\""
   ]
  }
 ],
 "metadata": {
  "kernelspec": {
   "display_name": "R",
   "language": "R",
   "name": "ir"
  },
  "language_info": {
   "codemirror_mode": "r",
   "file_extension": ".r",
   "mimetype": "text/x-r-source",
   "name": "R",
   "pygments_lexer": "r",
   "version": "3.3.2"
  }
 },
 "nbformat": 4,
 "nbformat_minor": 2
}
