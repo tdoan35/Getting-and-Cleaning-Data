{
 "cells": [
  {
   "cell_type": "markdown",
   "metadata": {},
   "source": [
    "## Week 3 Quiz\n",
    "<b>Problem 1</b>\n",
    "\n",
    "The American Community Survey distributes downloadable data about United States communities. Download the 2006 microdata survey about housing for the state of Idaho using download.file() from here:\n",
    "\n",
    "https://d396qusza40orc.cloudfront.net/getdata%2Fdata%2Fss06hid.csv\n",
    "\n",
    "and load the data into R. The code book, describing the variable names is here:\n",
    "\n",
    "https://d396qusza40orc.cloudfront.net/getdata%2Fdata%2FPUMSDataDict06.pdf\n",
    "\n",
    "Create a logical vector that identifies the households on greater than 10 acres who sold more than $10,000 worth of agriculture products. Assign that logical vector to the variable agricultureLogical. Apply the which() function like this to identify the rows of the data frame where the logical vector is TRUE.\n",
    "\n",
    "which(agricultureLogical)\n",
    "\n",
    "What are the first 3 values that result?"
   ]
  },
  {
   "cell_type": "code",
   "execution_count": 1,
   "metadata": {
    "collapsed": false
   },
   "outputs": [
    {
     "data": {
      "text/html": [
       "<table>\n",
       "<thead><tr><th scope=col>RT</th><th scope=col>SERIALNO</th><th scope=col>DIVISION</th><th scope=col>PUMA</th><th scope=col>REGION</th><th scope=col>ST</th><th scope=col>ADJUST</th><th scope=col>WGTP</th><th scope=col>NP</th><th scope=col>TYPE</th><th scope=col>⋯</th><th scope=col>wgtp71</th><th scope=col>wgtp72</th><th scope=col>wgtp73</th><th scope=col>wgtp74</th><th scope=col>wgtp75</th><th scope=col>wgtp76</th><th scope=col>wgtp77</th><th scope=col>wgtp78</th><th scope=col>wgtp79</th><th scope=col>wgtp80</th></tr></thead>\n",
       "<tbody>\n",
       "\t<tr><td>H      </td><td>186    </td><td>8      </td><td>700    </td><td>4      </td><td>16     </td><td>1015675</td><td> 89    </td><td>4      </td><td>1      </td><td>⋯      </td><td> 81    </td><td> 27    </td><td> 93    </td><td>151    </td><td> 28    </td><td> 79    </td><td> 25    </td><td>101    </td><td>157    </td><td>129    </td></tr>\n",
       "\t<tr><td>H      </td><td>306    </td><td>8      </td><td>700    </td><td>4      </td><td>16     </td><td>1015675</td><td>310    </td><td>1      </td><td>1      </td><td>⋯      </td><td>292    </td><td>401    </td><td> 81    </td><td>494    </td><td>346    </td><td>496    </td><td>615    </td><td>286    </td><td>454    </td><td>260    </td></tr>\n",
       "\t<tr><td>H      </td><td>395    </td><td>8      </td><td>100    </td><td>4      </td><td>16     </td><td>1015675</td><td>106    </td><td>2      </td><td>1      </td><td>⋯      </td><td>123    </td><td>119    </td><td>168    </td><td>107    </td><td> 95    </td><td>101    </td><td> 30    </td><td>124    </td><td>106    </td><td> 31    </td></tr>\n",
       "\t<tr><td>H      </td><td>506    </td><td>8      </td><td>700    </td><td>4      </td><td>16     </td><td>1015675</td><td>240    </td><td>4      </td><td>1      </td><td>⋯      </td><td> 68    </td><td>359    </td><td>385    </td><td> 71    </td><td>234    </td><td>421    </td><td> 76    </td><td> 77    </td><td>242    </td><td>231    </td></tr>\n",
       "\t<tr><td>H      </td><td>835    </td><td>8      </td><td>800    </td><td>4      </td><td>16     </td><td>1015675</td><td>118    </td><td>4      </td><td>1      </td><td>⋯      </td><td>127    </td><td> 36    </td><td>119    </td><td>121    </td><td>116    </td><td>209    </td><td> 97    </td><td>176    </td><td>144    </td><td> 38    </td></tr>\n",
       "\t<tr><td>H      </td><td>989    </td><td>8      </td><td>700    </td><td>4      </td><td>16     </td><td>1015675</td><td>115    </td><td>4      </td><td>1      </td><td>⋯      </td><td>120    </td><td> 34    </td><td>109    </td><td>199    </td><td>116    </td><td>110    </td><td>211    </td><td>120    </td><td> 31    </td><td>189    </td></tr>\n",
       "</tbody>\n",
       "</table>\n"
      ],
      "text/latex": [
       "\\begin{tabular}{r|llllllllllllllllllllllllllllllllllllllllllllllllllllllllllllllllllllllllllllllllllllllllllllllllllllllllllllllllllllllllllllllllllllllllllllllllllllllllllllllllllllllllllllllllllllllllllll}\n",
       " RT & SERIALNO & DIVISION & PUMA & REGION & ST & ADJUST & WGTP & NP & TYPE & ⋯ & wgtp71 & wgtp72 & wgtp73 & wgtp74 & wgtp75 & wgtp76 & wgtp77 & wgtp78 & wgtp79 & wgtp80\\\\\n",
       "\\hline\n",
       "\t H       & 186     & 8       & 700     & 4       & 16      & 1015675 &  89     & 4       & 1       & ⋯       &  81     &  27     &  93     & 151     &  28     &  79     &  25     & 101     & 157     & 129    \\\\\n",
       "\t H       & 306     & 8       & 700     & 4       & 16      & 1015675 & 310     & 1       & 1       & ⋯       & 292     & 401     &  81     & 494     & 346     & 496     & 615     & 286     & 454     & 260    \\\\\n",
       "\t H       & 395     & 8       & 100     & 4       & 16      & 1015675 & 106     & 2       & 1       & ⋯       & 123     & 119     & 168     & 107     &  95     & 101     &  30     & 124     & 106     &  31    \\\\\n",
       "\t H       & 506     & 8       & 700     & 4       & 16      & 1015675 & 240     & 4       & 1       & ⋯       &  68     & 359     & 385     &  71     & 234     & 421     &  76     &  77     & 242     & 231    \\\\\n",
       "\t H       & 835     & 8       & 800     & 4       & 16      & 1015675 & 118     & 4       & 1       & ⋯       & 127     &  36     & 119     & 121     & 116     & 209     &  97     & 176     & 144     &  38    \\\\\n",
       "\t H       & 989     & 8       & 700     & 4       & 16      & 1015675 & 115     & 4       & 1       & ⋯       & 120     &  34     & 109     & 199     & 116     & 110     & 211     & 120     &  31     & 189    \\\\\n",
       "\\end{tabular}\n"
      ],
      "text/markdown": [
       "\n",
       "RT | SERIALNO | DIVISION | PUMA | REGION | ST | ADJUST | WGTP | NP | TYPE | ⋯ | wgtp71 | wgtp72 | wgtp73 | wgtp74 | wgtp75 | wgtp76 | wgtp77 | wgtp78 | wgtp79 | wgtp80 | \n",
       "|---|---|---|---|---|---|\n",
       "| H       | 186     | 8       | 700     | 4       | 16      | 1015675 |  89     | 4       | 1       | ⋯       |  81     |  27     |  93     | 151     |  28     |  79     |  25     | 101     | 157     | 129     | \n",
       "| H       | 306     | 8       | 700     | 4       | 16      | 1015675 | 310     | 1       | 1       | ⋯       | 292     | 401     |  81     | 494     | 346     | 496     | 615     | 286     | 454     | 260     | \n",
       "| H       | 395     | 8       | 100     | 4       | 16      | 1015675 | 106     | 2       | 1       | ⋯       | 123     | 119     | 168     | 107     |  95     | 101     |  30     | 124     | 106     |  31     | \n",
       "| H       | 506     | 8       | 700     | 4       | 16      | 1015675 | 240     | 4       | 1       | ⋯       |  68     | 359     | 385     |  71     | 234     | 421     |  76     |  77     | 242     | 231     | \n",
       "| H       | 835     | 8       | 800     | 4       | 16      | 1015675 | 118     | 4       | 1       | ⋯       | 127     |  36     | 119     | 121     | 116     | 209     |  97     | 176     | 144     |  38     | \n",
       "| H       | 989     | 8       | 700     | 4       | 16      | 1015675 | 115     | 4       | 1       | ⋯       | 120     |  34     | 109     | 199     | 116     | 110     | 211     | 120     |  31     | 189     | \n",
       "\n",
       "\n"
      ],
      "text/plain": [
       "  RT SERIALNO DIVISION PUMA REGION ST ADJUST  WGTP NP TYPE ⋯ wgtp71 wgtp72\n",
       "1 H  186      8        700  4      16 1015675  89  4  1    ⋯  81     27   \n",
       "2 H  306      8        700  4      16 1015675 310  1  1    ⋯ 292    401   \n",
       "3 H  395      8        100  4      16 1015675 106  2  1    ⋯ 123    119   \n",
       "4 H  506      8        700  4      16 1015675 240  4  1    ⋯  68    359   \n",
       "5 H  835      8        800  4      16 1015675 118  4  1    ⋯ 127     36   \n",
       "6 H  989      8        700  4      16 1015675 115  4  1    ⋯ 120     34   \n",
       "  wgtp73 wgtp74 wgtp75 wgtp76 wgtp77 wgtp78 wgtp79 wgtp80\n",
       "1  93    151     28     79     25    101    157    129   \n",
       "2  81    494    346    496    615    286    454    260   \n",
       "3 168    107     95    101     30    124    106     31   \n",
       "4 385     71    234    421     76     77    242    231   \n",
       "5 119    121    116    209     97    176    144     38   \n",
       "6 109    199    116    110    211    120     31    189   "
      ]
     },
     "metadata": {},
     "output_type": "display_data"
    }
   ],
   "source": [
    "acsData <- read.csv(\"./data/acsData.csv\")\n",
    "head(acsData)"
   ]
  },
  {
   "cell_type": "code",
   "execution_count": 2,
   "metadata": {
    "collapsed": false
   },
   "outputs": [
    {
     "data": {
      "text/html": [
       "<ol class=list-inline>\n",
       "\t<li>125</li>\n",
       "\t<li>238</li>\n",
       "\t<li>262</li>\n",
       "</ol>\n"
      ],
      "text/latex": [
       "\\begin{enumerate*}\n",
       "\\item 125\n",
       "\\item 238\n",
       "\\item 262\n",
       "\\end{enumerate*}\n"
      ],
      "text/markdown": [
       "1. 125\n",
       "2. 238\n",
       "3. 262\n",
       "\n",
       "\n"
      ],
      "text/plain": [
       "[1] 125 238 262"
      ]
     },
     "metadata": {},
     "output_type": "display_data"
    }
   ],
   "source": [
    "agricultureLogical <- acsData$ACR == 3 & acsData$AGS == 6\n",
    "head(which(agricultureLogical), 3)"
   ]
  },
  {
   "cell_type": "markdown",
   "metadata": {},
   "source": [
    "<b>Problem 2</b>\n",
    "\n",
    "Using the jpeg package read in the following picture of your instructor into R\n",
    "\n",
    "https://d396qusza40orc.cloudfront.net/getdata%2Fjeff.jpg\n",
    "\n",
    "Use the parameter native=TRUE. What are the 30th and 80th quantiles of the resulting data? (some Linux systems may produce an answer 638 different for the 30th quantile)"
   ]
  },
  {
   "cell_type": "code",
   "execution_count": 5,
   "metadata": {
    "collapsed": true
   },
   "outputs": [],
   "source": [
    "library(jpeg)"
   ]
  },
  {
   "cell_type": "code",
   "execution_count": 10,
   "metadata": {
    "collapsed": false
   },
   "outputs": [
    {
     "data": {
      "text/html": [
       "<dl class=dl-horizontal>\n",
       "\t<dt>30%</dt>\n",
       "\t\t<dd>-15259150.1</dd>\n",
       "\t<dt>80%</dt>\n",
       "\t\t<dd>-10575416</dd>\n",
       "</dl>\n"
      ],
      "text/latex": [
       "\\begin{description*}\n",
       "\\item[30\\textbackslash{}\\%] -15259150.1\n",
       "\\item[80\\textbackslash{}\\%] -10575416\n",
       "\\end{description*}\n"
      ],
      "text/markdown": [
       "30%\n",
       ":   -15259150.180%\n",
       ":   -10575416\n",
       "\n"
      ],
      "text/plain": [
       "      30%       80% \n",
       "-15259150 -10575416 "
      ]
     },
     "metadata": {},
     "output_type": "display_data"
    }
   ],
   "source": [
    "jpgData <- readJPEG(\"./data/jeffjpg.jpg\", native=TRUE)\n",
    "quantile(jpgData, probs <- c(0.3, 0.8))"
   ]
  },
  {
   "cell_type": "markdown",
   "metadata": {},
   "source": [
    "<b>Problem 3</b>\n",
    "\n",
    "Load the Gross Domestic Product data for the 190 ranked countries in this data set:\n",
    "\n",
    "https://d396qusza40orc.cloudfront.net/getdata%2Fdata%2FGDP.csv\n",
    "\n",
    "Load the educational data from this data set:\n",
    "\n",
    "https://d396qusza40orc.cloudfront.net/getdata%2Fdata%2FEDSTATS_Country.csv\n",
    "\n",
    "Match the data based on the country shortcode. How many of the IDs match? Sort the data frame in descending order by GDP rank (so United States is last). What is the 13th country in the resulting data frame?\n",
    "\n",
    "Original data sources:\n",
    "\n",
    "http://data.worldbank.org/data-catalog/GDP-ranking-table\n",
    "\n",
    "http://data.worldbank.org/data-catalog/ed-stats"
   ]
  },
  {
   "cell_type": "code",
   "execution_count": 12,
   "metadata": {
    "collapsed": false
   },
   "outputs": [],
   "source": [
    "gdpData <- read.csv(\"./data/gdpData.csv\", header = TRUE, skip = 3, sep = \",\")\n",
    "educData <- read.csv(\"./data/educData.csv\", header = TRUE)"
   ]
  },
  {
   "cell_type": "code",
   "execution_count": 14,
   "metadata": {
    "collapsed": false
   },
   "outputs": [],
   "source": [
    "library(dplyr)"
   ]
  },
  {
   "cell_type": "code",
   "execution_count": 16,
   "metadata": {
    "collapsed": false
   },
   "outputs": [],
   "source": [
    "gdp <- fread(\"./data/gdpData.csv\", skip = 4, nrows = 190, select = c(1, 2, 4, 5), col.names = c(\"CountryCode\", \"Rank\", \"Economy\", \"Total\"))\n",
    "edu <- fread(\"./data/educData.csv\")"
   ]
  },
  {
   "cell_type": "code",
   "execution_count": 18,
   "metadata": {
    "collapsed": false
   },
   "outputs": [],
   "source": [
    "merge <- merge(gdp, edu, by = \"CountryCode\")"
   ]
  },
  {
   "cell_type": "code",
   "execution_count": 19,
   "metadata": {
    "collapsed": false
   },
   "outputs": [
    {
     "data": {
      "text/html": [
       "189"
      ],
      "text/latex": [
       "189"
      ],
      "text/markdown": [
       "189"
      ],
      "text/plain": [
       "[1] 189"
      ]
     },
     "metadata": {},
     "output_type": "display_data"
    }
   ],
   "source": [
    "nrow(merge)"
   ]
  },
  {
   "cell_type": "code",
   "execution_count": 21,
   "metadata": {
    "collapsed": false
   },
   "outputs": [
    {
     "data": {
      "text/html": [
       "'St. Kitts and Nevis'"
      ],
      "text/latex": [
       "'St. Kitts and Nevis'"
      ],
      "text/markdown": [
       "'St. Kitts and Nevis'"
      ],
      "text/plain": [
       "[1] \"St. Kitts and Nevis\""
      ]
     },
     "metadata": {},
     "output_type": "display_data"
    }
   ],
   "source": [
    "arrange(merge, desc(Rank))[13, 'Economy']"
   ]
  },
  {
   "cell_type": "markdown",
   "metadata": {},
   "source": [
    "<b>Problem 4</b>\n",
    "\n",
    "What is the average GDP ranking for the \"High income: OECD\" and \"High income: nonOECD\" group?"
   ]
  },
  {
   "cell_type": "code",
   "execution_count": 22,
   "metadata": {
    "collapsed": false
   },
   "outputs": [
    {
     "data": {
      "text/html": [
       "<dl class=dl-horizontal>\n",
       "\t<dt>High income: nonOECD</dt>\n",
       "\t\t<dd>91.9130434782609</dd>\n",
       "\t<dt>High income: OECD</dt>\n",
       "\t\t<dd>32.9666666666667</dd>\n",
       "\t<dt>Low income</dt>\n",
       "\t\t<dd>133.72972972973</dd>\n",
       "\t<dt>Lower middle income</dt>\n",
       "\t\t<dd>107.703703703704</dd>\n",
       "\t<dt>Upper middle income</dt>\n",
       "\t\t<dd>92.1333333333333</dd>\n",
       "</dl>\n"
      ],
      "text/plain": [
       "High income: nonOECD    High income: OECD           Low income \n",
       "            91.91304             32.96667            133.72973 \n",
       " Lower middle income  Upper middle income \n",
       "           107.70370             92.13333 "
      ]
     },
     "metadata": {},
     "output_type": "display_data"
    }
   ],
   "source": [
    "tapply(merge$Rank, merge$`Income Group`, mean)"
   ]
  },
  {
   "cell_type": "markdown",
   "metadata": {},
   "source": [
    "<b>Problem 5</b>\n",
    "\n",
    "Cut the GDP ranking into 5 separate quantile groups. Make a table versus Income.Group. How many countries\n",
    "\n",
    "are Lower middle income but among the 38 nations with highest GDP?"
   ]
  },
  {
   "cell_type": "code",
   "execution_count": 23,
   "metadata": {
    "collapsed": false
   },
   "outputs": [
    {
     "data": {
      "text/plain": [
       "              \n",
       "               High income: nonOECD High income: OECD Low income\n",
       "  (0.811,38.8]                    4                18          0\n",
       "  (38.8,76.6]                     5                10          1\n",
       "  (76.6,114]                      8                 1          9\n",
       "  (114,152]                       4                 1         16\n",
       "  (152,190]                       2                 0         11\n",
       "              \n",
       "               Lower middle income Upper middle income\n",
       "  (0.811,38.8]                   5                  11\n",
       "  (38.8,76.6]                   13                   9\n",
       "  (76.6,114]                    12                   8\n",
       "  (114,152]                      8                   8\n",
       "  (152,190]                     16                   9"
      ]
     },
     "metadata": {},
     "output_type": "display_data"
    }
   ],
   "source": [
    "merge$RankGroups <- cut(merge$Rank, breaks = 5)\n",
    "table(merge$RankGroups, merge$`Income Group`)"
   ]
  }
 ],
 "metadata": {
  "kernelspec": {
   "display_name": "R",
   "language": "R",
   "name": "ir"
  },
  "language_info": {
   "codemirror_mode": "r",
   "file_extension": ".r",
   "mimetype": "text/x-r-source",
   "name": "R",
   "pygments_lexer": "r",
   "version": "3.3.2"
  }
 },
 "nbformat": 4,
 "nbformat_minor": 2
}
