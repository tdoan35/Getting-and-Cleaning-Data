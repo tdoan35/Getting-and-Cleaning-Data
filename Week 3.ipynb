{
 "cells": [
  {
   "cell_type": "markdown",
   "metadata": {},
   "source": [
    "Week 3\n",
    "===\n",
    "\n",
    "## Subsetting and Sorting\n",
    "\n",
    "### Subsetting - quick review"
   ]
  },
  {
   "cell_type": "code",
   "execution_count": 1,
   "metadata": {
    "collapsed": false
   },
   "outputs": [
    {
     "data": {
      "text/html": [
       "<table>\n",
       "<thead><tr><th></th><th scope=col>var1</th><th scope=col>var2</th><th scope=col>var3</th></tr></thead>\n",
       "<tbody>\n",
       "\t<tr><th scope=row>1</th><td>2 </td><td>NA</td><td>15</td></tr>\n",
       "\t<tr><th scope=row>4</th><td>1 </td><td>10</td><td>11</td></tr>\n",
       "\t<tr><th scope=row>2</th><td>3 </td><td>NA</td><td>12</td></tr>\n",
       "\t<tr><th scope=row>3</th><td>5 </td><td> 6</td><td>14</td></tr>\n",
       "\t<tr><th scope=row>5</th><td>4 </td><td> 9</td><td>13</td></tr>\n",
       "</tbody>\n",
       "</table>\n"
      ],
      "text/latex": [
       "\\begin{tabular}{r|lll}\n",
       "  & var1 & var2 & var3\\\\\n",
       "\\hline\n",
       "\t1 & 2  & NA & 15\\\\\n",
       "\t4 & 1  & 10 & 11\\\\\n",
       "\t2 & 3  & NA & 12\\\\\n",
       "\t3 & 5  &  6 & 14\\\\\n",
       "\t5 & 4  &  9 & 13\\\\\n",
       "\\end{tabular}\n"
      ],
      "text/markdown": [
       "\n",
       "| <!--/--> | var1 | var2 | var3 | \n",
       "|---|---|---|---|---|\n",
       "| 1 | 2  | NA | 15 | \n",
       "| 4 | 1  | 10 | 11 | \n",
       "| 2 | 3  | NA | 12 | \n",
       "| 3 | 5  |  6 | 14 | \n",
       "| 5 | 4  |  9 | 13 | \n",
       "\n",
       "\n"
      ],
      "text/plain": [
       "  var1 var2 var3\n",
       "1 2    NA   15  \n",
       "4 1    10   11  \n",
       "2 3    NA   12  \n",
       "3 5     6   14  \n",
       "5 4     9   13  "
      ]
     },
     "metadata": {},
     "output_type": "display_data"
    }
   ],
   "source": [
    "set.seed(13435)\n",
    "X <- data.frame(\"var1\"=sample(1:5),\"var2\"=sample(6:10),\"var3\"=sample(11:15))\n",
    "X <- X[sample(1:5),]; X$var2[c(1,3)] = NA\n",
    "X"
   ]
  },
  {
   "cell_type": "code",
   "execution_count": 2,
   "metadata": {
    "collapsed": false
   },
   "outputs": [
    {
     "data": {
      "text/html": [
       "<ol class=list-inline>\n",
       "\t<li>2</li>\n",
       "\t<li>1</li>\n",
       "\t<li>3</li>\n",
       "\t<li>5</li>\n",
       "\t<li>4</li>\n",
       "</ol>\n"
      ],
      "text/latex": [
       "\\begin{enumerate*}\n",
       "\\item 2\n",
       "\\item 1\n",
       "\\item 3\n",
       "\\item 5\n",
       "\\item 4\n",
       "\\end{enumerate*}\n"
      ],
      "text/markdown": [
       "1. 2\n",
       "2. 1\n",
       "3. 3\n",
       "4. 5\n",
       "5. 4\n",
       "\n",
       "\n"
      ],
      "text/plain": [
       "[1] 2 1 3 5 4"
      ]
     },
     "metadata": {},
     "output_type": "display_data"
    }
   ],
   "source": [
    "X[,1] # Subsetting a specific column index"
   ]
  },
  {
   "cell_type": "code",
   "execution_count": 3,
   "metadata": {
    "collapsed": false
   },
   "outputs": [
    {
     "data": {
      "text/html": [
       "<ol class=list-inline>\n",
       "\t<li>2</li>\n",
       "\t<li>1</li>\n",
       "\t<li>3</li>\n",
       "\t<li>5</li>\n",
       "\t<li>4</li>\n",
       "</ol>\n"
      ],
      "text/latex": [
       "\\begin{enumerate*}\n",
       "\\item 2\n",
       "\\item 1\n",
       "\\item 3\n",
       "\\item 5\n",
       "\\item 4\n",
       "\\end{enumerate*}\n"
      ],
      "text/markdown": [
       "1. 2\n",
       "2. 1\n",
       "3. 3\n",
       "4. 5\n",
       "5. 4\n",
       "\n",
       "\n"
      ],
      "text/plain": [
       "[1] 2 1 3 5 4"
      ]
     },
     "metadata": {},
     "output_type": "display_data"
    }
   ],
   "source": [
    "X[,\"var1\"] # Subsetting a column by variable name"
   ]
  },
  {
   "cell_type": "code",
   "execution_count": 4,
   "metadata": {
    "collapsed": false
   },
   "outputs": [
    {
     "data": {
      "text/html": [
       "<ol class=list-inline>\n",
       "\t<li>NA</li>\n",
       "\t<li>10</li>\n",
       "</ol>\n"
      ],
      "text/latex": [
       "\\begin{enumerate*}\n",
       "\\item NA\n",
       "\\item 10\n",
       "\\end{enumerate*}\n"
      ],
      "text/markdown": [
       "1. NA\n",
       "2. 10\n",
       "\n",
       "\n"
      ],
      "text/plain": [
       "[1] NA 10"
      ]
     },
     "metadata": {},
     "output_type": "display_data"
    }
   ],
   "source": [
    "X[1:2,\"var2\"] # Subsetting the first two rows of x from 1:2\n",
    "              # and from column \"var2\""
   ]
  },
  {
   "cell_type": "markdown",
   "metadata": {},
   "source": [
    "### Logicals ANDs and ORs"
   ]
  },
  {
   "cell_type": "code",
   "execution_count": 5,
   "metadata": {
    "collapsed": false
   },
   "outputs": [
    {
     "data": {
      "text/html": [
       "<table>\n",
       "<thead><tr><th scope=col>var1</th><th scope=col>var2</th><th scope=col>var3</th></tr></thead>\n",
       "<tbody>\n",
       "\t<tr><td>2 </td><td>NA</td><td>15</td></tr>\n",
       "\t<tr><td>3 </td><td>NA</td><td>12</td></tr>\n",
       "</tbody>\n",
       "</table>\n"
      ],
      "text/latex": [
       "\\begin{tabular}{r|lll}\n",
       " var1 & var2 & var3\\\\\n",
       "\\hline\n",
       "\t 2  & NA & 15\\\\\n",
       "\t 3  & NA & 12\\\\\n",
       "\\end{tabular}\n"
      ],
      "text/markdown": [
       "\n",
       "var1 | var2 | var3 | \n",
       "|---|---|\n",
       "| 2  | NA | 15 | \n",
       "| 3  | NA | 12 | \n",
       "\n",
       "\n"
      ],
      "text/plain": [
       "  var1 var2 var3\n",
       "1 2    NA   15  \n",
       "2 3    NA   12  "
      ]
     },
     "metadata": {},
     "output_type": "display_data"
    }
   ],
   "source": [
    "X[(X$var1 <= 3 & X$var3 > 11),] # Subset all the rows of x where var1 <= 3\n",
    "                                # AND var3 > 11"
   ]
  },
  {
   "cell_type": "code",
   "execution_count": 6,
   "metadata": {
    "collapsed": false
   },
   "outputs": [
    {
     "data": {
      "text/html": [
       "<table>\n",
       "<thead><tr><th></th><th scope=col>var1</th><th scope=col>var2</th><th scope=col>var3</th></tr></thead>\n",
       "<tbody>\n",
       "\t<tr><th scope=row>1</th><td>2 </td><td>NA</td><td>15</td></tr>\n",
       "\t<tr><th scope=row>4</th><td>1 </td><td>10</td><td>11</td></tr>\n",
       "\t<tr><th scope=row>2</th><td>3 </td><td>NA</td><td>12</td></tr>\n",
       "</tbody>\n",
       "</table>\n"
      ],
      "text/latex": [
       "\\begin{tabular}{r|lll}\n",
       "  & var1 & var2 & var3\\\\\n",
       "\\hline\n",
       "\t1 & 2  & NA & 15\\\\\n",
       "\t4 & 1  & 10 & 11\\\\\n",
       "\t2 & 3  & NA & 12\\\\\n",
       "\\end{tabular}\n"
      ],
      "text/markdown": [
       "\n",
       "| <!--/--> | var1 | var2 | var3 | \n",
       "|---|---|---|\n",
       "| 1 | 2  | NA | 15 | \n",
       "| 4 | 1  | 10 | 11 | \n",
       "| 2 | 3  | NA | 12 | \n",
       "\n",
       "\n"
      ],
      "text/plain": [
       "  var1 var2 var3\n",
       "1 2    NA   15  \n",
       "4 1    10   11  \n",
       "2 3    NA   12  "
      ]
     },
     "metadata": {},
     "output_type": "display_data"
    }
   ],
   "source": [
    "X[(X$var1 <= 3 | X$var3 > 15),] # Subset all the rows of x where var1 <= 3\n",
    "                                # OR var3 > 15"
   ]
  },
  {
   "cell_type": "markdown",
   "metadata": {},
   "source": [
    "### Dealing with Missing Values\n",
    "Subsetting on NAs will not produce the actual rows. In order to get around this, we use the <b>which</b> command, which will return the indices where var2 > 8 in this case. When it returns the indices where var2 > 8, it doesn't return the NAs, and so you can subset the data set - dealing with the NAs you might have."
   ]
  },
  {
   "cell_type": "code",
   "execution_count": 7,
   "metadata": {
    "collapsed": false
   },
   "outputs": [
    {
     "data": {
      "text/html": [
       "<table>\n",
       "<thead><tr><th></th><th scope=col>var1</th><th scope=col>var2</th><th scope=col>var3</th></tr></thead>\n",
       "<tbody>\n",
       "\t<tr><th scope=row>4</th><td>1 </td><td>10</td><td>11</td></tr>\n",
       "\t<tr><th scope=row>5</th><td>4 </td><td> 9</td><td>13</td></tr>\n",
       "</tbody>\n",
       "</table>\n"
      ],
      "text/latex": [
       "\\begin{tabular}{r|lll}\n",
       "  & var1 & var2 & var3\\\\\n",
       "\\hline\n",
       "\t4 & 1  & 10 & 11\\\\\n",
       "\t5 & 4  &  9 & 13\\\\\n",
       "\\end{tabular}\n"
      ],
      "text/markdown": [
       "\n",
       "| <!--/--> | var1 | var2 | var3 | \n",
       "|---|---|\n",
       "| 4 | 1  | 10 | 11 | \n",
       "| 5 | 4  |  9 | 13 | \n",
       "\n",
       "\n"
      ],
      "text/plain": [
       "  var1 var2 var3\n",
       "4 1    10   11  \n",
       "5 4     9   13  "
      ]
     },
     "metadata": {},
     "output_type": "display_data"
    }
   ],
   "source": [
    "X[which(X$var2 > 8),]"
   ]
  },
  {
   "cell_type": "markdown",
   "metadata": {},
   "source": [
    "### Sorting"
   ]
  },
  {
   "cell_type": "code",
   "execution_count": 8,
   "metadata": {
    "collapsed": false
   },
   "outputs": [
    {
     "data": {
      "text/html": [
       "<ol class=list-inline>\n",
       "\t<li>1</li>\n",
       "\t<li>2</li>\n",
       "\t<li>3</li>\n",
       "\t<li>4</li>\n",
       "\t<li>5</li>\n",
       "</ol>\n"
      ],
      "text/latex": [
       "\\begin{enumerate*}\n",
       "\\item 1\n",
       "\\item 2\n",
       "\\item 3\n",
       "\\item 4\n",
       "\\item 5\n",
       "\\end{enumerate*}\n"
      ],
      "text/markdown": [
       "1. 1\n",
       "2. 2\n",
       "3. 3\n",
       "4. 4\n",
       "5. 5\n",
       "\n",
       "\n"
      ],
      "text/plain": [
       "[1] 1 2 3 4 5"
      ]
     },
     "metadata": {},
     "output_type": "display_data"
    }
   ],
   "source": [
    "sort(X$var1) # Sorting var1 in increasing order"
   ]
  },
  {
   "cell_type": "code",
   "execution_count": 9,
   "metadata": {
    "collapsed": false
   },
   "outputs": [
    {
     "data": {
      "text/html": [
       "<ol class=list-inline>\n",
       "\t<li>5</li>\n",
       "\t<li>4</li>\n",
       "\t<li>3</li>\n",
       "\t<li>2</li>\n",
       "\t<li>1</li>\n",
       "</ol>\n"
      ],
      "text/latex": [
       "\\begin{enumerate*}\n",
       "\\item 5\n",
       "\\item 4\n",
       "\\item 3\n",
       "\\item 2\n",
       "\\item 1\n",
       "\\end{enumerate*}\n"
      ],
      "text/markdown": [
       "1. 5\n",
       "2. 4\n",
       "3. 3\n",
       "4. 2\n",
       "5. 1\n",
       "\n",
       "\n"
      ],
      "text/plain": [
       "[1] 5 4 3 2 1"
      ]
     },
     "metadata": {},
     "output_type": "display_data"
    }
   ],
   "source": [
    "sort(X$var1, decreasing=TRUE) # Sorting in decreasing order"
   ]
  },
  {
   "cell_type": "code",
   "execution_count": 10,
   "metadata": {
    "collapsed": false
   },
   "outputs": [
    {
     "data": {
      "text/html": [
       "<ol class=list-inline>\n",
       "\t<li>6</li>\n",
       "\t<li>9</li>\n",
       "\t<li>10</li>\n",
       "\t<li>NA</li>\n",
       "\t<li>NA</li>\n",
       "</ol>\n"
      ],
      "text/latex": [
       "\\begin{enumerate*}\n",
       "\\item 6\n",
       "\\item 9\n",
       "\\item 10\n",
       "\\item NA\n",
       "\\item NA\n",
       "\\end{enumerate*}\n"
      ],
      "text/markdown": [
       "1. 6\n",
       "2. 9\n",
       "3. 10\n",
       "4. NA\n",
       "5. NA\n",
       "\n",
       "\n"
      ],
      "text/plain": [
       "[1]  6  9 10 NA NA"
      ]
     },
     "metadata": {},
     "output_type": "display_data"
    }
   ],
   "source": [
    "sort(X$var2, na.last=TRUE) # Sort and move all NA values to the end"
   ]
  },
  {
   "cell_type": "markdown",
   "metadata": {},
   "source": [
    "### Ordering"
   ]
  },
  {
   "cell_type": "code",
   "execution_count": 11,
   "metadata": {
    "collapsed": false
   },
   "outputs": [
    {
     "data": {
      "text/html": [
       "<table>\n",
       "<thead><tr><th></th><th scope=col>var1</th><th scope=col>var2</th><th scope=col>var3</th></tr></thead>\n",
       "<tbody>\n",
       "\t<tr><th scope=row>4</th><td>1 </td><td>10</td><td>11</td></tr>\n",
       "\t<tr><th scope=row>1</th><td>2 </td><td>NA</td><td>15</td></tr>\n",
       "\t<tr><th scope=row>2</th><td>3 </td><td>NA</td><td>12</td></tr>\n",
       "\t<tr><th scope=row>5</th><td>4 </td><td> 9</td><td>13</td></tr>\n",
       "\t<tr><th scope=row>3</th><td>5 </td><td> 6</td><td>14</td></tr>\n",
       "</tbody>\n",
       "</table>\n"
      ],
      "text/latex": [
       "\\begin{tabular}{r|lll}\n",
       "  & var1 & var2 & var3\\\\\n",
       "\\hline\n",
       "\t4 & 1  & 10 & 11\\\\\n",
       "\t1 & 2  & NA & 15\\\\\n",
       "\t2 & 3  & NA & 12\\\\\n",
       "\t5 & 4  &  9 & 13\\\\\n",
       "\t3 & 5  &  6 & 14\\\\\n",
       "\\end{tabular}\n"
      ],
      "text/markdown": [
       "\n",
       "| <!--/--> | var1 | var2 | var3 | \n",
       "|---|---|---|---|---|\n",
       "| 4 | 1  | 10 | 11 | \n",
       "| 1 | 2  | NA | 15 | \n",
       "| 2 | 3  | NA | 12 | \n",
       "| 5 | 4  |  9 | 13 | \n",
       "| 3 | 5  |  6 | 14 | \n",
       "\n",
       "\n"
      ],
      "text/plain": [
       "  var1 var2 var3\n",
       "4 1    10   11  \n",
       "1 2    NA   15  \n",
       "2 3    NA   12  \n",
       "5 4     9   13  \n",
       "3 5     6   14  "
      ]
     },
     "metadata": {},
     "output_type": "display_data"
    }
   ],
   "source": [
    "X[order(X$var1),] # Ordering the rows of the dataframe by var1 \n",
    "                  # in increasing order"
   ]
  },
  {
   "cell_type": "code",
   "execution_count": 12,
   "metadata": {
    "collapsed": false
   },
   "outputs": [
    {
     "data": {
      "text/html": [
       "<table>\n",
       "<thead><tr><th></th><th scope=col>var1</th><th scope=col>var2</th><th scope=col>var3</th></tr></thead>\n",
       "<tbody>\n",
       "\t<tr><th scope=row>4</th><td>1 </td><td>10</td><td>11</td></tr>\n",
       "\t<tr><th scope=row>1</th><td>2 </td><td>NA</td><td>15</td></tr>\n",
       "\t<tr><th scope=row>2</th><td>3 </td><td>NA</td><td>12</td></tr>\n",
       "\t<tr><th scope=row>5</th><td>4 </td><td> 9</td><td>13</td></tr>\n",
       "\t<tr><th scope=row>3</th><td>5 </td><td> 6</td><td>14</td></tr>\n",
       "</tbody>\n",
       "</table>\n"
      ],
      "text/latex": [
       "\\begin{tabular}{r|lll}\n",
       "  & var1 & var2 & var3\\\\\n",
       "\\hline\n",
       "\t4 & 1  & 10 & 11\\\\\n",
       "\t1 & 2  & NA & 15\\\\\n",
       "\t2 & 3  & NA & 12\\\\\n",
       "\t5 & 4  &  9 & 13\\\\\n",
       "\t3 & 5  &  6 & 14\\\\\n",
       "\\end{tabular}\n"
      ],
      "text/markdown": [
       "\n",
       "| <!--/--> | var1 | var2 | var3 | \n",
       "|---|---|---|---|---|\n",
       "| 4 | 1  | 10 | 11 | \n",
       "| 1 | 2  | NA | 15 | \n",
       "| 2 | 3  | NA | 12 | \n",
       "| 5 | 4  |  9 | 13 | \n",
       "| 3 | 5  |  6 | 14 | \n",
       "\n",
       "\n"
      ],
      "text/plain": [
       "  var1 var2 var3\n",
       "4 1    10   11  \n",
       "1 2    NA   15  \n",
       "2 3    NA   12  \n",
       "5 4     9   13  \n",
       "3 5     6   14  "
      ]
     },
     "metadata": {},
     "output_type": "display_data"
    }
   ],
   "source": [
    "X[order(X$var1, X$var3),] # Ordering the rows with multiple variables\n",
    "                          # var1 then var3"
   ]
  },
  {
   "cell_type": "markdown",
   "metadata": {},
   "source": [
    "### Ordering with plyr"
   ]
  },
  {
   "cell_type": "code",
   "execution_count": 13,
   "metadata": {
    "collapsed": false
   },
   "outputs": [
    {
     "data": {
      "text/html": [
       "<table>\n",
       "<thead><tr><th scope=col>var1</th><th scope=col>var2</th><th scope=col>var3</th></tr></thead>\n",
       "<tbody>\n",
       "\t<tr><td>1 </td><td>10</td><td>11</td></tr>\n",
       "\t<tr><td>2 </td><td>NA</td><td>15</td></tr>\n",
       "\t<tr><td>3 </td><td>NA</td><td>12</td></tr>\n",
       "\t<tr><td>4 </td><td> 9</td><td>13</td></tr>\n",
       "\t<tr><td>5 </td><td> 6</td><td>14</td></tr>\n",
       "</tbody>\n",
       "</table>\n"
      ],
      "text/latex": [
       "\\begin{tabular}{r|lll}\n",
       " var1 & var2 & var3\\\\\n",
       "\\hline\n",
       "\t 1  & 10 & 11\\\\\n",
       "\t 2  & NA & 15\\\\\n",
       "\t 3  & NA & 12\\\\\n",
       "\t 4  &  9 & 13\\\\\n",
       "\t 5  &  6 & 14\\\\\n",
       "\\end{tabular}\n"
      ],
      "text/markdown": [
       "\n",
       "var1 | var2 | var3 | \n",
       "|---|---|---|---|---|\n",
       "| 1  | 10 | 11 | \n",
       "| 2  | NA | 15 | \n",
       "| 3  | NA | 12 | \n",
       "| 4  |  9 | 13 | \n",
       "| 5  |  6 | 14 | \n",
       "\n",
       "\n"
      ],
      "text/plain": [
       "  var1 var2 var3\n",
       "1 1    10   11  \n",
       "2 2    NA   15  \n",
       "3 3    NA   12  \n",
       "4 4     9   13  \n",
       "5 5     6   14  "
      ]
     },
     "metadata": {},
     "output_type": "display_data"
    }
   ],
   "source": [
    "library(plyr)\n",
    "arrange(X, var1) # Ordering by var1"
   ]
  },
  {
   "cell_type": "code",
   "execution_count": 14,
   "metadata": {
    "collapsed": false
   },
   "outputs": [
    {
     "data": {
      "text/html": [
       "<table>\n",
       "<thead><tr><th scope=col>var1</th><th scope=col>var2</th><th scope=col>var3</th></tr></thead>\n",
       "<tbody>\n",
       "\t<tr><td>5 </td><td> 6</td><td>14</td></tr>\n",
       "\t<tr><td>4 </td><td> 9</td><td>13</td></tr>\n",
       "\t<tr><td>3 </td><td>NA</td><td>12</td></tr>\n",
       "\t<tr><td>2 </td><td>NA</td><td>15</td></tr>\n",
       "\t<tr><td>1 </td><td>10</td><td>11</td></tr>\n",
       "</tbody>\n",
       "</table>\n"
      ],
      "text/latex": [
       "\\begin{tabular}{r|lll}\n",
       " var1 & var2 & var3\\\\\n",
       "\\hline\n",
       "\t 5  &  6 & 14\\\\\n",
       "\t 4  &  9 & 13\\\\\n",
       "\t 3  & NA & 12\\\\\n",
       "\t 2  & NA & 15\\\\\n",
       "\t 1  & 10 & 11\\\\\n",
       "\\end{tabular}\n"
      ],
      "text/markdown": [
       "\n",
       "var1 | var2 | var3 | \n",
       "|---|---|---|---|---|\n",
       "| 5  |  6 | 14 | \n",
       "| 4  |  9 | 13 | \n",
       "| 3  | NA | 12 | \n",
       "| 2  | NA | 15 | \n",
       "| 1  | 10 | 11 | \n",
       "\n",
       "\n"
      ],
      "text/plain": [
       "  var1 var2 var3\n",
       "1 5     6   14  \n",
       "2 4     9   13  \n",
       "3 3    NA   12  \n",
       "4 2    NA   15  \n",
       "5 1    10   11  "
      ]
     },
     "metadata": {},
     "output_type": "display_data"
    }
   ],
   "source": [
    "arrange(X, desc(var1)) # Ordering in descending order"
   ]
  },
  {
   "cell_type": "markdown",
   "metadata": {},
   "source": [
    "### Adding rows and columns"
   ]
  },
  {
   "cell_type": "code",
   "execution_count": 15,
   "metadata": {
    "collapsed": false
   },
   "outputs": [
    {
     "data": {
      "text/html": [
       "<table>\n",
       "<thead><tr><th></th><th scope=col>var1</th><th scope=col>var2</th><th scope=col>var3</th><th scope=col>var4</th></tr></thead>\n",
       "<tbody>\n",
       "\t<tr><th scope=row>1</th><td>2         </td><td>NA        </td><td>15        </td><td> 0.1875960</td></tr>\n",
       "\t<tr><th scope=row>4</th><td>1         </td><td>10        </td><td>11        </td><td> 1.7869764</td></tr>\n",
       "\t<tr><th scope=row>2</th><td>3         </td><td>NA        </td><td>12        </td><td> 0.4966936</td></tr>\n",
       "\t<tr><th scope=row>3</th><td>5         </td><td> 6        </td><td>14        </td><td> 0.0631830</td></tr>\n",
       "\t<tr><th scope=row>5</th><td>4         </td><td> 9        </td><td>13        </td><td>-0.5361329</td></tr>\n",
       "</tbody>\n",
       "</table>\n"
      ],
      "text/latex": [
       "\\begin{tabular}{r|llll}\n",
       "  & var1 & var2 & var3 & var4\\\\\n",
       "\\hline\n",
       "\t1 & 2          & NA         & 15         &  0.1875960\\\\\n",
       "\t4 & 1          & 10         & 11         &  1.7869764\\\\\n",
       "\t2 & 3          & NA         & 12         &  0.4966936\\\\\n",
       "\t3 & 5          &  6         & 14         &  0.0631830\\\\\n",
       "\t5 & 4          &  9         & 13         & -0.5361329\\\\\n",
       "\\end{tabular}\n"
      ],
      "text/markdown": [
       "\n",
       "| <!--/--> | var1 | var2 | var3 | var4 | \n",
       "|---|---|---|---|---|\n",
       "| 1 | 2          | NA         | 15         |  0.1875960 | \n",
       "| 4 | 1          | 10         | 11         |  1.7869764 | \n",
       "| 2 | 3          | NA         | 12         |  0.4966936 | \n",
       "| 3 | 5          |  6         | 14         |  0.0631830 | \n",
       "| 5 | 4          |  9         | 13         | -0.5361329 | \n",
       "\n",
       "\n"
      ],
      "text/plain": [
       "  var1 var2 var3 var4      \n",
       "1 2    NA   15    0.1875960\n",
       "4 1    10   11    1.7869764\n",
       "2 3    NA   12    0.4966936\n",
       "3 5     6   14    0.0631830\n",
       "5 4     9   13   -0.5361329"
      ]
     },
     "metadata": {},
     "output_type": "display_data"
    }
   ],
   "source": [
    "X$var4 <- rnorm(5) # Adding a new column var4 with a random vector\n",
    "X                  # of length 5"
   ]
  },
  {
   "cell_type": "code",
   "execution_count": 16,
   "metadata": {
    "collapsed": false
   },
   "outputs": [
    {
     "data": {
      "text/html": [
       "<table>\n",
       "<thead><tr><th></th><th scope=col>var1</th><th scope=col>var2</th><th scope=col>var3</th><th scope=col>var4</th><th scope=col>rnorm(5)</th></tr></thead>\n",
       "<tbody>\n",
       "\t<tr><th scope=row>1</th><td>2          </td><td>NA         </td><td>15         </td><td> 0.1875960 </td><td> 0.62578490</td></tr>\n",
       "\t<tr><th scope=row>4</th><td>1          </td><td>10         </td><td>11         </td><td> 1.7869764 </td><td>-2.45083750</td></tr>\n",
       "\t<tr><th scope=row>2</th><td>3          </td><td>NA         </td><td>12         </td><td> 0.4966936 </td><td> 0.08909424</td></tr>\n",
       "\t<tr><th scope=row>3</th><td>5          </td><td> 6         </td><td>14         </td><td> 0.0631830 </td><td> 0.47838570</td></tr>\n",
       "\t<tr><th scope=row>5</th><td>4          </td><td> 9         </td><td>13         </td><td>-0.5361329 </td><td> 1.00053336</td></tr>\n",
       "</tbody>\n",
       "</table>\n"
      ],
      "text/latex": [
       "\\begin{tabular}{r|lllll}\n",
       "  & var1 & var2 & var3 & var4 & rnorm(5)\\\\\n",
       "\\hline\n",
       "\t1 & 2           & NA          & 15          &  0.1875960  &  0.62578490\\\\\n",
       "\t4 & 1           & 10          & 11          &  1.7869764  & -2.45083750\\\\\n",
       "\t2 & 3           & NA          & 12          &  0.4966936  &  0.08909424\\\\\n",
       "\t3 & 5           &  6          & 14          &  0.0631830  &  0.47838570\\\\\n",
       "\t5 & 4           &  9          & 13          & -0.5361329  &  1.00053336\\\\\n",
       "\\end{tabular}\n"
      ],
      "text/markdown": [
       "\n",
       "| <!--/--> | var1 | var2 | var3 | var4 | rnorm(5) | \n",
       "|---|---|---|---|---|\n",
       "| 1 | 2           | NA          | 15          |  0.1875960  |  0.62578490 | \n",
       "| 4 | 1           | 10          | 11          |  1.7869764  | -2.45083750 | \n",
       "| 2 | 3           | NA          | 12          |  0.4966936  |  0.08909424 | \n",
       "| 3 | 5           |  6          | 14          |  0.0631830  |  0.47838570 | \n",
       "| 5 | 4           |  9          | 13          | -0.5361329  |  1.00053336 | \n",
       "\n",
       "\n"
      ],
      "text/plain": [
       "  var1 var2 var3 var4       rnorm(5)   \n",
       "1 2    NA   15    0.1875960  0.62578490\n",
       "4 1    10   11    1.7869764 -2.45083750\n",
       "2 3    NA   12    0.4966936  0.08909424\n",
       "3 5     6   14    0.0631830  0.47838570\n",
       "5 4     9   13   -0.5361329  1.00053336"
      ]
     },
     "metadata": {},
     "output_type": "display_data"
    }
   ],
   "source": [
    "Y <- cbind(X, rnorm(5)) # Column bind X and rnorm(5) into a new dataframe\n",
    "Y                       # called Y"
   ]
  },
  {
   "cell_type": "markdown",
   "metadata": {},
   "source": [
    "## Summarizing Data\n",
    "\n",
    "### Getting the data from the web"
   ]
  },
  {
   "cell_type": "code",
   "execution_count": 17,
   "metadata": {
    "collapsed": true
   },
   "outputs": [],
   "source": [
    "fileUrl <- \"https://data.baltimorecity.gov/api/views/k5ry-ef3g/rows.csv?accessType=DOWNLOAD\"\n",
    "download.file(fileUrl,destfile=\"./data/restaurants.csv\",method=\"curl\")\n",
    "restData <- read.csv(\"./data/restaurants.csv\")"
   ]
  },
  {
   "cell_type": "code",
   "execution_count": 18,
   "metadata": {
    "collapsed": false
   },
   "outputs": [
    {
     "data": {
      "text/html": [
       "<table>\n",
       "<thead><tr><th scope=col>name</th><th scope=col>zipCode</th><th scope=col>neighborhood</th><th scope=col>councilDistrict</th><th scope=col>policeDistrict</th><th scope=col>Location.1</th></tr></thead>\n",
       "<tbody>\n",
       "\t<tr><td>410                              </td><td>21206                            </td><td>Frankford                        </td><td>2                                </td><td>NORTHEASTERN                     </td><td>4509 BELAIR ROAD\n",
       "Baltimore, MD\n",
       "</td></tr>\n",
       "\t<tr><td>1919                             </td><td>21231                            </td><td>Fells Point                      </td><td>1                                </td><td>SOUTHEASTERN                     </td><td>1919 FLEET ST\n",
       "Baltimore, MD\n",
       "   </td></tr>\n",
       "\t<tr><td>SAUTE                            </td><td>21224                            </td><td>Canton                           </td><td>1                                </td><td>SOUTHEASTERN                     </td><td>2844 HUDSON ST\n",
       "Baltimore, MD\n",
       "  </td></tr>\n",
       "</tbody>\n",
       "</table>\n"
      ],
      "text/latex": [
       "\\begin{tabular}{r|llllll}\n",
       " name & zipCode & neighborhood & councilDistrict & policeDistrict & Location.1\\\\\n",
       "\\hline\n",
       "\t 410                               & 21206                             & Frankford                         & 2                                 & NORTHEASTERN                      & 4509 BELAIR ROAD\n",
       "Baltimore, MD\n",
       "\\\\\n",
       "\t 1919                              & 21231                             & Fells Point                       & 1                                 & SOUTHEASTERN                      & 1919 FLEET ST\n",
       "Baltimore, MD\n",
       "   \\\\\n",
       "\t SAUTE                             & 21224                             & Canton                            & 1                                 & SOUTHEASTERN                      & 2844 HUDSON ST\n",
       "Baltimore, MD\n",
       "  \\\\\n",
       "\\end{tabular}\n"
      ],
      "text/markdown": [
       "\n",
       "name | zipCode | neighborhood | councilDistrict | policeDistrict | Location.1 | \n",
       "|---|---|---|\n",
       "| 410                               | 21206                             | Frankford                         | 2                                 | NORTHEASTERN                      | 4509 BELAIR ROAD\n",
       "Baltimore, MD\n",
       " | \n",
       "| 1919                              | 21231                             | Fells Point                       | 1                                 | SOUTHEASTERN                      | 1919 FLEET ST\n",
       "Baltimore, MD\n",
       "    | \n",
       "| SAUTE                             | 21224                             | Canton                            | 1                                 | SOUTHEASTERN                      | 2844 HUDSON ST\n",
       "Baltimore, MD\n",
       "   | \n",
       "\n",
       "\n"
      ],
      "text/plain": [
       "  name  zipCode neighborhood councilDistrict policeDistrict\n",
       "1 410   21206   Frankford    2               NORTHEASTERN  \n",
       "2 1919  21231   Fells Point  1               SOUTHEASTERN  \n",
       "3 SAUTE 21224   Canton       1               SOUTHEASTERN  \n",
       "  Location.1                       \n",
       "1 4509 BELAIR ROAD\\nBaltimore, MD\\n\n",
       "2 1919 FLEET ST\\nBaltimore, MD\\n   \n",
       "3 2844 HUDSON ST\\nBaltimore, MD\\n  "
      ]
     },
     "metadata": {},
     "output_type": "display_data"
    }
   ],
   "source": [
    "head(restData, n=3) # Display top 3 rows of the dataframe"
   ]
  },
  {
   "cell_type": "code",
   "execution_count": 19,
   "metadata": {
    "collapsed": false
   },
   "outputs": [
    {
     "data": {
      "text/html": [
       "<table>\n",
       "<thead><tr><th></th><th scope=col>name</th><th scope=col>zipCode</th><th scope=col>neighborhood</th><th scope=col>councilDistrict</th><th scope=col>policeDistrict</th><th scope=col>Location.1</th></tr></thead>\n",
       "<tbody>\n",
       "\t<tr><th scope=row>1325</th><td>ZINK'S CAF                  </td><td>21213                             </td><td>Belair-Edison                     </td><td>13                                </td><td>NORTHEASTERN                      </td><td>3300 LAWNVIEW AVE\n",
       "Baltimore, MD\n",
       "</td></tr>\n",
       "\t<tr><th scope=row>1326</th><td>ZISSIMOS BAR                      </td><td>21211                             </td><td>Hampden                           </td><td> 7                                </td><td>NORTHERN                          </td><td>1023 36TH ST\n",
       "Baltimore, MD\n",
       "     </td></tr>\n",
       "\t<tr><th scope=row>1327</th><td>ZORBAS                            </td><td>21224                             </td><td>Greektown                         </td><td> 2                                </td><td>SOUTHEASTERN                      </td><td>4710 EASTERN Ave\n",
       "Baltimore, MD\n",
       " </td></tr>\n",
       "</tbody>\n",
       "</table>\n"
      ],
      "text/latex": [
       "\\begin{tabular}{r|llllll}\n",
       "  & name & zipCode & neighborhood & councilDistrict & policeDistrict & Location.1\\\\\n",
       "\\hline\n",
       "\t1325 & ZINK'S CAF                   & 21213                              & Belair-Edison                      & 13                                 & NORTHEASTERN                       & 3300 LAWNVIEW AVE\n",
       "Baltimore, MD\n",
       "\\\\\n",
       "\t1326 & ZISSIMOS BAR                       & 21211                              & Hampden                            &  7                                 & NORTHERN                           & 1023 36TH ST\n",
       "Baltimore, MD\n",
       "     \\\\\n",
       "\t1327 & ZORBAS                             & 21224                              & Greektown                          &  2                                 & SOUTHEASTERN                       & 4710 EASTERN Ave\n",
       "Baltimore, MD\n",
       " \\\\\n",
       "\\end{tabular}\n"
      ],
      "text/markdown": [
       "\n",
       "| <!--/--> | name | zipCode | neighborhood | councilDistrict | policeDistrict | Location.1 | \n",
       "|---|---|---|\n",
       "| 1325 | ZINK'S CAF                   | 21213                              | Belair-Edison                      | 13                                 | NORTHEASTERN                       | 3300 LAWNVIEW AVE\n",
       "Baltimore, MD\n",
       " | \n",
       "| 1326 | ZISSIMOS BAR                       | 21211                              | Hampden                            |  7                                 | NORTHERN                           | 1023 36TH ST\n",
       "Baltimore, MD\n",
       "      | \n",
       "| 1327 | ZORBAS                             | 21224                              | Greektown                          |  2                                 | SOUTHEASTERN                       | 4710 EASTERN Ave\n",
       "Baltimore, MD\n",
       "  | \n",
       "\n",
       "\n"
      ],
      "text/plain": [
       "     name             zipCode neighborhood  councilDistrict policeDistrict\n",
       "1325 ZINK'S CAF\\u0090 21213   Belair-Edison 13              NORTHEASTERN  \n",
       "1326 ZISSIMOS BAR     21211   Hampden        7              NORTHERN      \n",
       "1327 ZORBAS           21224   Greektown      2              SOUTHEASTERN  \n",
       "     Location.1                        \n",
       "1325 3300 LAWNVIEW AVE\\nBaltimore, MD\\n\n",
       "1326 1023 36TH ST\\nBaltimore, MD\\n     \n",
       "1327 4710 EASTERN Ave\\nBaltimore, MD\\n "
      ]
     },
     "metadata": {},
     "output_type": "display_data"
    }
   ],
   "source": [
    "tail(restData,n=3) # Display the botton 3 rows of the dataframe"
   ]
  },
  {
   "cell_type": "markdown",
   "metadata": {},
   "source": [
    "### Make summary\n",
    "For variables that are quantitative, in this case it's treating zip code as a quantitative variable. It'll tell you the minimum, the first quartile, the median, and so forth. So this has already given us an interesting bit of information because one of the zip codes is actually coded as a negative value, which obviously probably shouldn't have happened. "
   ]
  },
  {
   "cell_type": "code",
   "execution_count": 20,
   "metadata": {
    "collapsed": false
   },
   "outputs": [
    {
     "data": {
      "text/plain": [
       "                           name         zipCode             neighborhood\n",
       " MCDONALD'S                  :   8   Min.   :-21226   Downtown    :128  \n",
       " POPEYES FAMOUS FRIED CHICKEN:   7   1st Qu.: 21202   Fells Point : 91  \n",
       " SUBWAY                      :   6   Median : 21218   Inner Harbor: 89  \n",
       " KENTUCKY FRIED CHICKEN      :   5   Mean   : 21185   Canton      : 81  \n",
       " BURGER KING                 :   4   3rd Qu.: 21226   Federal Hill: 42  \n",
       " DUNKIN DONUTS               :   4   Max.   : 21287   Mount Vernon: 33  \n",
       " (Other)                     :1293                    (Other)     :863  \n",
       " councilDistrict       policeDistrict                          Location.1    \n",
       " Min.   : 1.000   SOUTHEASTERN:385    1101 RUSSELL ST\\nBaltimore, MD\\n:   9  \n",
       " 1st Qu.: 2.000   CENTRAL     :288    201 PRATT ST\\nBaltimore, MD\\n   :   8  \n",
       " Median : 9.000   SOUTHERN    :213    2400 BOSTON ST\\nBaltimore, MD\\n :   8  \n",
       " Mean   : 7.191   NORTHERN    :157    300 LIGHT ST\\nBaltimore, MD\\n   :   5  \n",
       " 3rd Qu.:11.000   NORTHEASTERN: 72    300 CHARLES ST\\nBaltimore, MD\\n :   4  \n",
       " Max.   :14.000   EASTERN     : 67    301 LIGHT ST\\nBaltimore, MD\\n   :   4  \n",
       "                  (Other)     :145    (Other)                         :1289  "
      ]
     },
     "metadata": {},
     "output_type": "display_data"
    }
   ],
   "source": [
    "summary(restData)"
   ]
  },
  {
   "cell_type": "markdown",
   "metadata": {},
   "source": [
    "### More in depth information"
   ]
  },
  {
   "cell_type": "code",
   "execution_count": 21,
   "metadata": {
    "collapsed": false
   },
   "outputs": [
    {
     "name": "stdout",
     "output_type": "stream",
     "text": [
      "'data.frame':\t1327 obs. of  6 variables:\n",
      " $ name           : Factor w/ 1277 levels \"#1 CHINESE KITCHEN\",..: 9 3 992 1 2 4 5 6 7 8 ...\n",
      " $ zipCode        : int  21206 21231 21224 21211 21223 21218 21205 21211 21205 21231 ...\n",
      " $ neighborhood   : Factor w/ 173 levels \"Abell\",\"Arlington\",..: 53 52 18 66 104 33 98 133 98 157 ...\n",
      " $ councilDistrict: int  2 1 1 14 9 14 13 7 13 1 ...\n",
      " $ policeDistrict : Factor w/ 9 levels \"CENTRAL\",\"EASTERN\",..: 3 6 6 4 8 3 6 4 6 6 ...\n",
      " $ Location.1     : Factor w/ 1210 levels \"1 BIDDLE ST\\nBaltimore, MD\\n\",..: 835 334 554 755 492 537 505 530 507 569 ...\n"
     ]
    }
   ],
   "source": [
    "str(restData) # show the structure of the dataframe"
   ]
  },
  {
   "cell_type": "markdown",
   "metadata": {},
   "source": [
    "### Quantiles of quantitative variables"
   ]
  },
  {
   "cell_type": "code",
   "execution_count": 22,
   "metadata": {
    "collapsed": false
   },
   "outputs": [
    {
     "data": {
      "text/html": [
       "<dl class=dl-horizontal>\n",
       "\t<dt>0%</dt>\n",
       "\t\t<dd>1</dd>\n",
       "\t<dt>25%</dt>\n",
       "\t\t<dd>2</dd>\n",
       "\t<dt>50%</dt>\n",
       "\t\t<dd>9</dd>\n",
       "\t<dt>75%</dt>\n",
       "\t\t<dd>11</dd>\n",
       "\t<dt>100%</dt>\n",
       "\t\t<dd>14</dd>\n",
       "</dl>\n"
      ],
      "text/latex": [
       "\\begin{description*}\n",
       "\\item[0\\textbackslash{}\\%] 1\n",
       "\\item[25\\textbackslash{}\\%] 2\n",
       "\\item[50\\textbackslash{}\\%] 9\n",
       "\\item[75\\textbackslash{}\\%] 11\n",
       "\\item[100\\textbackslash{}\\%] 14\n",
       "\\end{description*}\n"
      ],
      "text/markdown": [
       "0%\n",
       ":   125%\n",
       ":   250%\n",
       ":   975%\n",
       ":   11100%\n",
       ":   14\n",
       "\n"
      ],
      "text/plain": [
       "  0%  25%  50%  75% 100% \n",
       "   1    2    9   11   14 "
      ]
     },
     "metadata": {},
     "output_type": "display_data"
    }
   ],
   "source": [
    "quantile(restData$councilDistrict,na.rm=TRUE)"
   ]
  },
  {
   "cell_type": "code",
   "execution_count": 23,
   "metadata": {
    "collapsed": false
   },
   "outputs": [
    {
     "data": {
      "text/html": [
       "<dl class=dl-horizontal>\n",
       "\t<dt>50%</dt>\n",
       "\t\t<dd>9</dd>\n",
       "\t<dt>75%</dt>\n",
       "\t\t<dd>11</dd>\n",
       "\t<dt>90%</dt>\n",
       "\t\t<dd>12</dd>\n",
       "</dl>\n"
      ],
      "text/latex": [
       "\\begin{description*}\n",
       "\\item[50\\textbackslash{}\\%] 9\n",
       "\\item[75\\textbackslash{}\\%] 11\n",
       "\\item[90\\textbackslash{}\\%] 12\n",
       "\\end{description*}\n"
      ],
      "text/markdown": [
       "50%\n",
       ":   975%\n",
       ":   1190%\n",
       ":   12\n",
       "\n"
      ],
      "text/plain": [
       "50% 75% 90% \n",
       "  9  11  12 "
      ]
     },
     "metadata": {},
     "output_type": "display_data"
    }
   ],
   "source": [
    "quantile(restData$councilDistrict,probs=c(0.5,0.75,0.9))"
   ]
  },
  {
   "cell_type": "markdown",
   "metadata": {},
   "source": [
    "### Make table"
   ]
  },
  {
   "cell_type": "code",
   "execution_count": 24,
   "metadata": {
    "collapsed": false
   },
   "outputs": [
    {
     "data": {
      "text/plain": [
       "\n",
       "-21226  21201  21202  21205  21206  21207  21208  21209  21210  21211  21212 \n",
       "     1    136    201     27     30      4      1      8     23     41     28 \n",
       " 21213  21214  21215  21216  21217  21218  21220  21222  21223  21224  21225 \n",
       "    31     17     54     10     32     69      1      7     56    199     19 \n",
       " 21226  21227  21229  21230  21231  21234  21237  21239  21251  21287 \n",
       "    18      4     13    156    127      7      1      3      2      1 "
      ]
     },
     "metadata": {},
     "output_type": "display_data"
    }
   ],
   "source": [
    "table(restData$zipCode,useNA=\"ifany\") # Making a table of zipcodes\n",
    "# useNA=\"ifany\" adds another column of NAs if there are any"
   ]
  },
  {
   "cell_type": "code",
   "execution_count": 37,
   "metadata": {
    "collapsed": false
   },
   "outputs": [
    {
     "data": {
      "text/plain": [
       "   \n",
       "    -21226 21201 21202 21205 21206 21207 21208 21209 21210 21211 21212 21213\n",
       "  1      0     0    37     0     0     0     0     0     0     0     0     2\n",
       "  2      0     0     0     3    27     0     0     0     0     0     0     0\n",
       "  3      0     0     0     0     0     0     0     0     0     0     0     2\n",
       "  4      0     0     0     0     0     0     0     0     0     0    27     0\n",
       "  5      0     0     0     0     0     3     0     6     0     0     0     0\n",
       "  6      0     0     0     0     0     0     0     1    19     0     0     0\n",
       "   \n",
       "    21214 21215 21216 21217 21218 21220 21222 21223 21224 21225 21226 21227\n",
       "  1     0     0     0     0     0     0     7     0   140     1     0     0\n",
       "  2     0     0     0     0     0     0     0     0    54     0     0     0\n",
       "  3    17     0     0     0     3     0     0     0     0     0     0     1\n",
       "  4     0     0     0     0     0     0     0     0     0     0     0     0\n",
       "  5     0    31     0     0     0     0     0     0     0     0     0     0\n",
       "  6     0    15     1     0     0     0     0     0     0     0     0     0\n",
       "   \n",
       "    21229 21230 21231 21234 21237 21239 21251 21287\n",
       "  1     0     1   124     0     0     0     0     0\n",
       "  2     0     0     0     0     1     0     0     0\n",
       "  3     0     0     0     7     0     0     2     0\n",
       "  4     0     0     0     0     0     3     0     0\n",
       "  5     0     0     0     0     0     0     0     0\n",
       "  6     0     0     0     0     0     0     0     0"
      ]
     },
     "metadata": {},
     "output_type": "display_data"
    }
   ],
   "source": [
    "head(table(restData$councilDistrict,restData$zipCode)) # Making a 2D table by \n",
    "# zipcode (columns) vs district (rows)"
   ]
  },
  {
   "cell_type": "markdown",
   "metadata": {},
   "source": [
    "### Check for missing values"
   ]
  },
  {
   "cell_type": "code",
   "execution_count": 26,
   "metadata": {
    "collapsed": false
   },
   "outputs": [
    {
     "data": {
      "text/html": [
       "0"
      ],
      "text/latex": [
       "0"
      ],
      "text/markdown": [
       "0"
      ],
      "text/plain": [
       "[1] 0"
      ]
     },
     "metadata": {},
     "output_type": "display_data"
    }
   ],
   "source": [
    "sum(is.na(restData$councilDistrict)) # Total # of NAs in councilDistrict"
   ]
  },
  {
   "cell_type": "code",
   "execution_count": 27,
   "metadata": {
    "collapsed": false
   },
   "outputs": [
    {
     "data": {
      "text/html": [
       "FALSE"
      ],
      "text/latex": [
       "FALSE"
      ],
      "text/markdown": [
       "FALSE"
      ],
      "text/plain": [
       "[1] FALSE"
      ]
     },
     "metadata": {},
     "output_type": "display_data"
    }
   ],
   "source": [
    "any(is.na(restData$councilDistrict)) # Is there any NAs in councilDistrict?"
   ]
  },
  {
   "cell_type": "code",
   "execution_count": 28,
   "metadata": {
    "collapsed": false
   },
   "outputs": [
    {
     "data": {
      "text/html": [
       "FALSE"
      ],
      "text/latex": [
       "FALSE"
      ],
      "text/markdown": [
       "FALSE"
      ],
      "text/plain": [
       "[1] FALSE"
      ]
     },
     "metadata": {},
     "output_type": "display_data"
    }
   ],
   "source": [
    "all(restData$zipCode > 0) # Are all the zipcodes > 0?"
   ]
  },
  {
   "cell_type": "markdown",
   "metadata": {},
   "source": [
    "### Row and Column Sums"
   ]
  },
  {
   "cell_type": "code",
   "execution_count": 29,
   "metadata": {
    "collapsed": false
   },
   "outputs": [
    {
     "data": {
      "text/html": [
       "<dl class=dl-horizontal>\n",
       "\t<dt>name</dt>\n",
       "\t\t<dd>0</dd>\n",
       "\t<dt>zipCode</dt>\n",
       "\t\t<dd>0</dd>\n",
       "\t<dt>neighborhood</dt>\n",
       "\t\t<dd>0</dd>\n",
       "\t<dt>councilDistrict</dt>\n",
       "\t\t<dd>0</dd>\n",
       "\t<dt>policeDistrict</dt>\n",
       "\t\t<dd>0</dd>\n",
       "\t<dt>Location.1</dt>\n",
       "\t\t<dd>0</dd>\n",
       "</dl>\n"
      ],
      "text/latex": [
       "\\begin{description*}\n",
       "\\item[name] 0\n",
       "\\item[zipCode] 0\n",
       "\\item[neighborhood] 0\n",
       "\\item[councilDistrict] 0\n",
       "\\item[policeDistrict] 0\n",
       "\\item[Location.1] 0\n",
       "\\end{description*}\n"
      ],
      "text/markdown": [
       "name\n",
       ":   0zipCode\n",
       ":   0neighborhood\n",
       ":   0councilDistrict\n",
       ":   0policeDistrict\n",
       ":   0Location.1\n",
       ":   0\n",
       "\n"
      ],
      "text/plain": [
       "           name         zipCode    neighborhood councilDistrict  policeDistrict \n",
       "              0               0               0               0               0 \n",
       "     Location.1 \n",
       "              0 "
      ]
     },
     "metadata": {},
     "output_type": "display_data"
    }
   ],
   "source": [
    "colSums(is.na(restData)) # Total # of NAs across all the columns"
   ]
  },
  {
   "cell_type": "code",
   "execution_count": 30,
   "metadata": {
    "collapsed": false
   },
   "outputs": [
    {
     "data": {
      "text/html": [
       "TRUE"
      ],
      "text/latex": [
       "TRUE"
      ],
      "text/markdown": [
       "TRUE"
      ],
      "text/plain": [
       "[1] TRUE"
      ]
     },
     "metadata": {},
     "output_type": "display_data"
    }
   ],
   "source": [
    "all(colSums(is.na(restData))==0) # Do all the columns have ==0 NAs?"
   ]
  },
  {
   "cell_type": "markdown",
   "metadata": {},
   "source": [
    "### Values with specific characteristics"
   ]
  },
  {
   "cell_type": "code",
   "execution_count": 32,
   "metadata": {
    "collapsed": false
   },
   "outputs": [
    {
     "data": {
      "text/plain": [
       "\n",
       "FALSE  TRUE \n",
       " 1299    28 "
      ]
     },
     "metadata": {},
     "output_type": "display_data"
    }
   ],
   "source": [
    "table(restData$zipCode %in% c(\"21212\")) # Are there any zipcodes with the\n",
    "                                        # value 21212?"
   ]
  },
  {
   "cell_type": "code",
   "execution_count": 33,
   "metadata": {
    "collapsed": false
   },
   "outputs": [
    {
     "data": {
      "text/plain": [
       "\n",
       "FALSE  TRUE \n",
       " 1268    59 "
      ]
     },
     "metadata": {},
     "output_type": "display_data"
    }
   ],
   "source": [
    "table(restData$zipCode %in% c(\"21212\", \"21213\"))\n",
    "# Are there any zipcodes with either value 21212 or 21213?"
   ]
  },
  {
   "cell_type": "code",
   "execution_count": 36,
   "metadata": {
    "collapsed": false
   },
   "outputs": [
    {
     "data": {
      "text/html": [
       "<table>\n",
       "<thead><tr><th></th><th scope=col>name</th><th scope=col>zipCode</th><th scope=col>neighborhood</th><th scope=col>councilDistrict</th><th scope=col>policeDistrict</th><th scope=col>Location.1</th></tr></thead>\n",
       "<tbody>\n",
       "\t<tr><th scope=row>29</th><td>BAY ATLANTIC CLUB                 </td><td>21212                             </td><td>Downtown                          </td><td>11                                </td><td>CENTRAL                           </td><td>206 REDWOOD ST\n",
       "Baltimore, MD\n",
       "   </td></tr>\n",
       "\t<tr><th scope=row>39</th><td>BERMUDA BAR                       </td><td>21213                             </td><td>Broadway East                     </td><td>12                                </td><td>EASTERN                           </td><td>1801 NORTH AVE\n",
       "Baltimore, MD\n",
       "   </td></tr>\n",
       "\t<tr><th scope=row>92</th><td>ATWATER'S                         </td><td>21212                             </td><td>Chinquapin Park-Belvedere         </td><td> 4                                </td><td>NORTHERN                          </td><td>529 BELVEDERE AVE\n",
       "Baltimore, MD\n",
       "</td></tr>\n",
       "</tbody>\n",
       "</table>\n"
      ],
      "text/latex": [
       "\\begin{tabular}{r|llllll}\n",
       "  & name & zipCode & neighborhood & councilDistrict & policeDistrict & Location.1\\\\\n",
       "\\hline\n",
       "\t29 & BAY ATLANTIC CLUB                  & 21212                              & Downtown                           & 11                                 & CENTRAL                            & 206 REDWOOD ST\n",
       "Baltimore, MD\n",
       "   \\\\\n",
       "\t39 & BERMUDA BAR                        & 21213                              & Broadway East                      & 12                                 & EASTERN                            & 1801 NORTH AVE\n",
       "Baltimore, MD\n",
       "   \\\\\n",
       "\t92 & ATWATER'S                          & 21212                              & Chinquapin Park-Belvedere          &  4                                 & NORTHERN                           & 529 BELVEDERE AVE\n",
       "Baltimore, MD\n",
       "\\\\\n",
       "\\end{tabular}\n"
      ],
      "text/markdown": [
       "\n",
       "| <!--/--> | name | zipCode | neighborhood | councilDistrict | policeDistrict | Location.1 | \n",
       "|---|---|---|\n",
       "| 29 | BAY ATLANTIC CLUB                  | 21212                              | Downtown                           | 11                                 | CENTRAL                            | 206 REDWOOD ST\n",
       "Baltimore, MD\n",
       "    | \n",
       "| 39 | BERMUDA BAR                        | 21213                              | Broadway East                      | 12                                 | EASTERN                            | 1801 NORTH AVE\n",
       "Baltimore, MD\n",
       "    | \n",
       "| 92 | ATWATER'S                          | 21212                              | Chinquapin Park-Belvedere          |  4                                 | NORTHERN                           | 529 BELVEDERE AVE\n",
       "Baltimore, MD\n",
       " | \n",
       "\n",
       "\n"
      ],
      "text/plain": [
       "   name              zipCode neighborhood              councilDistrict\n",
       "29 BAY ATLANTIC CLUB 21212   Downtown                  11             \n",
       "39 BERMUDA BAR       21213   Broadway East             12             \n",
       "92 ATWATER'S         21212   Chinquapin Park-Belvedere  4             \n",
       "   policeDistrict Location.1                        \n",
       "29 CENTRAL        206 REDWOOD ST\\nBaltimore, MD\\n   \n",
       "39 EASTERN        1801 NORTH AVE\\nBaltimore, MD\\n   \n",
       "92 NORTHERN       529 BELVEDERE AVE\\nBaltimore, MD\\n"
      ]
     },
     "metadata": {},
     "output_type": "display_data"
    }
   ],
   "source": [
    "head(restData[restData$zipCode %in% c(\"21212\", \"21213\"),], n=3)\n",
    "# Show the first 3 rows of the subset of restData that contains the \n",
    "# zipcode of 21212 or 21213"
   ]
  },
  {
   "cell_type": "markdown",
   "metadata": {},
   "source": [
    "### Cross Tabs"
   ]
  },
  {
   "cell_type": "code",
   "execution_count": 38,
   "metadata": {
    "collapsed": false,
    "scrolled": true
   },
   "outputs": [
    {
     "data": {
      "text/plain": [
       "      Admit       Gender   Dept       Freq      \n",
       " Admitted:12   Male  :12   A:4   Min.   :  8.0  \n",
       " Rejected:12   Female:12   B:4   1st Qu.: 80.0  \n",
       "                           C:4   Median :170.0  \n",
       "                           D:4   Mean   :188.6  \n",
       "                           E:4   3rd Qu.:302.5  \n",
       "                           F:4   Max.   :512.0  "
      ]
     },
     "metadata": {},
     "output_type": "display_data"
    }
   ],
   "source": [
    "data(UCBAdmissions)\n",
    "DF = as.data.frame(UCBAdmissions)\n",
    "summary(DF)"
   ]
  },
  {
   "cell_type": "code",
   "execution_count": 39,
   "metadata": {
    "collapsed": false
   },
   "outputs": [
    {
     "data": {
      "text/plain": [
       "        Admit\n",
       "Gender   Admitted Rejected\n",
       "  Male       1198     1493\n",
       "  Female      557     1278"
      ]
     },
     "metadata": {},
     "output_type": "display_data"
    }
   ],
   "source": [
    "xt <- xtabs(Freq ~ Gender + Admit, data=DF)\n",
    "xt # Show the frequency of admissions of gender"
   ]
  },
  {
   "cell_type": "markdown",
   "metadata": {},
   "source": [
    "### Flat Tables"
   ]
  },
  {
   "cell_type": "code",
   "execution_count": 44,
   "metadata": {
    "collapsed": false
   },
   "outputs": [
    {
     "data": {
      "text/plain": [
       ", , replicate = 1\n",
       "\n",
       "    tension\n",
       "wool  L  M  H\n",
       "   A 26 18 36\n",
       "   B 27 42 20\n",
       "\n",
       ", , replicate = 2\n",
       "\n",
       "    tension\n",
       "wool  L  M  H\n",
       "   A 30 21 21\n",
       "   B 14 26 21\n",
       "\n",
       ", , replicate = 3\n",
       "\n",
       "    tension\n",
       "wool  L  M  H\n",
       "   A 54 29 24\n",
       "   B 29 19 24\n",
       "\n",
       ", , replicate = 4\n",
       "\n",
       "    tension\n",
       "wool  L  M  H\n",
       "   A 25 17 18\n",
       "   B 19 16 17\n",
       "\n",
       ", , replicate = 5\n",
       "\n",
       "    tension\n",
       "wool  L  M  H\n",
       "   A 70 12 10\n",
       "   B 29 39 13\n",
       "\n",
       ", , replicate = 6\n",
       "\n",
       "    tension\n",
       "wool  L  M  H\n",
       "   A 52 18 43\n",
       "   B 31 28 15\n",
       "\n",
       ", , replicate = 7\n",
       "\n",
       "    tension\n",
       "wool  L  M  H\n",
       "   A 51 35 28\n",
       "   B 41 21 15\n",
       "\n",
       ", , replicate = 8\n",
       "\n",
       "    tension\n",
       "wool  L  M  H\n",
       "   A 26 30 15\n",
       "   B 20 39 16\n",
       "\n",
       ", , replicate = 9\n",
       "\n",
       "    tension\n",
       "wool  L  M  H\n",
       "   A 67 36 26\n",
       "   B 44 29 28\n"
      ]
     },
     "metadata": {},
     "output_type": "display_data"
    }
   ],
   "source": [
    "warpbreaks$replicate <- rep(1:9, len=54)\n",
    "xt = xtabs(breaks ~.,data=warpbreaks)\n",
    "xt"
   ]
  },
  {
   "cell_type": "code",
   "execution_count": 45,
   "metadata": {
    "collapsed": false
   },
   "outputs": [
    {
     "data": {
      "text/plain": [
       "             replicate  1  2  3  4  5  6  7  8  9\n",
       "wool tension                                     \n",
       "A    L                 26 30 54 25 70 52 51 26 67\n",
       "     M                 18 21 29 17 12 18 35 30 36\n",
       "     H                 36 21 24 18 10 43 28 15 26\n",
       "B    L                 27 14 29 19 29 31 41 20 44\n",
       "     M                 42 26 19 16 39 28 21 39 29\n",
       "     H                 20 21 24 17 13 15 15 16 28"
      ]
     },
     "metadata": {},
     "output_type": "display_data"
    }
   ],
   "source": [
    "ftable(xt)"
   ]
  },
  {
   "cell_type": "markdown",
   "metadata": {},
   "source": [
    "### Size of a data set"
   ]
  },
  {
   "cell_type": "code",
   "execution_count": 46,
   "metadata": {
    "collapsed": false
   },
   "outputs": [
    {
     "data": {
      "text/plain": [
       "800040 bytes"
      ]
     },
     "metadata": {},
     "output_type": "display_data"
    }
   ],
   "source": [
    "fakeData = rnorm(1e5)\n",
    "object.size(fakeData)"
   ]
  },
  {
   "cell_type": "code",
   "execution_count": 47,
   "metadata": {
    "collapsed": false
   },
   "outputs": [
    {
     "name": "stdout",
     "output_type": "stream",
     "text": [
      "0.8 Mb\n"
     ]
    }
   ],
   "source": [
    "print(object.size(fakeData),units=\"Mb\")"
   ]
  },
  {
   "cell_type": "markdown",
   "metadata": {},
   "source": [
    "## Creating New Variables\n",
    "### Why create new variables?\n",
    "\n",
    "* Often the raw data won't have a value you are looking for\n",
    "* You will need to transform the data to get the values yo"
   ]
  }
 ],
 "metadata": {
  "kernelspec": {
   "display_name": "R",
   "language": "R",
   "name": "ir"
  },
  "language_info": {
   "codemirror_mode": "r",
   "file_extension": ".r",
   "mimetype": "text/x-r-source",
   "name": "R",
   "pygments_lexer": "r",
   "version": "3.3.2"
  }
 },
 "nbformat": 4,
 "nbformat_minor": 2
}
